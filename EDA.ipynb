{
 "cells": [
  {
   "cell_type": "markdown",
   "id": "1d70541b",
   "metadata": {
    "cell_id": "fbbdc3f5-723a-4cbf-8b76-e4d61ef42161",
    "deepnote_cell_height": 600.59375,
    "deepnote_cell_type": "markdown",
    "id": "AF9tZEN3ViLA"
   },
   "source": [
    "Hello \n",
    "W ostatnich latach wzrosła koncentracja firm na zasobach ludzkich. Umiejętności i wiedza pracowników stanowią bardzo solidny fundament dla przedsiębiorstwa do budowania przewagi nad konkurencją i są niezbędnym składnikiem do dalszego rozwoju organizacji. Z tych powodów utrzymanie pracowników ramach organizacji jest kluczową kwestia do zajęcia się przez działy HR - utrata wartościowych pracowników jest bardzo kosztowna dla przedsiębiorstwa, a zatrudnianie nowych generuje wyższe koszty niż utrzymanie już tych obecnych.\n",
    "\n",
    "Innowacje związane z podejmowaniem decyzji na podstawie analizy danych wkraczają również do świata HR. Wyobraź sobie, że pracujesz w firmie SKNS Investment Ltd. jako analityk danych, a dział HR potrzebuje analizy która ułatwi proces decyzji co do przywiązania większej uwagi do pewnych grup pracowników na podstawie kryteriów obecnych w danym poniżej zbiorze danych. Dział HR dysponuje zbiorem danych o ocenach miesięcznych pracowników z działu sprzedaży ubezpieczeń do nowych klientów o następujących kolumnach:\n",
    "1. MMM.YY - Dzień wpisania oceny miesięcznej pracownika do bazy\n",
    "2. Emp_ID - Identyfikator pracownika\n",
    "3. Age - Wiek\n",
    "4. Gender - Płeć\n",
    "5. City - Identyfikator dla oddziału mieszczącego się w danym mieście\n",
    "6. Education_Level - Bachelor / College / Master\n",
    "7. Salary - Wynagrodzenie roczne\n",
    "8. Dateofjoining - Data dołączenia do firmy\n",
    "9. LastWorkingDate - Data odejścia, jeśli pracownik odszedł w danym okresie\n",
    "10. Joining.Designation - pięciostopniowy poziom kwalifikacji podczas rekrutacji (1 - niski poziom, 5 - bardzo wysoki poziom)\n",
    "11. Designation - aktualny poziom kwalifikacji\n",
    "12. Total.Business.Value - Sumaryczna ilość sprzedanych ubezpieczeń (KPI z którego są rozliczani w perspektywie miesięcznej)\n",
    "13. Quarterly.Rating - ocena roczna (1 - niski poziom, 5 bardzo wysoki poziom)\n",
    "podczas\n",
    "Sporządź wstępną analizę wynikającą z eksploracji dołączonego zbioru danych, z przedstawieniem kluczowych wniosków dla działu HR, którzy pracownicy mają większą a którzy mniejszą szansę na odejście z firmy w najbliższym czasie. Dołączona analiza ma zostać przygotowana przy pomocy jednego z języków programowania (akceptowane są wyłącznie Python/R/Julia) w Jupyter Notebook wraz z wykresami pokazującymi odpowiednie zauważone przez Waszą drużynę zależności.\n",
    "\n"
   ]
  },
  {
   "cell_type": "markdown",
   "id": "8a2450a5",
   "metadata": {
    "cell_id": "a261a2decfa949a3b60804dbccdcaaba",
    "deepnote_cell_type": "text-cell-h3",
    "is_collapsed": false,
    "tags": []
   },
   "source": [
    "### Streszczenie"
   ]
  },
  {
   "cell_type": "markdown",
   "id": "742bef94",
   "metadata": {
    "cell_id": "773bd44637114de7952420d617e44625",
    "deepnote_cell_type": "text-cell-p",
    "is_collapsed": false,
    "tags": []
   },
   "source": [
    "W ostatnich latach wzrosła koncentracja firm na zasobach ludzkich. Umiejętności i wiedza pracowników stanowią bardzo solidny fundament dla przedsiębiorstwa do budowania przewagi nad konkurencją i są niezbędnym składnikiem do dalszego rozwoju organizacji. Z tych powodów utrzymanie pracowników w ramach organizacji jest kluczową kwestia do zajęcia się przez działy HR - utrata wartościowych pracowników jest bardzo kosztowna dla przedsiębiorstwa, a zatrudnianie nowych generuje wyższe koszty niż utrzymanie już tych obecnych. "
   ]
  },
  {
   "cell_type": "markdown",
   "id": "018c914a",
   "metadata": {
    "cell_id": "f11977b69bcd4c92ad22186caeaf511e",
    "deepnote_cell_type": "text-cell-p",
    "is_collapsed": false,
    "owner_user_id": "0942fe7c-d564-4958-aa37-7e4a0f05d61c",
    "tags": []
   },
   "source": [
    "Popularnosc wykorzystania sztucznej inteligencji, metod machine learning i deep learning w działach HR rośnie. Rozwój organizacji i jej stabilnosc w duzym stopniu związana jest z rotacją pracowników, będącą ważnym czynnikiem ryzyka biznesowego. Według szacunków portalu strefabiznesu.pl w najbardziej dynamicznych sektorach, takich jak IT czy SSC/BPO rotacja w 2022 roku będzie sięgać 25 proc. To znaczy, że firmy mogą stracić nawet co czwartego pracownika."
   ]
  },
  {
   "cell_type": "code",
   "execution_count": 151,
   "id": "92720754",
   "metadata": {
    "cell_id": "00001-a3ba12a2-3810-454d-94f3-b0ac67200be5",
    "deepnote_cell_height": 261,
    "deepnote_cell_type": "code",
    "deepnote_to_be_reexecuted": false,
    "execution_millis": 3176,
    "execution_start": 1649274011911,
    "id": "8874b9b9",
    "source_hash": "eeadbf91"
   },
   "outputs": [],
   "source": [
    "import numpy as np\n",
    "import pandas as pd\n",
    "import matplotlib\n",
    "from matplotlib import pyplot as plt\n",
    "%matplotlib inline\n",
    "from scipy import stats\n",
    "import seaborn as sns\n",
    "\n",
    "matplotlib.rcParams['figure.figsize'] = [15, 9]\n",
    "\n",
    "pd.options.mode.chained_assignment = None  # default='warn'"
   ]
  },
  {
   "cell_type": "code",
   "execution_count": 152,
   "id": "56bb0175",
   "metadata": {
    "cell_id": "00003-f776b67e-0ca8-4f3a-981a-7f08ca5926ca",
    "deepnote_cell_height": 99,
    "deepnote_cell_type": "code",
    "deepnote_to_be_reexecuted": false,
    "execution_millis": 62,
    "execution_start": 1649274043566,
    "id": "2944da95",
    "source_hash": "d09cc96a"
   },
   "outputs": [],
   "source": [
    "url = 'https://raw.githubusercontent.com/blaszczuknw/hackathon_skns/main/Attrition_dataset.csv'\n",
    "df = pd.read_csv(url, sep = \";\")\n",
    "\n",
    "url_cities = 'https://raw.githubusercontent.com/blaszczuknw/hackathon_skns/main/Cities_map.csv'\n",
    "df_cities = pd.read_csv(url_cities, sep = \";\")"
   ]
  },
  {
   "cell_type": "code",
   "execution_count": 153,
   "id": "55223776",
   "metadata": {
    "cell_id": "00005-2139c5a3-7cd9-4d6a-89a5-412335a5eb5f",
    "colab": {
     "base_uri": "https://localhost:8080/",
     "height": 206
    },
    "deepnote_cell_height": 660,
    "deepnote_cell_type": "code",
    "deepnote_output_heights": [
     177
    ],
    "deepnote_table_invalid": true,
    "deepnote_table_loading": false,
    "deepnote_table_state": {
     "filters": [],
     "pageIndex": 38,
     "pageSize": 10,
     "sortBy": []
    },
    "deepnote_to_be_reexecuted": false,
    "execution_millis": 117,
    "execution_start": 1649274591513,
    "id": "8069cbd4",
    "outputId": "e81e1169-1b71-4779-9dee-c9e6f1a9205c",
    "owner_user_id": "0921527d-3c46-4fae-937a-d104a4143692",
    "source_hash": "d7192e7d"
   },
   "outputs": [
    {
     "name": "stdout",
     "output_type": "stream",
     "text": [
      "<class 'pandas.core.frame.DataFrame'>\n",
      "RangeIndex: 19190 entries, 0 to 19189\n",
      "Data columns (total 13 columns):\n",
      " #   Column                Non-Null Count  Dtype \n",
      "---  ------                --------------  ----- \n",
      " 0   Emp_ID                19190 non-null  int64 \n",
      " 1   MMM.YY                19190 non-null  object\n",
      " 2   Age                   19190 non-null  int64 \n",
      " 3   Salary                19190 non-null  object\n",
      " 4   LastWorkingDate       1628 non-null   object\n",
      " 5   Designation           19190 non-null  int64 \n",
      " 6   Total.Business.Value  19190 non-null  int64 \n",
      " 7   Quarterly.Rating      19190 non-null  int64 \n",
      " 8   Gender                19190 non-null  object\n",
      " 9   City                  19190 non-null  object\n",
      " 10  Education_Level       19190 non-null  object\n",
      " 11  Dateofjoining         19190 non-null  object\n",
      " 12  Joining.Designation   19190 non-null  int64 \n",
      "dtypes: int64(6), object(7)\n",
      "memory usage: 1.9+ MB\n"
     ]
    }
   ],
   "source": [
    "df.info()"
   ]
  },
  {
   "cell_type": "code",
   "execution_count": 154,
   "id": "cef56cd7",
   "metadata": {
    "cell_id": "00006-a2eb9a13-9cd0-4f40-9288-c7a4de178eed",
    "colab": {
     "base_uri": "https://localhost:8080/"
    },
    "deepnote_cell_height": 137.375,
    "deepnote_cell_type": "code",
    "deepnote_output_heights": [
     40.375
    ],
    "deepnote_to_be_reexecuted": false,
    "execution_millis": 8,
    "execution_start": 1649274367879,
    "id": "0d3dff3d",
    "outputId": "ecd6953f-5a5a-4228-b9cb-2bcef35d8241",
    "source_hash": "2d699ba8"
   },
   "outputs": [
    {
     "data": {
      "text/plain": [
       "array(['MASTER', 'Master', 'Colege', 'Bachelor', 'College', \"Bachelor's\"],\n",
       "      dtype=object)"
      ]
     },
     "execution_count": 154,
     "metadata": {},
     "output_type": "execute_result"
    }
   ],
   "source": [
    "df.Education_Level.unique()"
   ]
  },
  {
   "cell_type": "markdown",
   "id": "5576c24e",
   "metadata": {
    "cell_id": "00007-1df94eff-28d0-4325-a09a-0547e8cd37be",
    "deepnote_cell_height": 52.390625,
    "deepnote_cell_type": "markdown",
    "id": "RG1pY1hWVRHM"
   },
   "source": [
    "W kolumnie \"Education_Level\" są użyte różne nazwy na te same stopnie edukacji, wieć standaryzują to nazewnictwo"
   ]
  },
  {
   "cell_type": "code",
   "execution_count": 155,
   "id": "4ac2f223",
   "metadata": {
    "cell_id": "00008-6835e21b-4b42-4a64-8a96-a391f730486c",
    "deepnote_cell_height": 81,
    "deepnote_cell_type": "code",
    "deepnote_to_be_reexecuted": false,
    "execution_millis": 38,
    "execution_start": 1649274369056,
    "id": "90340cfb",
    "source_hash": "595e53aa"
   },
   "outputs": [],
   "source": [
    "df = df.replace(to_replace = {'MASTER':'Master', 'Colege':'College', \"Bachelor's\":'Bachelor'})"
   ]
  },
  {
   "cell_type": "code",
   "execution_count": 156,
   "id": "da7c614f",
   "metadata": {
    "cell_id": "00010-f74af4b1-7b53-4730-b939-e4cb9a927324",
    "deepnote_cell_height": 288.1875,
    "deepnote_cell_type": "code",
    "deepnote_to_be_reexecuted": false,
    "execution_millis": 138,
    "execution_start": 1649274371407,
    "id": "d73e05fc",
    "source_hash": "1a027bb"
   },
   "outputs": [],
   "source": [
    "df.replace( to_replace = {\"Jan.\":\"01.\",\"Feb.\":\"02.\",\"Mar.\":\"03.\",\"Apr.\":\"04.\",\"May.\":\"05.\",\"Jun.\":\"06.\",\"Jul.\":\"07.\",\"Aug.\":\"08.\",\"Sep.\":\"09.\",\"Oct.\":\"10.\",\"Nov.\":\"11.\",\"Dec.\":\"12.\", \"\\.20\":\".\"}, regex = True, inplace = True)\n",
    "\n",
    "# Zmieniam nazwy kolumn by nie zawerały znaków '.'\n",
    "df.rename(columns = {\"MMM.YY\" : \"Dateofeval\", \"Total.Business.Value\":\"TBV\", \"Quarterly.Rating\":\"Rating\", \"Joining.Designation\":\"Join_Designation\"}, inplace = True)\n",
    "\n",
    "# MMM.YY , LastWorkingDate oraz Dateofjoining mają typ object więc zmieniam je na typ date\n",
    "df.Dateofeval = pd.to_datetime(df.Dateofeval, format='%d.%m.%y')\n",
    "#df.Dateofjoining = pd.to_datetime(df.Dateofjoining,  format='%d.%m.%y') # W tej kolumnie sa jakies dziwne daty\n",
    "df.Dateofjoining = pd.to_datetime(df.Dateofjoining, format=\"%d.%m.%y\", errors=\"coerce\").fillna(pd.to_datetime(df.Dateofjoining, format=\"%B %d%y\", errors=\"coerce\"))\n",
    "df.LastWorkingDate = pd.to_datetime(df.LastWorkingDate, format='%d.%m.%y')"
   ]
  },
  {
   "cell_type": "code",
   "execution_count": 157,
   "id": "d97f8c8a",
   "metadata": {
    "cell_id": "00011-a963e676-092f-4438-b62b-13c7fbd82761",
    "deepnote_cell_height": 117,
    "deepnote_cell_type": "code",
    "deepnote_to_be_reexecuted": true,
    "id": "3c370d23",
    "source_hash": "f044b48d"
   },
   "outputs": [
    {
     "data": {
      "text/plain": [
       "Emp_ID                  0\n",
       "Dateofeval              0\n",
       "Age                     0\n",
       "Salary                  0\n",
       "LastWorkingDate     17562\n",
       "Designation             0\n",
       "TBV                     0\n",
       "Rating                  0\n",
       "Gender                  0\n",
       "City                    0\n",
       "Education_Level         0\n",
       "Dateofjoining         217\n",
       "Join_Designation        0\n",
       "dtype: int64"
      ]
     },
     "execution_count": 157,
     "metadata": {},
     "output_type": "execute_result"
    }
   ],
   "source": [
    "# Sprawdzam brakujące wartości\n",
    "\n",
    "df.isna().sum()"
   ]
  },
  {
   "cell_type": "code",
   "execution_count": 158,
   "id": "7bfe24b3",
   "metadata": {
    "cell_id": "00012-2f9bcf98-aebf-4bba-ad9b-b784cd8d1e1e",
    "deepnote_cell_height": 135,
    "deepnote_cell_type": "code",
    "deepnote_to_be_reexecuted": true,
    "id": "65f6622e",
    "source_hash": "57954f14"
   },
   "outputs": [
    {
     "data": {
      "text/html": [
       "<div>\n",
       "<style scoped>\n",
       "    .dataframe tbody tr th:only-of-type {\n",
       "        vertical-align: middle;\n",
       "    }\n",
       "\n",
       "    .dataframe tbody tr th {\n",
       "        vertical-align: top;\n",
       "    }\n",
       "\n",
       "    .dataframe thead th {\n",
       "        text-align: right;\n",
       "    }\n",
       "</style>\n",
       "<table border=\"1\" class=\"dataframe\">\n",
       "  <thead>\n",
       "    <tr style=\"text-align: right;\">\n",
       "      <th></th>\n",
       "      <th>Emp_ID</th>\n",
       "      <th>Dateofeval</th>\n",
       "      <th>Age</th>\n",
       "      <th>Salary</th>\n",
       "      <th>LastWorkingDate</th>\n",
       "      <th>Designation</th>\n",
       "      <th>TBV</th>\n",
       "      <th>Rating</th>\n",
       "      <th>Gender</th>\n",
       "      <th>City</th>\n",
       "      <th>Education_Level</th>\n",
       "      <th>Dateofjoining</th>\n",
       "      <th>Join_Designation</th>\n",
       "    </tr>\n",
       "  </thead>\n",
       "  <tbody>\n",
       "  </tbody>\n",
       "</table>\n",
       "</div>"
      ],
      "text/plain": [
       "Empty DataFrame\n",
       "Columns: [Emp_ID, Dateofeval, Age, Salary, LastWorkingDate, Designation, TBV, Rating, Gender, City, Education_Level, Dateofjoining, Join_Designation]\n",
       "Index: []"
      ]
     },
     "execution_count": 158,
     "metadata": {},
     "output_type": "execute_result"
    }
   ],
   "source": [
    "# Jedyne to te od pracowników którzy nie odeszli, czyli nie ma żadnych wartości brakujących do uzupełnienia\n",
    "\n",
    "# Zmieniam typ danych 'Salary;\n",
    "df.Salary.replace(to_replace = {' USD':'',',':'.'}, regex = True, inplace = True)"
   ]
  },
  {
   "cell_type": "code",
   "execution_count": 188,
   "id": "b91010ac",
   "metadata": {
    "cell_id": "00013-5318e0e8-f3df-4f5c-9e6d-da5e0ebdf400",
    "deepnote_cell_height": 81,
    "deepnote_cell_type": "code",
    "deepnote_to_be_reexecuted": true,
    "id": "459fc764",
    "source_hash": "f804c160"
   },
   "outputs": [],
   "source": [
    "df.Salary = df.Salary.astype(float)"
   ]
  },
  {
   "cell_type": "code",
   "execution_count": 160,
   "id": "7f4fe125",
   "metadata": {
    "cell_id": "00015-21404490-5530-4a82-b354-5637b01c61be",
    "deepnote_cell_height": 99,
    "deepnote_cell_type": "code",
    "deepnote_to_be_reexecuted": true,
    "id": "e692fbd8",
    "source_hash": "96a587bd"
   },
   "outputs": [
    {
     "data": {
      "text/plain": [
       "2381"
      ]
     },
     "execution_count": 160,
     "metadata": {},
     "output_type": "execute_result"
    }
   ],
   "source": [
    "# Ile pracowników jest w zbiorze danych\n",
    "len(df.Emp_ID.unique())"
   ]
  },
  {
   "cell_type": "code",
   "execution_count": 161,
   "id": "9830aef4",
   "metadata": {
    "cell_id": "00016-904453b1-42a7-4af8-8c28-76ce1fcf9a7b",
    "deepnote_cell_height": 117,
    "deepnote_cell_type": "code",
    "deepnote_to_be_reexecuted": true,
    "id": "NNblhqVHx1hK",
    "source_hash": "d8092e5e"
   },
   "outputs": [],
   "source": [
    "# Tworzę nowy DataFrame gdzie znajduje się jeden rekord dla każdego pracownika z najpóźniejszą datą w Dateofeval - czyli najświeższa ewaluacja\n",
    "\n",
    "latest_eval = df.sort_values(\"Dateofeval\", ascending = False).drop_duplicates(\"Emp_ID\")"
   ]
  },
  {
   "cell_type": "code",
   "execution_count": 162,
   "id": "cb4c703d",
   "metadata": {
    "cell_id": "00017-ed0df114-afa2-4735-a5de-e59ca238d03b",
    "deepnote_cell_height": 81,
    "deepnote_cell_type": "code",
    "deepnote_to_be_reexecuted": true,
    "id": "MMnncuWa30vu",
    "source_hash": "8628340e"
   },
   "outputs": [
    {
     "data": {
      "text/html": [
       "<div>\n",
       "<style scoped>\n",
       "    .dataframe tbody tr th:only-of-type {\n",
       "        vertical-align: middle;\n",
       "    }\n",
       "\n",
       "    .dataframe tbody tr th {\n",
       "        vertical-align: top;\n",
       "    }\n",
       "\n",
       "    .dataframe thead th {\n",
       "        text-align: right;\n",
       "    }\n",
       "</style>\n",
       "<table border=\"1\" class=\"dataframe\">\n",
       "  <thead>\n",
       "    <tr style=\"text-align: right;\">\n",
       "      <th></th>\n",
       "      <th>Emp_ID</th>\n",
       "      <th>Dateofeval</th>\n",
       "      <th>Age</th>\n",
       "      <th>Salary</th>\n",
       "      <th>LastWorkingDate</th>\n",
       "      <th>Designation</th>\n",
       "      <th>TBV</th>\n",
       "      <th>Rating</th>\n",
       "      <th>Gender</th>\n",
       "      <th>City</th>\n",
       "      <th>Education_Level</th>\n",
       "      <th>Dateofjoining</th>\n",
       "      <th>Join_Designation</th>\n",
       "    </tr>\n",
       "  </thead>\n",
       "  <tbody>\n",
       "    <tr>\n",
       "      <th>2124</th>\n",
       "      <td>331</td>\n",
       "      <td>2017-12-01</td>\n",
       "      <td>35</td>\n",
       "      <td>71154.0</td>\n",
       "      <td>NaT</td>\n",
       "      <td>3</td>\n",
       "      <td>0</td>\n",
       "      <td>1</td>\n",
       "      <td>Male</td>\n",
       "      <td>C25</td>\n",
       "      <td>Master</td>\n",
       "      <td>2017-09-27</td>\n",
       "      <td>3</td>\n",
       "    </tr>\n",
       "    <tr>\n",
       "      <th>12511</th>\n",
       "      <td>1859</td>\n",
       "      <td>2017-12-01</td>\n",
       "      <td>35</td>\n",
       "      <td>37209.0</td>\n",
       "      <td>NaT</td>\n",
       "      <td>1</td>\n",
       "      <td>1018850</td>\n",
       "      <td>4</td>\n",
       "      <td>Male</td>\n",
       "      <td>C22</td>\n",
       "      <td>College</td>\n",
       "      <td>2014-12-15</td>\n",
       "      <td>1</td>\n",
       "    </tr>\n",
       "    <tr>\n",
       "      <th>6083</th>\n",
       "      <td>906</td>\n",
       "      <td>2017-12-01</td>\n",
       "      <td>36</td>\n",
       "      <td>108997.0</td>\n",
       "      <td>NaT</td>\n",
       "      <td>3</td>\n",
       "      <td>860790</td>\n",
       "      <td>3</td>\n",
       "      <td>Female</td>\n",
       "      <td>C18</td>\n",
       "      <td>Bachelor</td>\n",
       "      <td>2016-08-30</td>\n",
       "      <td>3</td>\n",
       "    </tr>\n",
       "    <tr>\n",
       "      <th>8582</th>\n",
       "      <td>1265</td>\n",
       "      <td>2017-12-01</td>\n",
       "      <td>35</td>\n",
       "      <td>60358.0</td>\n",
       "      <td>NaT</td>\n",
       "      <td>2</td>\n",
       "      <td>760740</td>\n",
       "      <td>3</td>\n",
       "      <td>Male</td>\n",
       "      <td>C7</td>\n",
       "      <td>College</td>\n",
       "      <td>2015-06-24</td>\n",
       "      <td>1</td>\n",
       "    </tr>\n",
       "    <tr>\n",
       "      <th>7056</th>\n",
       "      <td>1054</td>\n",
       "      <td>2017-12-01</td>\n",
       "      <td>37</td>\n",
       "      <td>92940.0</td>\n",
       "      <td>NaT</td>\n",
       "      <td>3</td>\n",
       "      <td>592390</td>\n",
       "      <td>1</td>\n",
       "      <td>Female</td>\n",
       "      <td>C2</td>\n",
       "      <td>Bachelor</td>\n",
       "      <td>2017-08-09</td>\n",
       "      <td>3</td>\n",
       "    </tr>\n",
       "    <tr>\n",
       "      <th>...</th>\n",
       "      <td>...</td>\n",
       "      <td>...</td>\n",
       "      <td>...</td>\n",
       "      <td>...</td>\n",
       "      <td>...</td>\n",
       "      <td>...</td>\n",
       "      <td>...</td>\n",
       "      <td>...</td>\n",
       "      <td>...</td>\n",
       "      <td>...</td>\n",
       "      <td>...</td>\n",
       "      <td>...</td>\n",
       "      <td>...</td>\n",
       "    </tr>\n",
       "    <tr>\n",
       "      <th>13295</th>\n",
       "      <td>1978</td>\n",
       "      <td>2016-01-01</td>\n",
       "      <td>41</td>\n",
       "      <td>12553.0</td>\n",
       "      <td>2016-01-19</td>\n",
       "      <td>1</td>\n",
       "      <td>0</td>\n",
       "      <td>1</td>\n",
       "      <td>Male</td>\n",
       "      <td>C17</td>\n",
       "      <td>College</td>\n",
       "      <td>2015-12-09</td>\n",
       "      <td>1</td>\n",
       "    </tr>\n",
       "    <tr>\n",
       "      <th>13278</th>\n",
       "      <td>1976</td>\n",
       "      <td>2016-01-01</td>\n",
       "      <td>31</td>\n",
       "      <td>51181.0</td>\n",
       "      <td>2016-01-23</td>\n",
       "      <td>2</td>\n",
       "      <td>0</td>\n",
       "      <td>1</td>\n",
       "      <td>Female</td>\n",
       "      <td>C20</td>\n",
       "      <td>Master</td>\n",
       "      <td>2015-07-31</td>\n",
       "      <td>2</td>\n",
       "    </tr>\n",
       "    <tr>\n",
       "      <th>5834</th>\n",
       "      <td>872</td>\n",
       "      <td>2016-01-01</td>\n",
       "      <td>32</td>\n",
       "      <td>19791.0</td>\n",
       "      <td>2016-01-01</td>\n",
       "      <td>1</td>\n",
       "      <td>0</td>\n",
       "      <td>1</td>\n",
       "      <td>Male</td>\n",
       "      <td>C28</td>\n",
       "      <td>Master</td>\n",
       "      <td>2015-10-16</td>\n",
       "      <td>1</td>\n",
       "    </tr>\n",
       "    <tr>\n",
       "      <th>5870</th>\n",
       "      <td>877</td>\n",
       "      <td>2016-01-01</td>\n",
       "      <td>32</td>\n",
       "      <td>94770.0</td>\n",
       "      <td>2016-01-13</td>\n",
       "      <td>2</td>\n",
       "      <td>0</td>\n",
       "      <td>1</td>\n",
       "      <td>Male</td>\n",
       "      <td>C21</td>\n",
       "      <td>College</td>\n",
       "      <td>2015-08-08</td>\n",
       "      <td>2</td>\n",
       "    </tr>\n",
       "    <tr>\n",
       "      <th>15536</th>\n",
       "      <td>2292</td>\n",
       "      <td>2016-01-01</td>\n",
       "      <td>30</td>\n",
       "      <td>12895.0</td>\n",
       "      <td>2016-01-01</td>\n",
       "      <td>1</td>\n",
       "      <td>0</td>\n",
       "      <td>1</td>\n",
       "      <td>Male</td>\n",
       "      <td>C15</td>\n",
       "      <td>College</td>\n",
       "      <td>2015-06-23</td>\n",
       "      <td>1</td>\n",
       "    </tr>\n",
       "  </tbody>\n",
       "</table>\n",
       "<p>2381 rows × 13 columns</p>\n",
       "</div>"
      ],
      "text/plain": [
       "       Emp_ID Dateofeval  Age    Salary LastWorkingDate  Designation      TBV  \\\n",
       "2124      331 2017-12-01   35   71154.0             NaT            3        0   \n",
       "12511    1859 2017-12-01   35   37209.0             NaT            1  1018850   \n",
       "6083      906 2017-12-01   36  108997.0             NaT            3   860790   \n",
       "8582     1265 2017-12-01   35   60358.0             NaT            2   760740   \n",
       "7056     1054 2017-12-01   37   92940.0             NaT            3   592390   \n",
       "...       ...        ...  ...       ...             ...          ...      ...   \n",
       "13295    1978 2016-01-01   41   12553.0      2016-01-19            1        0   \n",
       "13278    1976 2016-01-01   31   51181.0      2016-01-23            2        0   \n",
       "5834      872 2016-01-01   32   19791.0      2016-01-01            1        0   \n",
       "5870      877 2016-01-01   32   94770.0      2016-01-13            2        0   \n",
       "15536    2292 2016-01-01   30   12895.0      2016-01-01            1        0   \n",
       "\n",
       "       Rating  Gender City Education_Level Dateofjoining  Join_Designation  \n",
       "2124        1    Male  C25          Master    2017-09-27                 3  \n",
       "12511       4    Male  C22         College    2014-12-15                 1  \n",
       "6083        3  Female  C18        Bachelor    2016-08-30                 3  \n",
       "8582        3    Male   C7         College    2015-06-24                 1  \n",
       "7056        1  Female   C2        Bachelor    2017-08-09                 3  \n",
       "...       ...     ...  ...             ...           ...               ...  \n",
       "13295       1    Male  C17         College    2015-12-09                 1  \n",
       "13278       1  Female  C20          Master    2015-07-31                 2  \n",
       "5834        1    Male  C28          Master    2015-10-16                 1  \n",
       "5870        1    Male  C21         College    2015-08-08                 2  \n",
       "15536       1    Male  C15         College    2015-06-23                 1  \n",
       "\n",
       "[2381 rows x 13 columns]"
      ]
     },
     "execution_count": 162,
     "metadata": {},
     "output_type": "execute_result"
    }
   ],
   "source": [
    "latest_eval"
   ]
  },
  {
   "cell_type": "code",
   "execution_count": 163,
   "id": "d3e39b5a",
   "metadata": {
    "cell_id": "00018-6c383cbe-8e65-44e3-acb0-ae683381789d",
    "deepnote_cell_height": 81,
    "deepnote_cell_type": "code",
    "deepnote_to_be_reexecuted": true,
    "id": "ayK0Ehxh4qo7",
    "source_hash": "32569d8"
   },
   "outputs": [
    {
     "data": {
      "text/plain": [
       "2381"
      ]
     },
     "execution_count": 163,
     "metadata": {},
     "output_type": "execute_result"
    }
   ],
   "source": [
    "len(latest_eval)"
   ]
  },
  {
   "cell_type": "code",
   "execution_count": 164,
   "id": "06cef894",
   "metadata": {
    "cell_id": "00019-65ec7c71-ef18-40b2-800f-04c4737bd440",
    "deepnote_cell_height": 99,
    "deepnote_cell_type": "code",
    "deepnote_to_be_reexecuted": true,
    "id": "WhVRSC2X8edt",
    "source_hash": "c60f632b"
   },
   "outputs": [],
   "source": [
    "# Tworzę nową kolumnę z ilością przepracowanych dni - na razie są tam tylko dane dla pracowników którzy opuścili firmę\n",
    "latest_eval.loc[:,\"WorkDays\"] = latest_eval.LastWorkingDate - latest_eval.Dateofjoining"
   ]
  },
  {
   "cell_type": "code",
   "execution_count": 165,
   "id": "ba893837",
   "metadata": {
    "cell_id": "00020-42008ec1-8e65-4557-97cc-91e2941a9545",
    "deepnote_cell_height": 117,
    "deepnote_cell_type": "code",
    "deepnote_to_be_reexecuted": true,
    "id": "5uvhcu0m8ulE",
    "source_hash": "a111e043"
   },
   "outputs": [],
   "source": [
    "latest_eval = latest_eval.sort_index()\n",
    "# Dodaję nową kolumnę - 1 jeśli pracownik odszedł, 0 jeśli nie odszedł\n",
    "latest_eval.loc[:,\"IfLeft\"] = latest_eval.LastWorkingDate.notna().astype(int)"
   ]
  },
  {
   "cell_type": "code",
   "execution_count": 166,
   "id": "90a20869",
   "metadata": {
    "cell_id": "00021-251b84d6-b08a-4fa7-ab30-5107a4913c00",
    "deepnote_cell_height": 117,
    "deepnote_cell_type": "code",
    "deepnote_to_be_reexecuted": true,
    "id": "rKEz7IsN9U_b",
    "source_hash": "e05f34b6"
   },
   "outputs": [
    {
     "data": {
      "text/html": [
       "<div>\n",
       "<style scoped>\n",
       "    .dataframe tbody tr th:only-of-type {\n",
       "        vertical-align: middle;\n",
       "    }\n",
       "\n",
       "    .dataframe tbody tr th {\n",
       "        vertical-align: top;\n",
       "    }\n",
       "\n",
       "    .dataframe thead th {\n",
       "        text-align: right;\n",
       "    }\n",
       "</style>\n",
       "<table border=\"1\" class=\"dataframe\">\n",
       "  <thead>\n",
       "    <tr style=\"text-align: right;\">\n",
       "      <th></th>\n",
       "      <th>Emp_ID</th>\n",
       "      <th>Dateofeval</th>\n",
       "      <th>Age</th>\n",
       "      <th>Salary</th>\n",
       "      <th>LastWorkingDate</th>\n",
       "      <th>Designation</th>\n",
       "      <th>TBV</th>\n",
       "      <th>Rating</th>\n",
       "      <th>Gender</th>\n",
       "      <th>City</th>\n",
       "      <th>Education_Level</th>\n",
       "      <th>Dateofjoining</th>\n",
       "      <th>Join_Designation</th>\n",
       "      <th>WorkDays</th>\n",
       "      <th>IfLeft</th>\n",
       "    </tr>\n",
       "  </thead>\n",
       "  <tbody>\n",
       "    <tr>\n",
       "      <th>2</th>\n",
       "      <td>1</td>\n",
       "      <td>2016-03-01</td>\n",
       "      <td>28</td>\n",
       "      <td>57387.0</td>\n",
       "      <td>2016-03-11</td>\n",
       "      <td>1</td>\n",
       "      <td>0</td>\n",
       "      <td>2</td>\n",
       "      <td>Male</td>\n",
       "      <td>C23</td>\n",
       "      <td>Master</td>\n",
       "      <td>2015-12-24</td>\n",
       "      <td>1</td>\n",
       "      <td>78 days</td>\n",
       "      <td>1</td>\n",
       "    </tr>\n",
       "    <tr>\n",
       "      <th>4</th>\n",
       "      <td>2</td>\n",
       "      <td>2017-12-01</td>\n",
       "      <td>31</td>\n",
       "      <td>67016.0</td>\n",
       "      <td>NaT</td>\n",
       "      <td>2</td>\n",
       "      <td>0</td>\n",
       "      <td>1</td>\n",
       "      <td>Male</td>\n",
       "      <td>C7</td>\n",
       "      <td>Master</td>\n",
       "      <td>2017-11-06</td>\n",
       "      <td>2</td>\n",
       "      <td>25 days</td>\n",
       "      <td>0</td>\n",
       "    </tr>\n",
       "    <tr>\n",
       "      <th>9</th>\n",
       "      <td>4</td>\n",
       "      <td>2017-04-01</td>\n",
       "      <td>43</td>\n",
       "      <td>65603.0</td>\n",
       "      <td>2017-04-27</td>\n",
       "      <td>2</td>\n",
       "      <td>0</td>\n",
       "      <td>1</td>\n",
       "      <td>Male</td>\n",
       "      <td>C13</td>\n",
       "      <td>Master</td>\n",
       "      <td>2016-12-07</td>\n",
       "      <td>2</td>\n",
       "      <td>141 days</td>\n",
       "      <td>1</td>\n",
       "    </tr>\n",
       "    <tr>\n",
       "      <th>12</th>\n",
       "      <td>5</td>\n",
       "      <td>2016-03-01</td>\n",
       "      <td>29</td>\n",
       "      <td>46368.0</td>\n",
       "      <td>2016-03-07</td>\n",
       "      <td>1</td>\n",
       "      <td>0</td>\n",
       "      <td>1</td>\n",
       "      <td>Male</td>\n",
       "      <td>C9</td>\n",
       "      <td>College</td>\n",
       "      <td>2016-01-09</td>\n",
       "      <td>1</td>\n",
       "      <td>58 days</td>\n",
       "      <td>1</td>\n",
       "    </tr>\n",
       "    <tr>\n",
       "      <th>17</th>\n",
       "      <td>6</td>\n",
       "      <td>2017-12-01</td>\n",
       "      <td>31</td>\n",
       "      <td>78728.0</td>\n",
       "      <td>NaT</td>\n",
       "      <td>3</td>\n",
       "      <td>0</td>\n",
       "      <td>2</td>\n",
       "      <td>Female</td>\n",
       "      <td>C11</td>\n",
       "      <td>Bachelor</td>\n",
       "      <td>2017-07-31</td>\n",
       "      <td>3</td>\n",
       "      <td>123 days</td>\n",
       "      <td>0</td>\n",
       "    </tr>\n",
       "    <tr>\n",
       "      <th>...</th>\n",
       "      <td>...</td>\n",
       "      <td>...</td>\n",
       "      <td>...</td>\n",
       "      <td>...</td>\n",
       "      <td>...</td>\n",
       "      <td>...</td>\n",
       "      <td>...</td>\n",
       "      <td>...</td>\n",
       "      <td>...</td>\n",
       "      <td>...</td>\n",
       "      <td>...</td>\n",
       "      <td>...</td>\n",
       "      <td>...</td>\n",
       "      <td>...</td>\n",
       "      <td>...</td>\n",
       "    </tr>\n",
       "    <tr>\n",
       "      <th>19103</th>\n",
       "      <td>2788</td>\n",
       "      <td>2017-12-01</td>\n",
       "      <td>30</td>\n",
       "      <td>70254.0</td>\n",
       "      <td>NaT</td>\n",
       "      <td>2</td>\n",
       "      <td>411480</td>\n",
       "      <td>2</td>\n",
       "      <td>Male</td>\n",
       "      <td>C27</td>\n",
       "      <td>Master</td>\n",
       "      <td>2017-06-08</td>\n",
       "      <td>2</td>\n",
       "      <td>176 days</td>\n",
       "      <td>0</td>\n",
       "    </tr>\n",
       "    <tr>\n",
       "      <th>19107</th>\n",
       "      <td>2713</td>\n",
       "      <td>2016-10-01</td>\n",
       "      <td>32</td>\n",
       "      <td>23582.0</td>\n",
       "      <td>2016-10-04</td>\n",
       "      <td>2</td>\n",
       "      <td>0</td>\n",
       "      <td>1</td>\n",
       "      <td>Female</td>\n",
       "      <td>C9</td>\n",
       "      <td>Master</td>\n",
       "      <td>2016-06-30</td>\n",
       "      <td>2</td>\n",
       "      <td>96 days</td>\n",
       "      <td>1</td>\n",
       "    </tr>\n",
       "    <tr>\n",
       "      <th>19134</th>\n",
       "      <td>2544</td>\n",
       "      <td>2016-10-01</td>\n",
       "      <td>32</td>\n",
       "      <td>67667.0</td>\n",
       "      <td>2016-10-22</td>\n",
       "      <td>2</td>\n",
       "      <td>0</td>\n",
       "      <td>1</td>\n",
       "      <td>Male</td>\n",
       "      <td>C22</td>\n",
       "      <td>College</td>\n",
       "      <td>2016-07-28</td>\n",
       "      <td>2</td>\n",
       "      <td>86 days</td>\n",
       "      <td>1</td>\n",
       "    </tr>\n",
       "    <tr>\n",
       "      <th>19167</th>\n",
       "      <td>1719</td>\n",
       "      <td>2017-02-01</td>\n",
       "      <td>46</td>\n",
       "      <td>44497.0</td>\n",
       "      <td>2017-02-17</td>\n",
       "      <td>1</td>\n",
       "      <td>311670</td>\n",
       "      <td>2</td>\n",
       "      <td>Female</td>\n",
       "      <td>C3</td>\n",
       "      <td>College</td>\n",
       "      <td>2015-10-01</td>\n",
       "      <td>1</td>\n",
       "      <td>505 days</td>\n",
       "      <td>1</td>\n",
       "    </tr>\n",
       "    <tr>\n",
       "      <th>19186</th>\n",
       "      <td>2651</td>\n",
       "      <td>2017-08-01</td>\n",
       "      <td>34</td>\n",
       "      <td>62292.0</td>\n",
       "      <td>2017-07-29</td>\n",
       "      <td>2</td>\n",
       "      <td>180000</td>\n",
       "      <td>1</td>\n",
       "      <td>Male</td>\n",
       "      <td>C11</td>\n",
       "      <td>Master</td>\n",
       "      <td>2016-06-27</td>\n",
       "      <td>2</td>\n",
       "      <td>397 days</td>\n",
       "      <td>1</td>\n",
       "    </tr>\n",
       "  </tbody>\n",
       "</table>\n",
       "<p>2381 rows × 15 columns</p>\n",
       "</div>"
      ],
      "text/plain": [
       "       Emp_ID Dateofeval  Age   Salary LastWorkingDate  Designation     TBV  \\\n",
       "2           1 2016-03-01   28  57387.0      2016-03-11            1       0   \n",
       "4           2 2017-12-01   31  67016.0             NaT            2       0   \n",
       "9           4 2017-04-01   43  65603.0      2017-04-27            2       0   \n",
       "12          5 2016-03-01   29  46368.0      2016-03-07            1       0   \n",
       "17          6 2017-12-01   31  78728.0             NaT            3       0   \n",
       "...       ...        ...  ...      ...             ...          ...     ...   \n",
       "19103    2788 2017-12-01   30  70254.0             NaT            2  411480   \n",
       "19107    2713 2016-10-01   32  23582.0      2016-10-04            2       0   \n",
       "19134    2544 2016-10-01   32  67667.0      2016-10-22            2       0   \n",
       "19167    1719 2017-02-01   46  44497.0      2017-02-17            1  311670   \n",
       "19186    2651 2017-08-01   34  62292.0      2017-07-29            2  180000   \n",
       "\n",
       "       Rating  Gender City Education_Level Dateofjoining  Join_Designation  \\\n",
       "2           2    Male  C23          Master    2015-12-24                 1   \n",
       "4           1    Male   C7          Master    2017-11-06                 2   \n",
       "9           1    Male  C13          Master    2016-12-07                 2   \n",
       "12          1    Male   C9         College    2016-01-09                 1   \n",
       "17          2  Female  C11        Bachelor    2017-07-31                 3   \n",
       "...       ...     ...  ...             ...           ...               ...   \n",
       "19103       2    Male  C27          Master    2017-06-08                 2   \n",
       "19107       1  Female   C9          Master    2016-06-30                 2   \n",
       "19134       1    Male  C22         College    2016-07-28                 2   \n",
       "19167       2  Female   C3         College    2015-10-01                 1   \n",
       "19186       1    Male  C11          Master    2016-06-27                 2   \n",
       "\n",
       "      WorkDays  IfLeft  \n",
       "2      78 days       1  \n",
       "4      25 days       0  \n",
       "9     141 days       1  \n",
       "12     58 days       1  \n",
       "17    123 days       0  \n",
       "...        ...     ...  \n",
       "19103 176 days       0  \n",
       "19107  96 days       1  \n",
       "19134  86 days       1  \n",
       "19167 505 days       1  \n",
       "19186 397 days       1  \n",
       "\n",
       "[2381 rows x 15 columns]"
      ]
     },
     "execution_count": 166,
     "metadata": {},
     "output_type": "execute_result"
    }
   ],
   "source": [
    "# Wpisuję w WorkDays wartości dla pracowników którzy nie opuścili firmy (wpisuje tam czas od dolączenia do dnia ostatniej ewaluacji)\n",
    "latest_eval.WorkDays.fillna(latest_eval.loc[:,\"Dateofeval\"] - latest_eval.loc[:,\"Dateofjoining\"], inplace = True)\n",
    "latest_eval"
   ]
  },
  {
   "cell_type": "code",
   "execution_count": 167,
   "id": "4d1fcbf3",
   "metadata": {
    "cell_id": "00022-d18bcca0-fb72-424a-b4e0-37004283ac87",
    "deepnote_cell_height": 99,
    "deepnote_cell_type": "code",
    "deepnote_to_be_reexecuted": true,
    "id": "sEFcU5If-KsB",
    "source_hash": "587368fe"
   },
   "outputs": [],
   "source": [
    "# Zmieniam typ danych z timedelta na int\n",
    "latest_eval.WorkDays = latest_eval.WorkDays.dt.days"
   ]
  },
  {
   "cell_type": "code",
   "execution_count": 168,
   "id": "203f294d",
   "metadata": {
    "cell_id": "00023-a57731cf-5d6b-40f4-a164-a34c026bba72",
    "deepnote_cell_height": 99,
    "deepnote_cell_type": "code",
    "deepnote_to_be_reexecuted": true,
    "id": "8e6jDo3mB7aE",
    "source_hash": "2b1fa7bc"
   },
   "outputs": [
    {
     "data": {
      "text/plain": [
       "<seaborn.axisgrid.FacetGrid at 0x7f14442d3d00>"
      ]
     },
     "execution_count": 168,
     "metadata": {},
     "output_type": "execute_result"
    },
    {
     "data": {
      "image/png": "[encoded data removed]",
      "text/plain": [
       "<Figure size 432x216 with 2 Axes>"
      ]
     },
     "metadata": {
      "needs_background": "light"
     },
     "output_type": "display_data"
    }
   ],
   "source": [
    "f = sns.FacetGrid(latest_eval, col = \"IfLeft\")\n",
    "f.map(plt.hist, \"WorkDays\", bins = 20)"
   ]
  },
  {
   "cell_type": "code",
   "execution_count": 169,
   "id": "3c5ad1a5",
   "metadata": {
    "cell_id": "00024-bf1ea7d9-586a-46a6-9cc5-3c165e4dfcf4",
    "deepnote_cell_height": 153,
    "deepnote_cell_type": "code",
    "deepnote_to_be_reexecuted": true,
    "id": "nXmb0iMt58Ll",
    "source_hash": "ad4e9daa"
   },
   "outputs": [],
   "source": [
    "# Tworzę nową kolumnę z sumą TBV ze wszystkich miesięcy w których pracownik był ewaluowane\n",
    "\n",
    "valuesum = df.groupby(\"Emp_ID\")[\"TBV\"].sum().reset_index()\n",
    "valuesum.rename(columns = {\"TBV\" : \"ValueSum\"}, inplace = True)\n",
    "latest_eval = latest_eval.merge(valuesum, how = \"left\", on = \"Emp_ID\")"
   ]
  },
  {
   "cell_type": "code",
   "execution_count": 170,
   "id": "11ac0a56",
   "metadata": {
    "cell_id": "00025-dfb7e718-d949-4bbd-8fca-512c544f262c",
    "deepnote_cell_height": 81,
    "deepnote_cell_type": "code",
    "deepnote_to_be_reexecuted": true,
    "id": "KuFJIm2K70qR",
    "source_hash": "8628340e"
   },
   "outputs": [
    {
     "data": {
      "text/html": [
       "<div>\n",
       "<style scoped>\n",
       "    .dataframe tbody tr th:only-of-type {\n",
       "        vertical-align: middle;\n",
       "    }\n",
       "\n",
       "    .dataframe tbody tr th {\n",
       "        vertical-align: top;\n",
       "    }\n",
       "\n",
       "    .dataframe thead th {\n",
       "        text-align: right;\n",
       "    }\n",
       "</style>\n",
       "<table border=\"1\" class=\"dataframe\">\n",
       "  <thead>\n",
       "    <tr style=\"text-align: right;\">\n",
       "      <th></th>\n",
       "      <th>Emp_ID</th>\n",
       "      <th>Dateofeval</th>\n",
       "      <th>Age</th>\n",
       "      <th>Salary</th>\n",
       "      <th>LastWorkingDate</th>\n",
       "      <th>Designation</th>\n",
       "      <th>TBV</th>\n",
       "      <th>Rating</th>\n",
       "      <th>Gender</th>\n",
       "      <th>City</th>\n",
       "      <th>Education_Level</th>\n",
       "      <th>Dateofjoining</th>\n",
       "      <th>Join_Designation</th>\n",
       "      <th>WorkDays</th>\n",
       "      <th>IfLeft</th>\n",
       "      <th>ValueSum</th>\n",
       "    </tr>\n",
       "  </thead>\n",
       "  <tbody>\n",
       "    <tr>\n",
       "      <th>0</th>\n",
       "      <td>1</td>\n",
       "      <td>2016-03-01</td>\n",
       "      <td>28</td>\n",
       "      <td>57387.0</td>\n",
       "      <td>2016-03-11</td>\n",
       "      <td>1</td>\n",
       "      <td>0</td>\n",
       "      <td>2</td>\n",
       "      <td>Male</td>\n",
       "      <td>C23</td>\n",
       "      <td>Master</td>\n",
       "      <td>2015-12-24</td>\n",
       "      <td>1</td>\n",
       "      <td>78.0</td>\n",
       "      <td>1</td>\n",
       "      <td>1715580</td>\n",
       "    </tr>\n",
       "    <tr>\n",
       "      <th>1</th>\n",
       "      <td>2</td>\n",
       "      <td>2017-12-01</td>\n",
       "      <td>31</td>\n",
       "      <td>67016.0</td>\n",
       "      <td>NaT</td>\n",
       "      <td>2</td>\n",
       "      <td>0</td>\n",
       "      <td>1</td>\n",
       "      <td>Male</td>\n",
       "      <td>C7</td>\n",
       "      <td>Master</td>\n",
       "      <td>2017-11-06</td>\n",
       "      <td>2</td>\n",
       "      <td>25.0</td>\n",
       "      <td>0</td>\n",
       "      <td>0</td>\n",
       "    </tr>\n",
       "    <tr>\n",
       "      <th>2</th>\n",
       "      <td>4</td>\n",
       "      <td>2017-04-01</td>\n",
       "      <td>43</td>\n",
       "      <td>65603.0</td>\n",
       "      <td>2017-04-27</td>\n",
       "      <td>2</td>\n",
       "      <td>0</td>\n",
       "      <td>1</td>\n",
       "      <td>Male</td>\n",
       "      <td>C13</td>\n",
       "      <td>Master</td>\n",
       "      <td>2016-12-07</td>\n",
       "      <td>2</td>\n",
       "      <td>141.0</td>\n",
       "      <td>1</td>\n",
       "      <td>350000</td>\n",
       "    </tr>\n",
       "    <tr>\n",
       "      <th>3</th>\n",
       "      <td>5</td>\n",
       "      <td>2016-03-01</td>\n",
       "      <td>29</td>\n",
       "      <td>46368.0</td>\n",
       "      <td>2016-03-07</td>\n",
       "      <td>1</td>\n",
       "      <td>0</td>\n",
       "      <td>1</td>\n",
       "      <td>Male</td>\n",
       "      <td>C9</td>\n",
       "      <td>College</td>\n",
       "      <td>2016-01-09</td>\n",
       "      <td>1</td>\n",
       "      <td>58.0</td>\n",
       "      <td>1</td>\n",
       "      <td>120360</td>\n",
       "    </tr>\n",
       "    <tr>\n",
       "      <th>4</th>\n",
       "      <td>6</td>\n",
       "      <td>2017-12-01</td>\n",
       "      <td>31</td>\n",
       "      <td>78728.0</td>\n",
       "      <td>NaT</td>\n",
       "      <td>3</td>\n",
       "      <td>0</td>\n",
       "      <td>2</td>\n",
       "      <td>Female</td>\n",
       "      <td>C11</td>\n",
       "      <td>Bachelor</td>\n",
       "      <td>2017-07-31</td>\n",
       "      <td>3</td>\n",
       "      <td>123.0</td>\n",
       "      <td>0</td>\n",
       "      <td>1265000</td>\n",
       "    </tr>\n",
       "    <tr>\n",
       "      <th>...</th>\n",
       "      <td>...</td>\n",
       "      <td>...</td>\n",
       "      <td>...</td>\n",
       "      <td>...</td>\n",
       "      <td>...</td>\n",
       "      <td>...</td>\n",
       "      <td>...</td>\n",
       "      <td>...</td>\n",
       "      <td>...</td>\n",
       "      <td>...</td>\n",
       "      <td>...</td>\n",
       "      <td>...</td>\n",
       "      <td>...</td>\n",
       "      <td>...</td>\n",
       "      <td>...</td>\n",
       "      <td>...</td>\n",
       "    </tr>\n",
       "    <tr>\n",
       "      <th>2376</th>\n",
       "      <td>2788</td>\n",
       "      <td>2017-12-01</td>\n",
       "      <td>30</td>\n",
       "      <td>70254.0</td>\n",
       "      <td>NaT</td>\n",
       "      <td>2</td>\n",
       "      <td>411480</td>\n",
       "      <td>2</td>\n",
       "      <td>Male</td>\n",
       "      <td>C27</td>\n",
       "      <td>Master</td>\n",
       "      <td>2017-06-08</td>\n",
       "      <td>2</td>\n",
       "      <td>176.0</td>\n",
       "      <td>0</td>\n",
       "      <td>2498660</td>\n",
       "    </tr>\n",
       "    <tr>\n",
       "      <th>2377</th>\n",
       "      <td>2713</td>\n",
       "      <td>2016-10-01</td>\n",
       "      <td>32</td>\n",
       "      <td>23582.0</td>\n",
       "      <td>2016-10-04</td>\n",
       "      <td>2</td>\n",
       "      <td>0</td>\n",
       "      <td>1</td>\n",
       "      <td>Female</td>\n",
       "      <td>C9</td>\n",
       "      <td>Master</td>\n",
       "      <td>2016-06-30</td>\n",
       "      <td>2</td>\n",
       "      <td>96.0</td>\n",
       "      <td>1</td>\n",
       "      <td>300000</td>\n",
       "    </tr>\n",
       "    <tr>\n",
       "      <th>2378</th>\n",
       "      <td>2544</td>\n",
       "      <td>2016-10-01</td>\n",
       "      <td>32</td>\n",
       "      <td>67667.0</td>\n",
       "      <td>2016-10-22</td>\n",
       "      <td>2</td>\n",
       "      <td>0</td>\n",
       "      <td>1</td>\n",
       "      <td>Male</td>\n",
       "      <td>C22</td>\n",
       "      <td>College</td>\n",
       "      <td>2016-07-28</td>\n",
       "      <td>2</td>\n",
       "      <td>86.0</td>\n",
       "      <td>1</td>\n",
       "      <td>0</td>\n",
       "    </tr>\n",
       "    <tr>\n",
       "      <th>2379</th>\n",
       "      <td>1719</td>\n",
       "      <td>2017-02-01</td>\n",
       "      <td>46</td>\n",
       "      <td>44497.0</td>\n",
       "      <td>2017-02-17</td>\n",
       "      <td>1</td>\n",
       "      <td>311670</td>\n",
       "      <td>2</td>\n",
       "      <td>Female</td>\n",
       "      <td>C3</td>\n",
       "      <td>College</td>\n",
       "      <td>2015-10-01</td>\n",
       "      <td>1</td>\n",
       "      <td>505.0</td>\n",
       "      <td>1</td>\n",
       "      <td>4246360</td>\n",
       "    </tr>\n",
       "    <tr>\n",
       "      <th>2380</th>\n",
       "      <td>2651</td>\n",
       "      <td>2017-08-01</td>\n",
       "      <td>34</td>\n",
       "      <td>62292.0</td>\n",
       "      <td>2017-07-29</td>\n",
       "      <td>2</td>\n",
       "      <td>180000</td>\n",
       "      <td>1</td>\n",
       "      <td>Male</td>\n",
       "      <td>C11</td>\n",
       "      <td>Master</td>\n",
       "      <td>2016-06-27</td>\n",
       "      <td>2</td>\n",
       "      <td>397.0</td>\n",
       "      <td>1</td>\n",
       "      <td>4996290</td>\n",
       "    </tr>\n",
       "  </tbody>\n",
       "</table>\n",
       "<p>2381 rows × 16 columns</p>\n",
       "</div>"
      ],
      "text/plain": [
       "      Emp_ID Dateofeval  Age   Salary LastWorkingDate  Designation     TBV  \\\n",
       "0          1 2016-03-01   28  57387.0      2016-03-11            1       0   \n",
       "1          2 2017-12-01   31  67016.0             NaT            2       0   \n",
       "2          4 2017-04-01   43  65603.0      2017-04-27            2       0   \n",
       "3          5 2016-03-01   29  46368.0      2016-03-07            1       0   \n",
       "4          6 2017-12-01   31  78728.0             NaT            3       0   \n",
       "...      ...        ...  ...      ...             ...          ...     ...   \n",
       "2376    2788 2017-12-01   30  70254.0             NaT            2  411480   \n",
       "2377    2713 2016-10-01   32  23582.0      2016-10-04            2       0   \n",
       "2378    2544 2016-10-01   32  67667.0      2016-10-22            2       0   \n",
       "2379    1719 2017-02-01   46  44497.0      2017-02-17            1  311670   \n",
       "2380    2651 2017-08-01   34  62292.0      2017-07-29            2  180000   \n",
       "\n",
       "      Rating  Gender City Education_Level Dateofjoining  Join_Designation  \\\n",
       "0          2    Male  C23          Master    2015-12-24                 1   \n",
       "1          1    Male   C7          Master    2017-11-06                 2   \n",
       "2          1    Male  C13          Master    2016-12-07                 2   \n",
       "3          1    Male   C9         College    2016-01-09                 1   \n",
       "4          2  Female  C11        Bachelor    2017-07-31                 3   \n",
       "...      ...     ...  ...             ...           ...               ...   \n",
       "2376       2    Male  C27          Master    2017-06-08                 2   \n",
       "2377       1  Female   C9          Master    2016-06-30                 2   \n",
       "2378       1    Male  C22         College    2016-07-28                 2   \n",
       "2379       2  Female   C3         College    2015-10-01                 1   \n",
       "2380       1    Male  C11          Master    2016-06-27                 2   \n",
       "\n",
       "      WorkDays  IfLeft  ValueSum  \n",
       "0         78.0       1   1715580  \n",
       "1         25.0       0         0  \n",
       "2        141.0       1    350000  \n",
       "3         58.0       1    120360  \n",
       "4        123.0       0   1265000  \n",
       "...        ...     ...       ...  \n",
       "2376     176.0       0   2498660  \n",
       "2377      96.0       1    300000  \n",
       "2378      86.0       1         0  \n",
       "2379     505.0       1   4246360  \n",
       "2380     397.0       1   4996290  \n",
       "\n",
       "[2381 rows x 16 columns]"
      ]
     },
     "execution_count": 170,
     "metadata": {},
     "output_type": "execute_result"
    }
   ],
   "source": [
    "latest_eval"
   ]
  },
  {
   "cell_type": "code",
   "execution_count": 171,
   "id": "bded4eb7",
   "metadata": {
    "cell_id": "00026-58387bfa-2f19-48a6-81a3-23ef20594281",
    "deepnote_cell_height": 81,
    "deepnote_cell_type": "code",
    "deepnote_to_be_reexecuted": true,
    "id": "V-kzQ5Ua9cPI",
    "source_hash": "b623e53d"
   },
   "outputs": [],
   "source": [
    "korelacja = latest_eval.corr()"
   ]
  },
  {
   "cell_type": "code",
   "execution_count": 172,
   "id": "5fd987e8",
   "metadata": {
    "scrolled": true
   },
   "outputs": [
    {
     "data": {
      "text/html": [
       "<div>\n",
       "<style scoped>\n",
       "    .dataframe tbody tr th:only-of-type {\n",
       "        vertical-align: middle;\n",
       "    }\n",
       "\n",
       "    .dataframe tbody tr th {\n",
       "        vertical-align: top;\n",
       "    }\n",
       "\n",
       "    .dataframe thead th {\n",
       "        text-align: right;\n",
       "    }\n",
       "</style>\n",
       "<table border=\"1\" class=\"dataframe\">\n",
       "  <thead>\n",
       "    <tr style=\"text-align: right;\">\n",
       "      <th></th>\n",
       "      <th>Emp_ID</th>\n",
       "      <th>Age</th>\n",
       "      <th>Salary</th>\n",
       "      <th>Designation</th>\n",
       "      <th>TBV</th>\n",
       "      <th>Rating</th>\n",
       "      <th>Join_Designation</th>\n",
       "      <th>WorkDays</th>\n",
       "      <th>IfLeft</th>\n",
       "      <th>ValueSum</th>\n",
       "    </tr>\n",
       "  </thead>\n",
       "  <tbody>\n",
       "    <tr>\n",
       "      <th>Emp_ID</th>\n",
       "      <td>1.000000</td>\n",
       "      <td>-0.004458</td>\n",
       "      <td>-0.017876</td>\n",
       "      <td>-0.013897</td>\n",
       "      <td>0.028629</td>\n",
       "      <td>0.012889</td>\n",
       "      <td>-0.023126</td>\n",
       "      <td>0.041051</td>\n",
       "      <td>0.029269</td>\n",
       "      <td>0.015086</td>\n",
       "    </tr>\n",
       "    <tr>\n",
       "      <th>Age</th>\n",
       "      <td>-0.004458</td>\n",
       "      <td>1.000000</td>\n",
       "      <td>0.210767</td>\n",
       "      <td>0.252577</td>\n",
       "      <td>0.095944</td>\n",
       "      <td>0.150205</td>\n",
       "      <td>0.081523</td>\n",
       "      <td>0.313961</td>\n",
       "      <td>-0.078883</td>\n",
       "      <td>0.262971</td>\n",
       "    </tr>\n",
       "    <tr>\n",
       "      <th>Salary</th>\n",
       "      <td>-0.017876</td>\n",
       "      <td>0.210767</td>\n",
       "      <td>1.000000</td>\n",
       "      <td>0.741453</td>\n",
       "      <td>0.190941</td>\n",
       "      <td>0.163429</td>\n",
       "      <td>0.480523</td>\n",
       "      <td>0.331370</td>\n",
       "      <td>-0.201935</td>\n",
       "      <td>0.379268</td>\n",
       "    </tr>\n",
       "    <tr>\n",
       "      <th>Designation</th>\n",
       "      <td>-0.013897</td>\n",
       "      <td>0.252577</td>\n",
       "      <td>0.741453</td>\n",
       "      <td>1.000000</td>\n",
       "      <td>0.228364</td>\n",
       "      <td>0.120442</td>\n",
       "      <td>0.712459</td>\n",
       "      <td>0.335865</td>\n",
       "      <td>-0.225585</td>\n",
       "      <td>0.381710</td>\n",
       "    </tr>\n",
       "    <tr>\n",
       "      <th>TBV</th>\n",
       "      <td>0.028629</td>\n",
       "      <td>0.095944</td>\n",
       "      <td>0.190941</td>\n",
       "      <td>0.228364</td>\n",
       "      <td>1.000000</td>\n",
       "      <td>0.453893</td>\n",
       "      <td>0.025054</td>\n",
       "      <td>0.269113</td>\n",
       "      <td>-0.289008</td>\n",
       "      <td>0.560825</td>\n",
       "    </tr>\n",
       "    <tr>\n",
       "      <th>Rating</th>\n",
       "      <td>0.012889</td>\n",
       "      <td>0.150205</td>\n",
       "      <td>0.163429</td>\n",
       "      <td>0.120442</td>\n",
       "      <td>0.453893</td>\n",
       "      <td>1.000000</td>\n",
       "      <td>-0.063404</td>\n",
       "      <td>0.336413</td>\n",
       "      <td>-0.510532</td>\n",
       "      <td>0.544727</td>\n",
       "    </tr>\n",
       "    <tr>\n",
       "      <th>Join_Designation</th>\n",
       "      <td>-0.023126</td>\n",
       "      <td>0.081523</td>\n",
       "      <td>0.480523</td>\n",
       "      <td>0.712459</td>\n",
       "      <td>0.025054</td>\n",
       "      <td>-0.063404</td>\n",
       "      <td>1.000000</td>\n",
       "      <td>-0.210577</td>\n",
       "      <td>-0.127773</td>\n",
       "      <td>-0.121743</td>\n",
       "    </tr>\n",
       "    <tr>\n",
       "      <th>WorkDays</th>\n",
       "      <td>0.041051</td>\n",
       "      <td>0.313961</td>\n",
       "      <td>0.331370</td>\n",
       "      <td>0.335865</td>\n",
       "      <td>0.269113</td>\n",
       "      <td>0.336413</td>\n",
       "      <td>-0.210577</td>\n",
       "      <td>1.000000</td>\n",
       "      <td>-0.168116</td>\n",
       "      <td>0.668972</td>\n",
       "    </tr>\n",
       "    <tr>\n",
       "      <th>IfLeft</th>\n",
       "      <td>0.029269</td>\n",
       "      <td>-0.078883</td>\n",
       "      <td>-0.201935</td>\n",
       "      <td>-0.225585</td>\n",
       "      <td>-0.289008</td>\n",
       "      <td>-0.510532</td>\n",
       "      <td>-0.127773</td>\n",
       "      <td>-0.168116</td>\n",
       "      <td>1.000000</td>\n",
       "      <td>-0.379551</td>\n",
       "    </tr>\n",
       "    <tr>\n",
       "      <th>ValueSum</th>\n",
       "      <td>0.015086</td>\n",
       "      <td>0.262971</td>\n",
       "      <td>0.379268</td>\n",
       "      <td>0.381710</td>\n",
       "      <td>0.560825</td>\n",
       "      <td>0.544727</td>\n",
       "      <td>-0.121743</td>\n",
       "      <td>0.668972</td>\n",
       "      <td>-0.379551</td>\n",
       "      <td>1.000000</td>\n",
       "    </tr>\n",
       "  </tbody>\n",
       "</table>\n",
       "</div>"
      ],
      "text/plain": [
       "                    Emp_ID       Age    Salary  Designation       TBV  \\\n",
       "Emp_ID            1.000000 -0.004458 -0.017876    -0.013897  0.028629   \n",
       "Age              -0.004458  1.000000  0.210767     0.252577  0.095944   \n",
       "Salary           -0.017876  0.210767  1.000000     0.741453  0.190941   \n",
       "Designation      -0.013897  0.252577  0.741453     1.000000  0.228364   \n",
       "TBV               0.028629  0.095944  0.190941     0.228364  1.000000   \n",
       "Rating            0.012889  0.150205  0.163429     0.120442  0.453893   \n",
       "Join_Designation -0.023126  0.081523  0.480523     0.712459  0.025054   \n",
       "WorkDays          0.041051  0.313961  0.331370     0.335865  0.269113   \n",
       "IfLeft            0.029269 -0.078883 -0.201935    -0.225585 -0.289008   \n",
       "ValueSum          0.015086  0.262971  0.379268     0.381710  0.560825   \n",
       "\n",
       "                    Rating  Join_Designation  WorkDays    IfLeft  ValueSum  \n",
       "Emp_ID            0.012889         -0.023126  0.041051  0.029269  0.015086  \n",
       "Age               0.150205          0.081523  0.313961 -0.078883  0.262971  \n",
       "Salary            0.163429          0.480523  0.331370 -0.201935  0.379268  \n",
       "Designation       0.120442          0.712459  0.335865 -0.225585  0.381710  \n",
       "TBV               0.453893          0.025054  0.269113 -0.289008  0.560825  \n",
       "Rating            1.000000         -0.063404  0.336413 -0.510532  0.544727  \n",
       "Join_Designation -0.063404          1.000000 -0.210577 -0.127773 -0.121743  \n",
       "WorkDays          0.336413         -0.210577  1.000000 -0.168116  0.668972  \n",
       "IfLeft           -0.510532         -0.127773 -0.168116  1.000000 -0.379551  \n",
       "ValueSum          0.544727         -0.121743  0.668972 -0.379551  1.000000  "
      ]
     },
     "execution_count": 172,
     "metadata": {},
     "output_type": "execute_result"
    }
   ],
   "source": [
    "korelacja"
   ]
  },
  {
   "cell_type": "code",
   "execution_count": 173,
   "id": "dd2c8bdd",
   "metadata": {},
   "outputs": [
    {
     "data": {
      "image/png": "[encoded data removed]",
      "text/plain": [
       "<Figure size 1000x800 with 2 Axes>"
      ]
     },
     "metadata": {
      "needs_background": "light"
     },
     "output_type": "display_data"
    }
   ],
   "source": [
    "plt.figure(figsize=(10, 8), dpi=100)\n",
    "sns.heatmap(korelacja, annot=True, vmin = -1, vmax = 1, cmap = sns.diverging_palette(140, 230, s=150, l=35, n=100))\n",
    "plt.show()"
   ]
  },
  {
   "cell_type": "code",
   "execution_count": 174,
   "id": "4a75b2c4",
   "metadata": {},
   "outputs": [],
   "source": [
    "#### Istnieje silna ujemna korelacja między odejściem pracownika z firmy, a jego oceną roczną. Pracownicy, którzy odeszli \n",
    "# częściej mieli niższy rating. "
   ]
  },
  {
   "cell_type": "code",
   "execution_count": 175,
   "id": "90a76313",
   "metadata": {},
   "outputs": [
    {
     "data": {
      "image/png": "[encoded data removed]",
      "text/plain": [
       "<Figure size 720x576 with 1 Axes>"
      ]
     },
     "metadata": {
      "needs_background": "light"
     },
     "output_type": "display_data"
    }
   ],
   "source": [
    "plt.figure(figsize=(10,8))\n",
    "ax=sns.countplot(x=\"Rating\", hue=\"IfLeft\", data=latest_eval, palette='ocean')\n",
    "bars = ax.patches\n",
    "half = int(len(bars)/2)\n",
    "left_bars = bars[:half]\n",
    "right_bars = bars[half:]\n",
    "\n",
    "for left, right in zip(left_bars, right_bars):\n",
    "        height_l = left.get_height()\n",
    "        height_r = right.get_height()\n",
    "        total = height_l + height_r\n",
    "        ax.text(left.get_x() + left.get_width()/2., height_l + 10, '{0:.0%}'.format(height_l/total), ha=\"center\")\n",
    "        ax.text(right.get_x() + right.get_width()/2., height_r + 10, '{0:.0%}'.format(height_r/total), ha=\"center\")\n",
    "plt.show()"
   ]
  },
  {
   "cell_type": "code",
   "execution_count": 176,
   "id": "c90a6a5c",
   "metadata": {},
   "outputs": [],
   "source": [
    "# Wśród pracowników z najniższą oceną, równą 1, aż 81% odeszło z firmy."
   ]
  },
  {
   "cell_type": "code",
   "execution_count": 177,
   "id": "f53af145",
   "metadata": {},
   "outputs": [
    {
     "data": {
      "image/png": "[encoded data removed]",
      "text/plain": [
       "<Figure size 720x576 with 1 Axes>"
      ]
     },
     "metadata": {
      "needs_background": "light"
     },
     "output_type": "display_data"
    }
   ],
   "source": [
    "plt.figure(figsize=(10,8))\n",
    "ax=sns.countplot(x=\"Designation\", hue=\"IfLeft\", data=latest_eval, palette='ocean')\n",
    "bars = ax.patches\n",
    "half = int(len(bars)/2)\n",
    "left_bars = bars[:half]\n",
    "right_bars = bars[half:]\n",
    "\n",
    "for left, right in zip(left_bars, right_bars):\n",
    "        height_l = left.get_height()\n",
    "        height_r = right.get_height()\n",
    "        total = height_l + height_r\n",
    "        ax.text(left.get_x() + left.get_width()/2., height_l + 10, '{0:.0%}'.format(height_l/total), ha=\"center\")\n",
    "        ax.text(right.get_x() + right.get_width()/2., height_r + 10, '{0:.0%}'.format(height_r/total), ha=\"center\")\n",
    "plt.show()"
   ]
  },
  {
   "cell_type": "code",
   "execution_count": 178,
   "id": "f8350745",
   "metadata": {},
   "outputs": [],
   "source": [
    "# Występuję równiez ujemna korelacja między poziomem klasyfikacji pracowników, a ich odejściem z firmy. Pracownicy o niższych klasyfikacjach \n",
    "# częściej odchodzą z firmy. Wśród pracowników o najniższych klasyfikacjach, aż 80% odeszło z firmy."
   ]
  },
  {
   "cell_type": "code",
   "execution_count": 179,
   "id": "7dc44838",
   "metadata": {},
   "outputs": [
    {
     "data": {
      "text/plain": [
       "<AxesSubplot:xlabel='Join_Designation', ylabel='count'>"
      ]
     },
     "execution_count": 179,
     "metadata": {},
     "output_type": "execute_result"
    },
    {
     "data": {
      "image/png": "[encoded data removed]",
      "text/plain": [
       "<Figure size 1440x720 with 3 Axes>"
      ]
     },
     "metadata": {
      "needs_background": "light"
     },
     "output_type": "display_data"
    }
   ],
   "source": [
    "plt.subplots(figsize=(20,10))\n",
    "\n",
    "plt.subplot(231)\n",
    "sns.countplot(x = 'Gender', data = latest_eval)\n",
    "\n",
    "plt.subplot(232)\n",
    "sns.countplot(x = 'Education_Level', data = latest_eval)\n",
    "\n",
    "plt.subplot(234)\n",
    "sns.countplot(x = 'Designation', data = latest_eval)\n",
    "\n",
    "plt.subplot(234)\n",
    "sns.countplot(x = 'Join_Designation', data = latest_eval)"
   ]
  },
  {
   "cell_type": "code",
   "execution_count": 180,
   "id": "1cb3b29c",
   "metadata": {},
   "outputs": [
    {
     "data": {
      "text/plain": [
       "<AxesSubplot:xlabel='IfLeft', ylabel='count'>"
      ]
     },
     "execution_count": 180,
     "metadata": {},
     "output_type": "execute_result"
    },
    {
     "data": {
      "image/png": "[encoded data removed]",
      "text/plain": [
       "<Figure size 1080x648 with 1 Axes>"
      ]
     },
     "metadata": {
      "needs_background": "light"
     },
     "output_type": "display_data"
    }
   ],
   "source": [
    "sns.countplot(x = 'IfLeft', data = latest_eval)   # próba jest lekko niezbilansowana. Przeważają pracownicy, którzy odeszli z firmy."
   ]
  },
  {
   "cell_type": "code",
   "execution_count": 181,
   "id": "325a5adc",
   "metadata": {},
   "outputs": [
    {
     "data": {
      "text/plain": [
       "<function matplotlib.pyplot.show(close=None, block=None)>"
      ]
     },
     "execution_count": 181,
     "metadata": {},
     "output_type": "execute_result"
    },
    {
     "data": {
      "image/png": "[encoded data removed]",
      "text/plain": [
       "<Figure size 1440x1440 with 16 Axes>"
      ]
     },
     "metadata": {
      "needs_background": "light"
     },
     "output_type": "display_data"
    }
   ],
   "source": [
    "latest_eval.hist(figsize=(20,20))\n",
    "plt.show"
   ]
  },
  {
   "cell_type": "code",
   "execution_count": 182,
   "id": "1753e0b9",
   "metadata": {},
   "outputs": [
    {
     "data": {
      "image/png": "[encoded data removed]",
      "text/plain": [
       "<Figure size 1080x432 with 1 Axes>"
      ]
     },
     "metadata": {
      "needs_background": "light"
     },
     "output_type": "display_data"
    }
   ],
   "source": [
    "plt.figure(figsize=(15,6))\n",
    "plt.style.use('seaborn-colorblind')\n",
    "plt.grid(True, alpha=0.5)\n",
    "sns.kdeplot(latest_eval.loc[latest_eval['IfLeft'] == 0, 'Age'], label = 'Active Employee')\n",
    "sns.kdeplot(latest_eval.loc[latest_eval['IfLeft'] == 1, 'Age'], label = 'Left the company')\n",
    "plt.xlim(left=18, right=60)\n",
    "plt.xlabel('Age (years)')\n",
    "plt.ylabel('Density')\n",
    "plt.title('Age Distribution in Percent by Attrition Status');"
   ]
  },
  {
   "cell_type": "code",
   "execution_count": 193,
   "id": "79f0b1a8",
   "metadata": {},
   "outputs": [],
   "source": [
    "def iv_cate(df, variable, target):\n",
    "    N_left = df[target].sum()\n",
    "    N_stay = len(df) - N_left\n",
    "    n_left = np.array(df.groupby(variable)[target].sum())\n",
    "    n_stay = np.array(df.groupby(variable)[target].count()) - n_left\n",
    "    iv = np.sum((n_stay/N_stay - n_left/N_left)*np.log(np.divide(n_stay,n_left)*N_left/N_stay))\n",
    "    return iv"
   ]
  },
  {
   "cell_type": "code",
   "execution_count": 194,
   "id": "9cd95d33",
   "metadata": {},
   "outputs": [
    {
     "data": {
      "text/plain": [
       "1.3447324887587895"
      ]
     },
     "execution_count": 194,
     "metadata": {},
     "output_type": "execute_result"
    }
   ],
   "source": [
    "iv_cate(latest_eval, \"Rating\", \"IfLeft\")"
   ]
  },
  {
   "cell_type": "code",
   "execution_count": 195,
   "id": "4e48c7ed",
   "metadata": {},
   "outputs": [],
   "source": [
    "def iv_cont(df, variable, target, bins):\n",
    "    copy = df.copy()\n",
    "    copy[\"Binned\"] = pd.cut(copy[variable], bins)\n",
    "    N_left = copy[target].sum()\n",
    "    N_stay = len(copy) - N_left\n",
    "    n_left = np.maximum(np.array(copy.groupby(\"Binned\")[target].sum()), np.ones(bins))\n",
    "    n_stay = np.maximum(np.array(copy.groupby(\"Binned\")[target].count()) - n_left, np.ones(bins))\n",
    "    iv = np.sum((n_stay/N_stay - n_left/N_left)*np.log(np.divide(n_stay,n_left)*N_left/N_stay))\n",
    "    return iv"
   ]
  },
  {
   "cell_type": "code",
   "execution_count": 196,
   "id": "9795eb95",
   "metadata": {},
   "outputs": [
    {
     "data": {
      "text/plain": [
       "0.2024845119423374"
      ]
     },
     "execution_count": 196,
     "metadata": {},
     "output_type": "execute_result"
    }
   ],
   "source": [
    "iv_cont(latest_eval, \"Salary\", \"IfLeft\", 10)"
   ]
  },
  {
   "cell_type": "code",
   "execution_count": 197,
   "id": "43187631",
   "metadata": {},
   "outputs": [],
   "source": [
    "cont = [\"Age\", \"Salary\", \"TBV\", \"WorkDays\", \"ValueSum\"]\n",
    "cate = [\"Gender\", \"Rating\", \"Designation\", \"Join_Designation\"]\n",
    "variables = cont + cate"
   ]
  },
  {
   "cell_type": "code",
   "execution_count": 201,
   "id": "cd90a080",
   "metadata": {},
   "outputs": [],
   "source": [
    "ivs = []\n",
    "for v in  variables:\n",
    "    if v in cont:\n",
    "        ivs.append(iv_cont(latest_eval, v, \"IfLeft\", 10))\n",
    "    else:\n",
    "        ivs.append(iv_cate(latest_eval, v, \"IfLeft\"))"
   ]
  },
  {
   "cell_type": "code",
   "execution_count": 203,
   "id": "83963e83",
   "metadata": {},
   "outputs": [
    {
     "data": {
      "text/plain": [
       "[0.06560994609904353,\n",
       " 0.2024845119423374,\n",
       " 0.1419979974854949,\n",
       " 0.2399573118614425,\n",
       " 0.7566546933183678,\n",
       " 0.0003691506832946155,\n",
       " 1.3447324887587895,\n",
       " 0.25636809352904155,\n",
       " 0.09133046968985373]"
      ]
     },
     "execution_count": 203,
     "metadata": {},
     "output_type": "execute_result"
    }
   ],
   "source": [
    "ivs"
   ]
  }
 ],
 "metadata": {
  "colab": {
   "collapsed_sections": [],
   "name": "EDA.ipynb",
   "provenance": []
  },
  "deepnote": {},
  "deepnote_execution_queue": [],
  "deepnote_notebook_id": "5363f8e6-ed31-4126-82c6-ba9d2effd0c4",
  "kernelspec": {
   "display_name": "Python 3 (ipykernel)",
   "language": "python",
   "name": "python3"
  },
  "language_info": {
   "codemirror_mode": {
    "name": "ipython",
    "version": 3
   },
   "file_extension": ".py",
   "mimetype": "text/x-python",
   "name": "python",
   "nbconvert_exporter": "python",
   "pygments_lexer": "ipython3",
   "version": "3.8.10"
  }
 },
 "nbformat": 4,
 "nbformat_minor": 5
}
