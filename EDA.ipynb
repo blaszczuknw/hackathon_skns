{
 "cells": [
  {
   "cell_type": "markdown",
   "id": "1d70541b",
   "metadata": {
    "cell_id": "fbbdc3f5-723a-4cbf-8b76-e4d61ef42161",
    "deepnote_cell_height": 600.59375,
    "deepnote_cell_type": "markdown",
    "id": "AF9tZEN3ViLA"
   },
   "source": [
    "Hello \n",
    "W ostatnich latach wzrosła koncentracja firm na zasobach ludzkich. Umiejętności i wiedza pracowników stanowią bardzo solidny fundament dla przedsiębiorstwa do budowania przewagi nad konkurencją i są niezbędnym składnikiem do dalszego rozwoju organizacji. Z tych powodów utrzymanie pracowników ramach organizacji jest kluczową kwestia do zajęcia się przez działy HR - utrata wartościowych pracowników jest bardzo kosztowna dla przedsiębiorstwa, a zatrudnianie nowych generuje wyższe koszty niż utrzymanie już tych obecnych.\n",
    "\n",
    "Innowacje związane z podejmowaniem decyzji na podstawie analizy danych wkraczają również do świata HR. Wyobraź sobie, że pracujesz w firmie SKNS Investment Ltd. jako analityk danych, a dział HR potrzebuje analizy która ułatwi proces decyzji co do przywiązania większej uwagi do pewnych grup pracowników na podstawie kryteriów obecnych w danym poniżej zbiorze danych. Dział HR dysponuje zbiorem danych o ocenach miesięcznych pracowników z działu sprzedaży ubezpieczeń do nowych klientów o następujących kolumnach:\n",
    "1. MMM.YY - Dzień wpisania oceny miesięcznej pracownika do bazy\n",
    "2. Emp_ID - Identyfikator pracownika\n",
    "3. Age - Wiek\n",
    "4. Gender - Płeć\n",
    "5. City - Identyfikator dla oddziału mieszczącego się w danym mieście\n",
    "6. Education_Level - Bachelor / College / Master\n",
    "7. Salary - Wynagrodzenie roczne\n",
    "8. Dateofjoining - Data dołączenia do firmy\n",
    "9. LastWorkingDate - Data odejścia, jeśli pracownik odszedł w danym okresie\n",
    "10. Joining.Designation - pięciostopniowy poziom kwalifikacji podczas rekrutacji (1 - niski poziom, 5 - bardzo wysoki poziom)\n",
    "11. Designation - aktualny poziom kwalifikacji\n",
    "12. Total.Business.Value - Sumaryczna ilość sprzedanych ubezpieczeń (KPI z którego są rozliczani w perspektywie miesięcznej)\n",
    "13. Quarterly.Rating - ocena roczna (1 - niski poziom, 5 bardzo wysoki poziom)\n",
    "podczas\n",
    "Sporządź wstępną analizę wynikającą z eksploracji dołączonego zbioru danych, z przedstawieniem kluczowych wniosków dla działu HR, którzy pracownicy mają większą a którzy mniejszą szansę na odejście z firmy w najbliższym czasie. Dołączona analiza ma zostać przygotowana przy pomocy jednego z języków programowania (akceptowane są wyłącznie Python/R/Julia) w Jupyter Notebook wraz z wykresami pokazującymi odpowiednie zauważone przez Waszą drużynę zależności.\n",
    "\n"
   ]
  },
  {
   "cell_type": "markdown",
   "id": "8a2450a5",
   "metadata": {
    "cell_id": "a261a2decfa949a3b60804dbccdcaaba",
    "deepnote_cell_type": "text-cell-h3",
    "is_collapsed": false,
    "tags": []
   },
   "source": [
    "### Streszczenie"
   ]
  },
  {
   "cell_type": "markdown",
   "id": "742bef94",
   "metadata": {
    "cell_id": "773bd44637114de7952420d617e44625",
    "deepnote_cell_type": "text-cell-p",
    "is_collapsed": false,
    "tags": []
   },
   "source": [
    "W ostatnich latach wzrosła koncentracja firm na zasobach ludzkich. Umiejętności i wiedza pracowników stanowią bardzo solidny fundament dla przedsiębiorstwa do budowania przewagi nad konkurencją i są niezbędnym składnikiem do dalszego rozwoju organizacji. Z tych powodów utrzymanie pracowników w ramach organizacji jest kluczową kwestia do zajęcia się przez działy HR - utrata wartościowych pracowników jest bardzo kosztowna dla przedsiębiorstwa, a zatrudnianie nowych generuje wyższe koszty niż utrzymanie już tych obecnych. "
   ]
  },
  {
   "cell_type": "markdown",
   "id": "018c914a",
   "metadata": {
    "cell_id": "f11977b69bcd4c92ad22186caeaf511e",
    "deepnote_cell_type": "text-cell-p",
    "is_collapsed": false,
    "owner_user_id": "0942fe7c-d564-4958-aa37-7e4a0f05d61c",
    "tags": []
   },
   "source": [
    "Popularnosc wykorzystania sztucznej inteligencji, metod machine learning i deep learning w działach HR rośnie. Rozwój organizacji i jej stabilnosc w duzym stopniu związana jest z rotacją pracowników, będącą ważnym czynnikiem ryzyka biznesowego. Według szacunków portalu strefabiznesu.pl w najbardziej dynamicznych sektorach, takich jak IT czy SSC/BPO rotacja w 2022 roku będzie sięgać 25 proc. To znaczy, że firmy mogą stracić nawet co czwartego pracownika."
   ]
  },
  {
   "cell_type": "code",
   "execution_count": 2,
   "id": "92720754",
   "metadata": {
    "cell_id": "00001-a3ba12a2-3810-454d-94f3-b0ac67200be5",
    "deepnote_cell_height": 261,
    "deepnote_cell_type": "code",
    "deepnote_to_be_reexecuted": false,
    "execution_millis": 3176,
    "execution_start": 1649274011911,
    "id": "8874b9b9",
    "source_hash": "eeadbf91"
   },
   "outputs": [],
   "source": [
    "import numpy as np\n",
    "import pandas as pd\n",
    "import matplotlib\n",
    "from matplotlib import pyplot as plt\n",
    "%matplotlib inline\n",
    "from scipy import stats\n",
    "import seaborn as sns\n",
    "\n",
    "matplotlib.rcParams['figure.figsize'] = [15, 9]\n",
    "\n",
    "pd.options.mode.chained_assignment = None  # default='warn'"
   ]
  },
  {
   "cell_type": "code",
   "execution_count": 3,
   "id": "f293cac0",
   "metadata": {
    "cell_id": "00002-7942e668-db9d-466d-8db3-aea5f3f14502",
    "colab": {
     "base_uri": "https://localhost:8080/"
    },
    "deepnote_cell_height": 99,
    "deepnote_cell_type": "code",
    "deepnote_to_be_reexecuted": false,
    "execution_millis": 8,
    "execution_start": 1649274015096,
    "id": "raETKNRH3B1L",
    "outputId": "267b8e71-3881-444e-d30c-d1c68f16527e",
    "source_hash": "5274cba9"
   },
   "outputs": [
    {
     "ename": "SyntaxError",
     "evalue": "invalid syntax (4013653241.py, line 1)",
     "output_type": "error",
     "traceback": [
      "\u001b[0;36m  Input \u001b[0;32mIn [3]\u001b[0;36m\u001b[0m\n\u001b[0;31m    Wczytywanie plików csv z repozytorium GitHub.\u001b[0m\n\u001b[0m                ^\u001b[0m\n\u001b[0;31mSyntaxError\u001b[0m\u001b[0;31m:\u001b[0m invalid syntax\n"
     ]
    }
   ],
   "source": [
    "Wczytywanie plików csv z repozytorium GitHub."
   ]
  },
  {
   "cell_type": "code",
   "execution_count": 15,
   "id": "56bb0175",
   "metadata": {
    "cell_id": "00003-f776b67e-0ca8-4f3a-981a-7f08ca5926ca",
    "deepnote_cell_height": 99,
    "deepnote_cell_type": "code",
    "deepnote_to_be_reexecuted": false,
    "execution_millis": 62,
    "execution_start": 1649274043566,
    "id": "2944da95",
    "source_hash": "d09cc96a"
   },
   "outputs": [],
   "source": [
    "url = 'https://raw.githubusercontent.com/blaszczuknw/hackathon_skns/main/Attrition_dataset.csv'\n",
    "df = pd.read_csv(url, sep = \";\")\n",
    "\n",
    "url_cities = 'https://raw.githubusercontent.com/blaszczuknw/hackathon_skns/main/Cities_map.csv'\n",
    "df_cities = pd.read_csv(url_cities, sep = \";\")"
   ]
  },
  {
   "cell_type": "code",
   "execution_count": 16,
   "id": "c7fc4ba0",
   "metadata": {
    "cell_id": "00004-2ab286d8-bc3a-4ade-a90f-fc8b8d557b82",
    "colab": {
     "base_uri": "https://localhost:8080/",
     "height": 206
    },
    "deepnote_cell_height": 660,
    "deepnote_cell_type": "code",
    "deepnote_output_heights": [
     177
    ],
    "deepnote_table_invalid": true,
    "deepnote_table_loading": false,
    "deepnote_table_state": {
     "filters": [],
     "pageIndex": 1881,
     "pageSize": 10,
     "sortBy": []
    },
    "deepnote_to_be_reexecuted": false,
    "execution_millis": 449,
    "execution_start": 1649274111589,
    "id": "4fd09553",
    "outputId": "10e7b008-4f7f-45a9-9980-5a9e0047e845",
    "source_hash": "f804c160"
   },
   "outputs": [
    {
     "data": {
      "text/html": [
       "<div>\n",
       "<style scoped>\n",
       "    .dataframe tbody tr th:only-of-type {\n",
       "        vertical-align: middle;\n",
       "    }\n",
       "\n",
       "    .dataframe tbody tr th {\n",
       "        vertical-align: top;\n",
       "    }\n",
       "\n",
       "    .dataframe thead th {\n",
       "        text-align: right;\n",
       "    }\n",
       "</style>\n",
       "<table border=\"1\" class=\"dataframe\">\n",
       "  <thead>\n",
       "    <tr style=\"text-align: right;\">\n",
       "      <th></th>\n",
       "      <th>Emp_ID</th>\n",
       "      <th>MMM.YY</th>\n",
       "      <th>Age</th>\n",
       "      <th>Salary</th>\n",
       "      <th>LastWorkingDate</th>\n",
       "      <th>Designation</th>\n",
       "      <th>Total.Business.Value</th>\n",
       "      <th>Quarterly.Rating</th>\n",
       "      <th>Gender</th>\n",
       "      <th>City</th>\n",
       "      <th>Education_Level</th>\n",
       "      <th>Dateofjoining</th>\n",
       "      <th>Joining.Designation</th>\n",
       "    </tr>\n",
       "  </thead>\n",
       "  <tbody>\n",
       "    <tr>\n",
       "      <th>0</th>\n",
       "      <td>1</td>\n",
       "      <td>01.01.2016</td>\n",
       "      <td>28</td>\n",
       "      <td>57387,00 USD</td>\n",
       "      <td>NaN</td>\n",
       "      <td>1</td>\n",
       "      <td>2381060</td>\n",
       "      <td>2</td>\n",
       "      <td>Male</td>\n",
       "      <td>C23</td>\n",
       "      <td>MASTER</td>\n",
       "      <td>24.12.2015</td>\n",
       "      <td>1</td>\n",
       "    </tr>\n",
       "    <tr>\n",
       "      <th>1</th>\n",
       "      <td>1</td>\n",
       "      <td>01.02.2016</td>\n",
       "      <td>28</td>\n",
       "      <td>57387,00 USD</td>\n",
       "      <td>NaN</td>\n",
       "      <td>1</td>\n",
       "      <td>-665480</td>\n",
       "      <td>2</td>\n",
       "      <td>Male</td>\n",
       "      <td>C23</td>\n",
       "      <td>MASTER</td>\n",
       "      <td>24.12.2015</td>\n",
       "      <td>1</td>\n",
       "    </tr>\n",
       "    <tr>\n",
       "      <th>2</th>\n",
       "      <td>1</td>\n",
       "      <td>01.03.2016</td>\n",
       "      <td>28</td>\n",
       "      <td>57387,00 USD</td>\n",
       "      <td>11.03.2016</td>\n",
       "      <td>1</td>\n",
       "      <td>0</td>\n",
       "      <td>2</td>\n",
       "      <td>Male</td>\n",
       "      <td>C23</td>\n",
       "      <td>MASTER</td>\n",
       "      <td>24.12.2015</td>\n",
       "      <td>1</td>\n",
       "    </tr>\n",
       "    <tr>\n",
       "      <th>3</th>\n",
       "      <td>2</td>\n",
       "      <td>01.11.2017</td>\n",
       "      <td>31</td>\n",
       "      <td>67016,00 USD</td>\n",
       "      <td>NaN</td>\n",
       "      <td>2</td>\n",
       "      <td>0</td>\n",
       "      <td>1</td>\n",
       "      <td>Male</td>\n",
       "      <td>C7</td>\n",
       "      <td>Master</td>\n",
       "      <td>06.11.2017</td>\n",
       "      <td>2</td>\n",
       "    </tr>\n",
       "    <tr>\n",
       "      <th>4</th>\n",
       "      <td>2</td>\n",
       "      <td>01.12.2017</td>\n",
       "      <td>31</td>\n",
       "      <td>67016,00 USD</td>\n",
       "      <td>NaN</td>\n",
       "      <td>2</td>\n",
       "      <td>0</td>\n",
       "      <td>1</td>\n",
       "      <td>Male</td>\n",
       "      <td>C7</td>\n",
       "      <td>Master</td>\n",
       "      <td>06.11.2017</td>\n",
       "      <td>2</td>\n",
       "    </tr>\n",
       "    <tr>\n",
       "      <th>...</th>\n",
       "      <td>...</td>\n",
       "      <td>...</td>\n",
       "      <td>...</td>\n",
       "      <td>...</td>\n",
       "      <td>...</td>\n",
       "      <td>...</td>\n",
       "      <td>...</td>\n",
       "      <td>...</td>\n",
       "      <td>...</td>\n",
       "      <td>...</td>\n",
       "      <td>...</td>\n",
       "      <td>...</td>\n",
       "      <td>...</td>\n",
       "    </tr>\n",
       "    <tr>\n",
       "      <th>19185</th>\n",
       "      <td>2044</td>\n",
       "      <td>01.03.2017</td>\n",
       "      <td>34</td>\n",
       "      <td>38619,00 USD</td>\n",
       "      <td>23.03.2017</td>\n",
       "      <td>2</td>\n",
       "      <td>0</td>\n",
       "      <td>1</td>\n",
       "      <td>Male</td>\n",
       "      <td>C20</td>\n",
       "      <td>Colege</td>\n",
       "      <td>15.11.2016</td>\n",
       "      <td>2</td>\n",
       "    </tr>\n",
       "    <tr>\n",
       "      <th>19186</th>\n",
       "      <td>2651</td>\n",
       "      <td>01.08.2017</td>\n",
       "      <td>34</td>\n",
       "      <td>62292,00 USD</td>\n",
       "      <td>29.07.2017</td>\n",
       "      <td>2</td>\n",
       "      <td>180000</td>\n",
       "      <td>1</td>\n",
       "      <td>Male</td>\n",
       "      <td>C11</td>\n",
       "      <td>Master</td>\n",
       "      <td>27.06.2016</td>\n",
       "      <td>2</td>\n",
       "    </tr>\n",
       "    <tr>\n",
       "      <th>19187</th>\n",
       "      <td>1864</td>\n",
       "      <td>01.01.2016</td>\n",
       "      <td>32</td>\n",
       "      <td>85688,00 USD</td>\n",
       "      <td>NaN</td>\n",
       "      <td>3</td>\n",
       "      <td>3414220</td>\n",
       "      <td>3</td>\n",
       "      <td>Female</td>\n",
       "      <td>C29</td>\n",
       "      <td>Bachelor</td>\n",
       "      <td>11.08.2011</td>\n",
       "      <td>1</td>\n",
       "    </tr>\n",
       "    <tr>\n",
       "      <th>19188</th>\n",
       "      <td>2422</td>\n",
       "      <td>01.05.2016</td>\n",
       "      <td>47</td>\n",
       "      <td>111507,00 USD</td>\n",
       "      <td>NaN</td>\n",
       "      <td>4</td>\n",
       "      <td>202400</td>\n",
       "      <td>2</td>\n",
       "      <td>Male</td>\n",
       "      <td>C4</td>\n",
       "      <td>Bachelor's</td>\n",
       "      <td>26.08.2011</td>\n",
       "      <td>2</td>\n",
       "    </tr>\n",
       "    <tr>\n",
       "      <th>19189</th>\n",
       "      <td>2598</td>\n",
       "      <td>01.10.2016</td>\n",
       "      <td>36</td>\n",
       "      <td>102822,00 USD</td>\n",
       "      <td>NaN</td>\n",
       "      <td>3</td>\n",
       "      <td>0</td>\n",
       "      <td>1</td>\n",
       "      <td>Female</td>\n",
       "      <td>C20</td>\n",
       "      <td>Master</td>\n",
       "      <td>20.09.2016</td>\n",
       "      <td>3</td>\n",
       "    </tr>\n",
       "  </tbody>\n",
       "</table>\n",
       "<p>19190 rows × 13 columns</p>\n",
       "</div>"
      ],
      "text/plain": [
       "       Emp_ID      MMM.YY  Age         Salary LastWorkingDate  Designation  \\\n",
       "0           1  01.01.2016   28   57387,00 USD             NaN            1   \n",
       "1           1  01.02.2016   28   57387,00 USD             NaN            1   \n",
       "2           1  01.03.2016   28   57387,00 USD      11.03.2016            1   \n",
       "3           2  01.11.2017   31   67016,00 USD             NaN            2   \n",
       "4           2  01.12.2017   31   67016,00 USD             NaN            2   \n",
       "...       ...         ...  ...            ...             ...          ...   \n",
       "19185    2044  01.03.2017   34   38619,00 USD      23.03.2017            2   \n",
       "19186    2651  01.08.2017   34   62292,00 USD      29.07.2017            2   \n",
       "19187    1864  01.01.2016   32   85688,00 USD             NaN            3   \n",
       "19188    2422  01.05.2016   47  111507,00 USD             NaN            4   \n",
       "19189    2598  01.10.2016   36  102822,00 USD             NaN            3   \n",
       "\n",
       "       Total.Business.Value  Quarterly.Rating  Gender City Education_Level  \\\n",
       "0                   2381060                 2    Male  C23          MASTER   \n",
       "1                   -665480                 2    Male  C23          MASTER   \n",
       "2                         0                 2    Male  C23          MASTER   \n",
       "3                         0                 1    Male   C7          Master   \n",
       "4                         0                 1    Male   C7          Master   \n",
       "...                     ...               ...     ...  ...             ...   \n",
       "19185                     0                 1    Male  C20          Colege   \n",
       "19186                180000                 1    Male  C11          Master   \n",
       "19187               3414220                 3  Female  C29        Bachelor   \n",
       "19188                202400                 2    Male   C4      Bachelor's   \n",
       "19189                     0                 1  Female  C20          Master   \n",
       "\n",
       "      Dateofjoining  Joining.Designation  \n",
       "0        24.12.2015                    1  \n",
       "1        24.12.2015                    1  \n",
       "2        24.12.2015                    1  \n",
       "3        06.11.2017                    2  \n",
       "4        06.11.2017                    2  \n",
       "...             ...                  ...  \n",
       "19185    15.11.2016                    2  \n",
       "19186    27.06.2016                    2  \n",
       "19187    11.08.2011                    1  \n",
       "19188    26.08.2011                    2  \n",
       "19189    20.09.2016                    3  \n",
       "\n",
       "[19190 rows x 13 columns]"
      ]
     },
     "execution_count": 16,
     "metadata": {},
     "output_type": "execute_result"
    }
   ],
   "source": [
    "df"
   ]
  },
  {
   "cell_type": "code",
   "execution_count": 6,
   "id": "55223776",
   "metadata": {
    "cell_id": "00005-2139c5a3-7cd9-4d6a-89a5-412335a5eb5f",
    "colab": {
     "base_uri": "https://localhost:8080/",
     "height": 206
    },
    "deepnote_cell_height": 660,
    "deepnote_cell_type": "code",
    "deepnote_output_heights": [
     177
    ],
    "deepnote_table_invalid": true,
    "deepnote_table_loading": false,
    "deepnote_table_state": {
     "filters": [],
     "pageIndex": 38,
     "pageSize": 10,
     "sortBy": []
    },
    "deepnote_to_be_reexecuted": false,
    "execution_millis": 117,
    "execution_start": 1649274591513,
    "id": "8069cbd4",
    "outputId": "e81e1169-1b71-4779-9dee-c9e6f1a9205c",
    "owner_user_id": "0921527d-3c46-4fae-937a-d104a4143692",
    "source_hash": "d7192e7d"
   },
   "outputs": [
    {
     "ename": "NameError",
     "evalue": "name 'df' is not defined",
     "output_type": "error",
     "traceback": [
      "\u001b[0;31m---------------------------------------------------------------------------\u001b[0m",
      "\u001b[0;31mNameError\u001b[0m                                 Traceback (most recent call last)",
      "Input \u001b[0;32mIn [6]\u001b[0m, in \u001b[0;36m<cell line: 1>\u001b[0;34m()\u001b[0m\n\u001b[0;32m----> 1\u001b[0m \u001b[43mdf\u001b[49m[df\u001b[38;5;241m.\u001b[39mLastWorkingDate\u001b[38;5;241m.\u001b[39mnotna()]\n",
      "\u001b[0;31mNameError\u001b[0m: name 'df' is not defined"
     ]
    }
   ],
   "source": [
    "df[df.LastWorkingDate.notna()]"
   ]
  },
  {
   "cell_type": "code",
   "execution_count": null,
   "id": "cef56cd7",
   "metadata": {
    "cell_id": "00006-a2eb9a13-9cd0-4f40-9288-c7a4de178eed",
    "colab": {
     "base_uri": "https://localhost:8080/"
    },
    "deepnote_cell_height": 137.375,
    "deepnote_cell_type": "code",
    "deepnote_output_heights": [
     40.375
    ],
    "deepnote_to_be_reexecuted": false,
    "execution_millis": 8,
    "execution_start": 1649274367879,
    "id": "0d3dff3d",
    "outputId": "ecd6953f-5a5a-4228-b9cb-2bcef35d8241",
    "source_hash": "2d699ba8"
   },
   "outputs": [
    {
     "data": {
      "text/plain": [
       "array(['MASTER', 'Master', 'Colege', 'Bachelor', 'College', \"Bachelor's\"],\n",
       "      dtype=object)"
      ]
     },
     "execution_count": 10,
     "metadata": {},
     "output_type": "execute_result"
    }
   ],
   "source": [
    "df.Education_Level.unique()"
   ]
  },
  {
   "cell_type": "markdown",
   "id": "5576c24e",
   "metadata": {
    "cell_id": "00007-1df94eff-28d0-4325-a09a-0547e8cd37be",
    "deepnote_cell_height": 52.390625,
    "deepnote_cell_type": "markdown",
    "id": "RG1pY1hWVRHM"
   },
   "source": [
    "W kolumnie \"Education_Level\" są użyte różne nazwy na te same stopnie edukacji, wieć standaryzują to nazewnictwo"
   ]
  },
  {
   "cell_type": "code",
   "execution_count": null,
   "id": "4ac2f223",
   "metadata": {
    "cell_id": "00008-6835e21b-4b42-4a64-8a96-a391f730486c",
    "deepnote_cell_height": 81,
    "deepnote_cell_type": "code",
    "deepnote_to_be_reexecuted": false,
    "execution_millis": 38,
    "execution_start": 1649274369056,
    "id": "90340cfb",
    "source_hash": "595e53aa"
   },
   "outputs": [],
   "source": [
    "df = df.replace(to_replace = {'MASTER':'Master', 'Colege':'College', \"Bachelor's\":'Bachelor'})"
   ]
  },
  {
   "cell_type": "code",
   "execution_count": null,
   "id": "bc8036b9",
   "metadata": {
    "cell_id": "00009-9e28611d-3ecc-4d84-bff7-7bc5f1e87dec",
    "colab": {
     "base_uri": "https://localhost:8080/"
    },
    "deepnote_cell_height": 495.75,
    "deepnote_cell_type": "code",
    "deepnote_to_be_reexecuted": false,
    "execution_millis": 36,
    "execution_start": 1649274370281,
    "id": "18de0559",
    "outputId": "ca362cdb-892b-4513-dc4b-a45c40ef7e59",
    "source_hash": "de1e323c"
   },
   "outputs": [
    {
     "name": "stdout",
     "output_type": "stream",
     "text": [
      "<class 'pandas.core.frame.DataFrame'>\n",
      "RangeIndex: 19190 entries, 0 to 19189\n",
      "Data columns (total 13 columns):\n",
      " #   Column                Non-Null Count  Dtype \n",
      "---  ------                --------------  ----- \n",
      " 0   Emp_ID                19190 non-null  int64 \n",
      " 1   MMM.YY                19190 non-null  object\n",
      " 2   Age                   19190 non-null  int64 \n",
      " 3   Salary                19190 non-null  object\n",
      " 4   LastWorkingDate       1628 non-null   object\n",
      " 5   Designation           19190 non-null  int64 \n",
      " 6   Total.Business.Value  19190 non-null  int64 \n",
      " 7   Quarterly.Rating      19190 non-null  int64 \n",
      " 8   Gender                19190 non-null  object\n",
      " 9   City                  19190 non-null  object\n",
      " 10  Education_Level       19190 non-null  object\n",
      " 11  Dateofjoining         19190 non-null  object\n",
      " 12  Joining.Designation   19190 non-null  int64 \n",
      "dtypes: int64(6), object(7)\n",
      "memory usage: 1.9+ MB\n"
     ]
    }
   ],
   "source": [
    "df.info()"
   ]
  },
  {
   "cell_type": "code",
   "execution_count": null,
   "id": "da7c614f",
   "metadata": {
    "cell_id": "00010-f74af4b1-7b53-4730-b939-e4cb9a927324",
    "deepnote_cell_height": 288.1875,
    "deepnote_cell_type": "code",
    "deepnote_to_be_reexecuted": false,
    "execution_millis": 138,
    "execution_start": 1649274371407,
    "id": "d73e05fc",
    "source_hash": "1a027bb"
   },
   "outputs": [
    {
     "ename": "ValueError",
     "evalue": "time data '16.Oct.18' does not match format '%d.%m.%Y' (match)",
     "output_type": "error",
     "traceback": [
      "\u001b[0;31m---------------------------------------------------------------------------\u001b[0m",
      "\u001b[0;31mTypeError\u001b[0m                                 Traceback (most recent call last)",
      "\u001b[0;32m/shared-libs/python3.7/py/lib/python3.7/site-packages/pandas/core/tools/datetimes.py\u001b[0m in \u001b[0;36m_convert_listlike_datetimes\u001b[0;34m(arg, format, name, tz, unit, errors, infer_datetime_format, dayfirst, yearfirst, exact)\u001b[0m\n\u001b[1;32m    455\u001b[0m             \u001b[0;32mtry\u001b[0m\u001b[0;34m:\u001b[0m\u001b[0;34m\u001b[0m\u001b[0;34m\u001b[0m\u001b[0m\n\u001b[0;32m--> 456\u001b[0;31m                 \u001b[0mvalues\u001b[0m\u001b[0;34m,\u001b[0m \u001b[0mtz\u001b[0m \u001b[0;34m=\u001b[0m \u001b[0mconversion\u001b[0m\u001b[0;34m.\u001b[0m\u001b[0mdatetime_to_datetime64\u001b[0m\u001b[0;34m(\u001b[0m\u001b[0marg\u001b[0m\u001b[0;34m)\u001b[0m\u001b[0;34m\u001b[0m\u001b[0;34m\u001b[0m\u001b[0m\n\u001b[0m\u001b[1;32m    457\u001b[0m                 \u001b[0mdta\u001b[0m \u001b[0;34m=\u001b[0m \u001b[0mDatetimeArray\u001b[0m\u001b[0;34m(\u001b[0m\u001b[0mvalues\u001b[0m\u001b[0;34m,\u001b[0m \u001b[0mdtype\u001b[0m\u001b[0;34m=\u001b[0m\u001b[0mtz_to_dtype\u001b[0m\u001b[0;34m(\u001b[0m\u001b[0mtz\u001b[0m\u001b[0;34m)\u001b[0m\u001b[0;34m)\u001b[0m\u001b[0;34m\u001b[0m\u001b[0;34m\u001b[0m\u001b[0m\n",
      "\u001b[0;32mpandas/_libs/tslibs/conversion.pyx\u001b[0m in \u001b[0;36mpandas._libs.tslibs.conversion.datetime_to_datetime64\u001b[0;34m()\u001b[0m\n",
      "\u001b[0;31mTypeError\u001b[0m: Unrecognized value type: <class 'str'>",
      "\nDuring handling of the above exception, another exception occurred:\n",
      "\u001b[0;31mValueError\u001b[0m                                Traceback (most recent call last)",
      "\u001b[0;32m<ipython-input-13-9fb1790adba2>\u001b[0m in \u001b[0;36m<module>\u001b[0;34m\u001b[0m\n\u001b[1;32m      6\u001b[0m \u001b[0;31m# MMM.YY , LastWorkingDate oraz Dateofjoining mają typ object więc zmieniam je na typ date\u001b[0m\u001b[0;34m\u001b[0m\u001b[0;34m\u001b[0m\u001b[0;34m\u001b[0m\u001b[0m\n\u001b[1;32m      7\u001b[0m \u001b[0mdf\u001b[0m\u001b[0;34m.\u001b[0m\u001b[0mDateofeval\u001b[0m \u001b[0;34m=\u001b[0m \u001b[0mpd\u001b[0m\u001b[0;34m.\u001b[0m\u001b[0mto_datetime\u001b[0m\u001b[0;34m(\u001b[0m\u001b[0mdf\u001b[0m\u001b[0;34m.\u001b[0m\u001b[0mDateofeval\u001b[0m\u001b[0;34m,\u001b[0m \u001b[0mformat\u001b[0m\u001b[0;34m=\u001b[0m\u001b[0;34m'%d.%m.%Y'\u001b[0m\u001b[0;34m)\u001b[0m\u001b[0;34m\u001b[0m\u001b[0;34m\u001b[0m\u001b[0m\n\u001b[0;32m----> 8\u001b[0;31m \u001b[0mdf\u001b[0m\u001b[0;34m.\u001b[0m\u001b[0mDateofjoining\u001b[0m \u001b[0;34m=\u001b[0m \u001b[0mpd\u001b[0m\u001b[0;34m.\u001b[0m\u001b[0mto_datetime\u001b[0m\u001b[0;34m(\u001b[0m\u001b[0mdf\u001b[0m\u001b[0;34m.\u001b[0m\u001b[0mDateofjoining\u001b[0m\u001b[0;34m,\u001b[0m \u001b[0mformat\u001b[0m\u001b[0;34m=\u001b[0m\u001b[0;34m'%d.%m.%Y'\u001b[0m\u001b[0;34m)\u001b[0m\u001b[0;34m\u001b[0m\u001b[0;34m\u001b[0m\u001b[0m\n\u001b[0m\u001b[1;32m      9\u001b[0m \u001b[0mdf\u001b[0m\u001b[0;34m.\u001b[0m\u001b[0mLastWorkingDate\u001b[0m \u001b[0;34m=\u001b[0m \u001b[0mpd\u001b[0m\u001b[0;34m.\u001b[0m\u001b[0mto_datetime\u001b[0m\u001b[0;34m(\u001b[0m\u001b[0mdf\u001b[0m\u001b[0;34m.\u001b[0m\u001b[0mLastWorkingDate\u001b[0m\u001b[0;34m,\u001b[0m \u001b[0mformat\u001b[0m\u001b[0;34m=\u001b[0m\u001b[0;34m'%d.%m.%Y'\u001b[0m\u001b[0;34m)\u001b[0m\u001b[0;34m\u001b[0m\u001b[0;34m\u001b[0m\u001b[0m\n",
      "\u001b[0;32m/shared-libs/python3.7/py/lib/python3.7/site-packages/pandas/core/tools/datetimes.py\u001b[0m in \u001b[0;36mto_datetime\u001b[0;34m(arg, errors, dayfirst, yearfirst, utc, format, exact, unit, infer_datetime_format, origin, cache)\u001b[0m\n\u001b[1;32m    799\u001b[0m                 \u001b[0mresult\u001b[0m \u001b[0;34m=\u001b[0m \u001b[0mresult\u001b[0m\u001b[0;34m.\u001b[0m\u001b[0mtz_localize\u001b[0m\u001b[0;34m(\u001b[0m\u001b[0mtz\u001b[0m\u001b[0;34m)\u001b[0m\u001b[0;34m\u001b[0m\u001b[0;34m\u001b[0m\u001b[0m\n\u001b[1;32m    800\u001b[0m     \u001b[0;32melif\u001b[0m \u001b[0misinstance\u001b[0m\u001b[0;34m(\u001b[0m\u001b[0marg\u001b[0m\u001b[0;34m,\u001b[0m \u001b[0mABCSeries\u001b[0m\u001b[0;34m)\u001b[0m\u001b[0;34m:\u001b[0m\u001b[0;34m\u001b[0m\u001b[0;34m\u001b[0m\u001b[0m\n\u001b[0;32m--> 801\u001b[0;31m         \u001b[0mcache_array\u001b[0m \u001b[0;34m=\u001b[0m \u001b[0m_maybe_cache\u001b[0m\u001b[0;34m(\u001b[0m\u001b[0marg\u001b[0m\u001b[0;34m,\u001b[0m \u001b[0mformat\u001b[0m\u001b[0;34m,\u001b[0m \u001b[0mcache\u001b[0m\u001b[0;34m,\u001b[0m \u001b[0mconvert_listlike\u001b[0m\u001b[0;34m)\u001b[0m\u001b[0;34m\u001b[0m\u001b[0;34m\u001b[0m\u001b[0m\n\u001b[0m\u001b[1;32m    802\u001b[0m         \u001b[0;32mif\u001b[0m \u001b[0;32mnot\u001b[0m \u001b[0mcache_array\u001b[0m\u001b[0;34m.\u001b[0m\u001b[0mempty\u001b[0m\u001b[0;34m:\u001b[0m\u001b[0;34m\u001b[0m\u001b[0;34m\u001b[0m\u001b[0m\n\u001b[1;32m    803\u001b[0m             \u001b[0mresult\u001b[0m \u001b[0;34m=\u001b[0m \u001b[0marg\u001b[0m\u001b[0;34m.\u001b[0m\u001b[0mmap\u001b[0m\u001b[0;34m(\u001b[0m\u001b[0mcache_array\u001b[0m\u001b[0;34m)\u001b[0m\u001b[0;34m\u001b[0m\u001b[0;34m\u001b[0m\u001b[0m\n",
      "\u001b[0;32m/shared-libs/python3.7/py/lib/python3.7/site-packages/pandas/core/tools/datetimes.py\u001b[0m in \u001b[0;36m_maybe_cache\u001b[0;34m(arg, format, cache, convert_listlike)\u001b[0m\n\u001b[1;32m    176\u001b[0m         \u001b[0munique_dates\u001b[0m \u001b[0;34m=\u001b[0m \u001b[0munique\u001b[0m\u001b[0;34m(\u001b[0m\u001b[0marg\u001b[0m\u001b[0;34m)\u001b[0m\u001b[0;34m\u001b[0m\u001b[0;34m\u001b[0m\u001b[0m\n\u001b[1;32m    177\u001b[0m         \u001b[0;32mif\u001b[0m \u001b[0mlen\u001b[0m\u001b[0;34m(\u001b[0m\u001b[0munique_dates\u001b[0m\u001b[0;34m)\u001b[0m \u001b[0;34m<\u001b[0m \u001b[0mlen\u001b[0m\u001b[0;34m(\u001b[0m\u001b[0marg\u001b[0m\u001b[0;34m)\u001b[0m\u001b[0;34m:\u001b[0m\u001b[0;34m\u001b[0m\u001b[0;34m\u001b[0m\u001b[0m\n\u001b[0;32m--> 178\u001b[0;31m             \u001b[0mcache_dates\u001b[0m \u001b[0;34m=\u001b[0m \u001b[0mconvert_listlike\u001b[0m\u001b[0;34m(\u001b[0m\u001b[0munique_dates\u001b[0m\u001b[0;34m,\u001b[0m \u001b[0mformat\u001b[0m\u001b[0;34m)\u001b[0m\u001b[0;34m\u001b[0m\u001b[0;34m\u001b[0m\u001b[0m\n\u001b[0m\u001b[1;32m    179\u001b[0m             \u001b[0mcache_array\u001b[0m \u001b[0;34m=\u001b[0m \u001b[0mSeries\u001b[0m\u001b[0;34m(\u001b[0m\u001b[0mcache_dates\u001b[0m\u001b[0;34m,\u001b[0m \u001b[0mindex\u001b[0m\u001b[0;34m=\u001b[0m\u001b[0munique_dates\u001b[0m\u001b[0;34m)\u001b[0m\u001b[0;34m\u001b[0m\u001b[0;34m\u001b[0m\u001b[0m\n\u001b[1;32m    180\u001b[0m     \u001b[0;32mreturn\u001b[0m \u001b[0mcache_array\u001b[0m\u001b[0;34m\u001b[0m\u001b[0;34m\u001b[0m\u001b[0m\n",
      "\u001b[0;32m/shared-libs/python3.7/py/lib/python3.7/site-packages/pandas/core/tools/datetimes.py\u001b[0m in \u001b[0;36m_convert_listlike_datetimes\u001b[0;34m(arg, format, name, tz, unit, errors, infer_datetime_format, dayfirst, yearfirst, exact)\u001b[0m\n\u001b[1;32m    458\u001b[0m                 \u001b[0;32mreturn\u001b[0m \u001b[0mDatetimeIndex\u001b[0m\u001b[0;34m.\u001b[0m\u001b[0m_simple_new\u001b[0m\u001b[0;34m(\u001b[0m\u001b[0mdta\u001b[0m\u001b[0;34m,\u001b[0m \u001b[0mname\u001b[0m\u001b[0;34m=\u001b[0m\u001b[0mname\u001b[0m\u001b[0;34m)\u001b[0m\u001b[0;34m\u001b[0m\u001b[0;34m\u001b[0m\u001b[0m\n\u001b[1;32m    459\u001b[0m             \u001b[0;32mexcept\u001b[0m \u001b[0;34m(\u001b[0m\u001b[0mValueError\u001b[0m\u001b[0;34m,\u001b[0m \u001b[0mTypeError\u001b[0m\u001b[0;34m)\u001b[0m\u001b[0;34m:\u001b[0m\u001b[0;34m\u001b[0m\u001b[0;34m\u001b[0m\u001b[0m\n\u001b[0;32m--> 460\u001b[0;31m                 \u001b[0;32mraise\u001b[0m \u001b[0me\u001b[0m\u001b[0;34m\u001b[0m\u001b[0;34m\u001b[0m\u001b[0m\n\u001b[0m\u001b[1;32m    461\u001b[0m \u001b[0;34m\u001b[0m\u001b[0m\n\u001b[1;32m    462\u001b[0m     \u001b[0;32mif\u001b[0m \u001b[0mresult\u001b[0m \u001b[0;32mis\u001b[0m \u001b[0;32mNone\u001b[0m\u001b[0;34m:\u001b[0m\u001b[0;34m\u001b[0m\u001b[0;34m\u001b[0m\u001b[0m\n",
      "\u001b[0;32m/shared-libs/python3.7/py/lib/python3.7/site-packages/pandas/core/tools/datetimes.py\u001b[0m in \u001b[0;36m_convert_listlike_datetimes\u001b[0;34m(arg, format, name, tz, unit, errors, infer_datetime_format, dayfirst, yearfirst, exact)\u001b[0m\n\u001b[1;32m    422\u001b[0m                 \u001b[0;32mtry\u001b[0m\u001b[0;34m:\u001b[0m\u001b[0;34m\u001b[0m\u001b[0;34m\u001b[0m\u001b[0m\n\u001b[1;32m    423\u001b[0m                     result, timezones = array_strptime(\n\u001b[0;32m--> 424\u001b[0;31m                         \u001b[0marg\u001b[0m\u001b[0;34m,\u001b[0m \u001b[0mformat\u001b[0m\u001b[0;34m,\u001b[0m \u001b[0mexact\u001b[0m\u001b[0;34m=\u001b[0m\u001b[0mexact\u001b[0m\u001b[0;34m,\u001b[0m \u001b[0merrors\u001b[0m\u001b[0;34m=\u001b[0m\u001b[0merrors\u001b[0m\u001b[0;34m\u001b[0m\u001b[0;34m\u001b[0m\u001b[0m\n\u001b[0m\u001b[1;32m    425\u001b[0m                     )\n\u001b[1;32m    426\u001b[0m                     \u001b[0;32mif\u001b[0m \u001b[0;34m\"%Z\"\u001b[0m \u001b[0;32min\u001b[0m \u001b[0mformat\u001b[0m \u001b[0;32mor\u001b[0m \u001b[0;34m\"%z\"\u001b[0m \u001b[0;32min\u001b[0m \u001b[0mformat\u001b[0m\u001b[0;34m:\u001b[0m\u001b[0;34m\u001b[0m\u001b[0;34m\u001b[0m\u001b[0m\n",
      "\u001b[0;32mpandas/_libs/tslibs/strptime.pyx\u001b[0m in \u001b[0;36mpandas._libs.tslibs.strptime.array_strptime\u001b[0;34m()\u001b[0m\n",
      "\u001b[0;31mValueError\u001b[0m: time data '16.Oct.18' does not match format '%d.%m.%Y' (match)"
     ]
    }
   ],
   "source": [
    "# df.replace( to_replace = {\"Jan\":\"01\",\"Feb\":\"02\",\"Mar\":\"03\",\"Apr\":\"04\",\"May\":\"05\",\"Jun\":\"06\",\"Jul\":\"07\",\"Aug\":\"08\",\"Sep\":\"09\",\"Oct\":\"10\",\"Nov\":\"11\",\"Dec\":\"12\"})\n",
    "\n",
    "# Zmieniam nazwy kolumn by nie zawerały znaków '.'\n",
    "df.rename(columns = {\"MMM.YY\" : \"Dateofeval\", \"Total.Business.Value\":\"TBV\", \"Quarterly.Rating\":\"Rating\", \"Joining.Designation\":\"Join_Designation\"}, inplace = True)\n",
    "\n",
    "# MMM.YY , LastWorkingDate oraz Dateofjoining mają typ object więc zmieniam je na typ date\n",
    "df.Dateofeval = pd.to_datetime(df.Dateofeval, format='%d.%m.%Y')\n",
    "df.Dateofjoining = pd.to_datetime(df.Dateofjoining, format='%d.%m.%Y') # W tej kolumnie sa jakies dziwne daty\n",
    "df.LastWorkingDate = pd.to_datetime(df.LastWorkingDate, format='%d.%m.%Y')"
   ]
  },
  {
   "cell_type": "code",
   "execution_count": null,
   "id": "d97f8c8a",
   "metadata": {
    "cell_id": "00011-a963e676-092f-4438-b62b-13c7fbd82761",
    "deepnote_cell_height": 117,
    "deepnote_cell_type": "code",
    "deepnote_to_be_reexecuted": true,
    "id": "3c370d23",
    "source_hash": "f044b48d"
   },
   "outputs": [],
   "source": [
    "# Sprawdzam brakujące wartości\n",
    "\n",
    "df.isna().sum()"
   ]
  },
  {
   "cell_type": "code",
   "execution_count": null,
   "id": "7bfe24b3",
   "metadata": {
    "cell_id": "00012-2f9bcf98-aebf-4bba-ad9b-b784cd8d1e1e",
    "deepnote_cell_height": 135,
    "deepnote_cell_type": "code",
    "deepnote_to_be_reexecuted": true,
    "id": "65f6622e",
    "source_hash": "57954f14"
   },
   "outputs": [],
   "source": [
    "# Jedyne to te od pracowników którzy nie odeszli, czyli nie ma żadnych wartości brakujących do uzupełnienia\n",
    "\n",
    "# Zmieniam typ danych 'Salary;\n",
    "df.Salary = df.Salary.replace(to_replace = {' USD':'',',':'.'}, regex = True).astype(float)"
   ]
  },
  {
   "cell_type": "code",
   "execution_count": null,
   "id": "b91010ac",
   "metadata": {
    "cell_id": "00013-5318e0e8-f3df-4f5c-9e6d-da5e0ebdf400",
    "deepnote_cell_height": 81,
    "deepnote_cell_type": "code",
    "deepnote_to_be_reexecuted": true,
    "id": "459fc764",
    "source_hash": "f804c160"
   },
   "outputs": [],
   "source": [
    "df"
   ]
  },
  {
   "cell_type": "code",
   "execution_count": null,
   "id": "44ffa81d",
   "metadata": {
    "cell_id": "00014-fce62e09-1cef-4790-b72f-cf97543bf264",
    "deepnote_cell_height": 81,
    "deepnote_cell_type": "code",
    "deepnote_to_be_reexecuted": true,
    "id": "RDI8mrCW-4y8",
    "source_hash": "ec1e2997"
   },
   "outputs": [],
   "source": [
    "df.loc[4,\"Dateofeval\"]"
   ]
  },
  {
   "cell_type": "code",
   "execution_count": null,
   "id": "7f4fe125",
   "metadata": {
    "cell_id": "00015-21404490-5530-4a82-b354-5637b01c61be",
    "deepnote_cell_height": 99,
    "deepnote_cell_type": "code",
    "deepnote_to_be_reexecuted": true,
    "id": "e692fbd8",
    "source_hash": "96a587bd"
   },
   "outputs": [],
   "source": [
    "# Ile pracowników jest w zbiorze danych\n",
    "len(df.Emp_ID.unique())"
   ]
  },
  {
   "cell_type": "code",
   "execution_count": null,
   "id": "9830aef4",
   "metadata": {
    "cell_id": "00016-904453b1-42a7-4af8-8c28-76ce1fcf9a7b",
    "deepnote_cell_height": 117,
    "deepnote_cell_type": "code",
    "deepnote_to_be_reexecuted": true,
    "id": "NNblhqVHx1hK",
    "source_hash": "d8092e5e"
   },
   "outputs": [],
   "source": [
    "# Tworzę nowy DataFrame gdzie znajduje się jeden rekord dla każdego pracownika z najpóźniejszą datą w Dateofeval - czyli najświeższa ewaluacja\n",
    "\n",
    "latest_eval = df.sort_values(\"Dateofeval\", ascending = False).drop_duplicates(\"Emp_ID\")"
   ]
  },
  {
   "cell_type": "code",
   "execution_count": null,
   "id": "cb4c703d",
   "metadata": {
    "cell_id": "00017-ed0df114-afa2-4735-a5de-e59ca238d03b",
    "deepnote_cell_height": 81,
    "deepnote_cell_type": "code",
    "deepnote_to_be_reexecuted": true,
    "id": "MMnncuWa30vu",
    "source_hash": "8628340e"
   },
   "outputs": [],
   "source": [
    "latest_eval"
   ]
  },
  {
   "cell_type": "code",
   "execution_count": null,
   "id": "d3e39b5a",
   "metadata": {
    "cell_id": "00018-6c383cbe-8e65-44e3-acb0-ae683381789d",
    "deepnote_cell_height": 81,
    "deepnote_cell_type": "code",
    "deepnote_to_be_reexecuted": true,
    "id": "ayK0Ehxh4qo7",
    "source_hash": "32569d8"
   },
   "outputs": [],
   "source": [
    "len(latest_eval)"
   ]
  },
  {
   "cell_type": "code",
   "execution_count": null,
   "id": "06cef894",
   "metadata": {
    "cell_id": "00019-65ec7c71-ef18-40b2-800f-04c4737bd440",
    "deepnote_cell_height": 99,
    "deepnote_cell_type": "code",
    "deepnote_to_be_reexecuted": true,
    "id": "WhVRSC2X8edt",
    "source_hash": "c60f632b"
   },
   "outputs": [],
   "source": [
    "# Tworzę nową kolumnę z ilością przepracowanych dni - na razie są tam tylko dane dla pracowników którzy opuścili firmę\n",
    "latest_eval.loc[:,\"WorkDays\"] = latest_eval.LastWorkingDate - latest_eval.Dateofjoining"
   ]
  },
  {
   "cell_type": "code",
   "execution_count": null,
   "id": "ba893837",
   "metadata": {
    "cell_id": "00020-42008ec1-8e65-4557-97cc-91e2941a9545",
    "deepnote_cell_height": 117,
    "deepnote_cell_type": "code",
    "deepnote_to_be_reexecuted": true,
    "id": "5uvhcu0m8ulE",
    "source_hash": "a111e043"
   },
   "outputs": [],
   "source": [
    "latest_eval = latest_eval.sort_index()\n",
    "# Dodaję nową kolumnę - 1 jeśli pracownik odszedł, 0 jeśli nie odszedł\n",
    "latest_eval.loc[:,\"IfLeft\"] = latest_eval.LastWorkingDate.notna().astype(int)"
   ]
  },
  {
   "cell_type": "code",
   "execution_count": null,
   "id": "90a20869",
   "metadata": {
    "cell_id": "00021-251b84d6-b08a-4fa7-ab30-5107a4913c00",
    "deepnote_cell_height": 117,
    "deepnote_cell_type": "code",
    "deepnote_to_be_reexecuted": true,
    "id": "rKEz7IsN9U_b",
    "source_hash": "e05f34b6"
   },
   "outputs": [],
   "source": [
    "# Wpisuję w WorkDays wartości dla pracowników którzy nie opuścili firmy (wpisuje tam czas od dolączenia do dnia ostatniej ewaluacji)\n",
    "latest_eval.WorkDays.fillna(latest_eval.loc[:,\"Dateofeval\"] - latest_eval.loc[:,\"Dateofjoining\"], inplace = True)\n",
    "latest_eval"
   ]
  },
  {
   "cell_type": "code",
   "execution_count": null,
   "id": "4d1fcbf3",
   "metadata": {
    "cell_id": "00022-d18bcca0-fb72-424a-b4e0-37004283ac87",
    "deepnote_cell_height": 99,
    "deepnote_cell_type": "code",
    "deepnote_to_be_reexecuted": true,
    "id": "sEFcU5If-KsB",
    "source_hash": "587368fe"
   },
   "outputs": [],
   "source": [
    "# Zmieniam typ danych z timedelta na int\n",
    "latest_eval.WorkDays = latest_eval.WorkDays.dt.days"
   ]
  },
  {
   "cell_type": "code",
   "execution_count": null,
   "id": "203f294d",
   "metadata": {
    "cell_id": "00023-a57731cf-5d6b-40f4-a164-a34c026bba72",
    "deepnote_cell_height": 99,
    "deepnote_cell_type": "code",
    "deepnote_to_be_reexecuted": true,
    "id": "8e6jDo3mB7aE",
    "source_hash": "2b1fa7bc"
   },
   "outputs": [],
   "source": [
    "f = sns.FacetGrid(latest_eval, col = \"IfLeft\")\n",
    "f.map(plt.hist, \"WorkDays\", bins = 20)"
   ]
  },
  {
   "cell_type": "code",
   "execution_count": null,
   "id": "3c5ad1a5",
   "metadata": {
    "cell_id": "00024-bf1ea7d9-586a-46a6-9cc5-3c165e4dfcf4",
    "deepnote_cell_height": 153,
    "deepnote_cell_type": "code",
    "deepnote_to_be_reexecuted": true,
    "id": "nXmb0iMt58Ll",
    "source_hash": "ad4e9daa"
   },
   "outputs": [],
   "source": [
    "# Tworzę nową kolumnę z sumą TBV ze wszystkich miesięcy w których pracownik był ewaluowane\n",
    "\n",
    "valuesum = df.groupby(\"Emp_ID\")[\"TBV\"].sum().reset_index()\n",
    "valuesum.rename(columns = {\"TBV\" : \"ValueSum\"}, inplace = True)\n",
    "latest_eval = latest_eval.merge(valuesum, how = \"left\", on = \"Emp_ID\")"
   ]
  },
  {
   "cell_type": "code",
   "execution_count": null,
   "id": "11ac0a56",
   "metadata": {
    "cell_id": "00025-dfb7e718-d949-4bbd-8fca-512c544f262c",
    "deepnote_cell_height": 81,
    "deepnote_cell_type": "code",
    "deepnote_to_be_reexecuted": true,
    "id": "KuFJIm2K70qR",
    "source_hash": "8628340e"
   },
   "outputs": [],
   "source": [
    "latest_eval"
   ]
  },
  {
   "cell_type": "code",
   "execution_count": null,
   "id": "bded4eb7",
   "metadata": {
    "cell_id": "00026-58387bfa-2f19-48a6-81a3-23ef20594281",
    "deepnote_cell_height": 81,
    "deepnote_cell_type": "code",
    "deepnote_to_be_reexecuted": true,
    "id": "V-kzQ5Ua9cPI",
    "source_hash": "b623e53d"
   },
   "outputs": [],
   "source": []
  },
  {
   "cell_type": "markdown",
   "id": "01f44c89",
   "metadata": {
    "created_in_deepnote_cell": true,
    "deepnote_cell_type": "markdown",
    "tags": []
   },
   "source": [
    "<a style='text-decoration:none;line-height:16px;display:flex;color:#5B5B62;padding:10px;justify-content:end;' href='https://deepnote.com?utm_source=created-in-deepnote-cell&projectId=d5c0f37b-1962-40a3-8c5f-0185a7161b95' target=\"_blank\">\n",
    "<img alt='Created in deepnote.com' style='display:inline;max-height:16px;margin:0px;margin-right:7.5px;' src='data:image/svg+xml;base64,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' > </img>\n",
    "Created in <span style='font-weight:600;margin-left:4px;'>Deepnote</span></a>"
   ]
  }
 ],
 "metadata": {
  "colab": {
   "collapsed_sections": [],
   "name": "EDA.ipynb",
   "provenance": []
  },
  "deepnote": {},
  "deepnote_execution_queue": [],
  "deepnote_notebook_id": "5363f8e6-ed31-4126-82c6-ba9d2effd0c4",
  "kernelspec": {
   "display_name": "Python 3 (ipykernel)",
   "language": "python",
   "name": "python3"
  },
  "language_info": {
   "codemirror_mode": {
    "name": "ipython",
    "version": 3
   },
   "file_extension": ".py",
   "mimetype": "text/x-python",
   "name": "python",
   "nbconvert_exporter": "python",
   "pygments_lexer": "ipython3",
   "version": "3.8.10"
  }
 },
 "nbformat": 4,
 "nbformat_minor": 5
}
