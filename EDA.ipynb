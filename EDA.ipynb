{
 "cells": [
  {
   "cell_type": "markdown",
   "id": "1d70541b",
   "metadata": {
    "cell_id": "fbbdc3f5-723a-4cbf-8b76-e4d61ef42161",
    "deepnote_cell_height": 600.59375,
    "deepnote_cell_type": "markdown",
    "id": "AF9tZEN3ViLA"
   },
   "source": [
    "Hello \n",
    "W ostatnich latach wzrosła koncentracja firm na zasobach ludzkich. Umiejętności i wiedza pracowników stanowią bardzo solidny fundament dla przedsiębiorstwa do budowania przewagi nad konkurencją i są niezbędnym składnikiem do dalszego rozwoju organizacji. Z tych powodów utrzymanie pracowników ramach organizacji jest kluczową kwestia do zajęcia się przez działy HR - utrata wartościowych pracowników jest bardzo kosztowna dla przedsiębiorstwa, a zatrudnianie nowych generuje wyższe koszty niż utrzymanie już tych obecnych.\n",
    "\n",
    "Innowacje związane z podejmowaniem decyzji na podstawie analizy danych wkraczają również do świata HR. Wyobraź sobie, że pracujesz w firmie SKNS Investment Ltd. jako analityk danych, a dział HR potrzebuje analizy która ułatwi proces decyzji co do przywiązania większej uwagi do pewnych grup pracowników na podstawie kryteriów obecnych w danym poniżej zbiorze danych. Dział HR dysponuje zbiorem danych o ocenach miesięcznych pracowników z działu sprzedaży ubezpieczeń do nowych klientów o następujących kolumnach:\n",
    "1. MMM.YY - Dzień wpisania oceny miesięcznej pracownika do bazy\n",
    "2. Emp_ID - Identyfikator pracownika\n",
    "3. Age - Wiek\n",
    "4. Gender - Płeć\n",
    "5. City - Identyfikator dla oddziału mieszczącego się w danym mieście\n",
    "6. Education_Level - Bachelor / College / Master\n",
    "7. Salary - Wynagrodzenie roczne\n",
    "8. Dateofjoining - Data dołączenia do firmy\n",
    "9. LastWorkingDate - Data odejścia, jeśli pracownik odszedł w danym okresie\n",
    "10. Joining.Designation - pięciostopniowy poziom kwalifikacji podczas rekrutacji (1 - niski poziom, 5 - bardzo wysoki poziom)\n",
    "11. Designation - aktualny poziom kwalifikacji\n",
    "12. Total.Business.Value - Sumaryczna ilość sprzedanych ubezpieczeń (KPI z którego są rozliczani w perspektywie miesięcznej)\n",
    "13. Quarterly.Rating - ocena roczna (1 - niski poziom, 5 bardzo wysoki poziom)\n",
    "podczas\n",
    "Sporządź wstępną analizę wynikającą z eksploracji dołączonego zbioru danych, z przedstawieniem kluczowych wniosków dla działu HR, którzy pracownicy mają większą a którzy mniejszą szansę na odejście z firmy w najbliższym czasie. Dołączona analiza ma zostać przygotowana przy pomocy jednego z języków programowania (akceptowane są wyłącznie Python/R/Julia) w Jupyter Notebook wraz z wykresami pokazującymi odpowiednie zauważone przez Waszą drużynę zależności.\n",
    "\n"
   ]
  },
  {
   "cell_type": "markdown",
   "id": "8a2450a5",
   "metadata": {
    "cell_id": "a261a2decfa949a3b60804dbccdcaaba",
    "deepnote_cell_type": "text-cell-h3",
    "is_collapsed": false,
    "tags": []
   },
   "source": [
    "### Streszczenie"
   ]
  },
  {
   "cell_type": "markdown",
   "id": "742bef94",
   "metadata": {
    "cell_id": "773bd44637114de7952420d617e44625",
    "deepnote_cell_type": "text-cell-p",
    "is_collapsed": false,
    "tags": []
   },
   "source": [
    "W ostatnich latach wzrosła koncentracja firm na zasobach ludzkich. Umiejętności i wiedza pracowników stanowią bardzo solidny fundament dla przedsiębiorstwa do budowania przewagi nad konkurencją i są niezbędnym składnikiem do dalszego rozwoju organizacji. Z tych powodów utrzymanie pracowników w ramach organizacji jest kluczową kwestia do zajęcia się przez działy HR - utrata wartościowych pracowników jest bardzo kosztowna dla przedsiębiorstwa, a zatrudnianie nowych generuje wyższe koszty niż utrzymanie już tych obecnych. "
   ]
  },
  {
   "cell_type": "markdown",
   "id": "018c914a",
   "metadata": {
    "cell_id": "f11977b69bcd4c92ad22186caeaf511e",
    "deepnote_cell_type": "text-cell-p",
    "is_collapsed": false,
    "owner_user_id": "0942fe7c-d564-4958-aa37-7e4a0f05d61c",
    "tags": []
   },
   "source": [
    "Popularnosc wykorzystania sztucznej inteligencji, metod machine learning i deep learning w działach HR rośnie. Rozwój organizacji i jej stabilnosc w duzym stopniu związana jest z rotacją pracowników, będącą ważnym czynnikiem ryzyka biznesowego. Według szacunków portalu strefabiznesu.pl w najbardziej dynamicznych sektorach, takich jak IT czy SSC/BPO rotacja w 2022 roku będzie sięgać 25 proc. To znaczy, że firmy mogą stracić nawet co czwartego pracownika."
   ]
  },
  {
   "cell_type": "code",
   "execution_count": 87,
   "id": "92720754",
   "metadata": {
    "cell_id": "00001-a3ba12a2-3810-454d-94f3-b0ac67200be5",
    "deepnote_cell_height": 261,
    "deepnote_cell_type": "code",
    "deepnote_to_be_reexecuted": false,
    "execution_millis": 3176,
    "execution_start": 1649274011911,
    "id": "8874b9b9",
    "source_hash": "eeadbf91"
   },
   "outputs": [],
   "source": [
    "import numpy as np\n",
    "import pandas as pd\n",
    "import matplotlib\n",
    "from matplotlib import pyplot as plt\n",
    "%matplotlib inline\n",
    "from scipy import stats\n",
    "import seaborn as sns\n",
    "\n",
    "matplotlib.rcParams['figure.figsize'] = [15, 9]\n",
    "\n",
    "pd.options.mode.chained_assignment = None  # default='warn'"
   ]
  },
  {
   "cell_type": "code",
   "execution_count": 88,
   "id": "56bb0175",
   "metadata": {
    "cell_id": "00003-f776b67e-0ca8-4f3a-981a-7f08ca5926ca",
    "deepnote_cell_height": 99,
    "deepnote_cell_type": "code",
    "deepnote_to_be_reexecuted": false,
    "execution_millis": 62,
    "execution_start": 1649274043566,
    "id": "2944da95",
    "source_hash": "d09cc96a"
   },
   "outputs": [],
   "source": [
    "url = 'https://raw.githubusercontent.com/blaszczuknw/hackathon_skns/main/Attrition_dataset.csv'\n",
    "df = pd.read_csv(url, sep = \";\")\n",
    "\n",
    "url_cities = 'https://raw.githubusercontent.com/blaszczuknw/hackathon_skns/main/Cities_map.csv'\n",
    "df_cities = pd.read_csv(url_cities, sep = \";\")"
   ]
  },
  {
   "cell_type": "code",
   "execution_count": 89,
   "id": "55223776",
   "metadata": {
    "cell_id": "00005-2139c5a3-7cd9-4d6a-89a5-412335a5eb5f",
    "colab": {
     "base_uri": "https://localhost:8080/",
     "height": 206
    },
    "deepnote_cell_height": 660,
    "deepnote_cell_type": "code",
    "deepnote_output_heights": [
     177
    ],
    "deepnote_table_invalid": true,
    "deepnote_table_loading": false,
    "deepnote_table_state": {
     "filters": [],
     "pageIndex": 38,
     "pageSize": 10,
     "sortBy": []
    },
    "deepnote_to_be_reexecuted": false,
    "execution_millis": 117,
    "execution_start": 1649274591513,
    "id": "8069cbd4",
    "outputId": "e81e1169-1b71-4779-9dee-c9e6f1a9205c",
    "owner_user_id": "0921527d-3c46-4fae-937a-d104a4143692",
    "source_hash": "d7192e7d"
   },
   "outputs": [
    {
     "name": "stdout",
     "output_type": "stream",
     "text": [
      "<class 'pandas.core.frame.DataFrame'>\n",
      "RangeIndex: 19190 entries, 0 to 19189\n",
      "Data columns (total 13 columns):\n",
      " #   Column                Non-Null Count  Dtype \n",
      "---  ------                --------------  ----- \n",
      " 0   Emp_ID                19190 non-null  int64 \n",
      " 1   MMM.YY                19190 non-null  object\n",
      " 2   Age                   19190 non-null  int64 \n",
      " 3   Salary                19190 non-null  object\n",
      " 4   LastWorkingDate       1628 non-null   object\n",
      " 5   Designation           19190 non-null  int64 \n",
      " 6   Total.Business.Value  19190 non-null  int64 \n",
      " 7   Quarterly.Rating      19190 non-null  int64 \n",
      " 8   Gender                19190 non-null  object\n",
      " 9   City                  19190 non-null  object\n",
      " 10  Education_Level       19190 non-null  object\n",
      " 11  Dateofjoining         19190 non-null  object\n",
      " 12  Joining.Designation   19190 non-null  int64 \n",
      "dtypes: int64(6), object(7)\n",
      "memory usage: 1.9+ MB\n"
     ]
    }
   ],
   "source": [
    "df.info()"
   ]
  },
  {
   "cell_type": "code",
   "execution_count": 90,
   "id": "cef56cd7",
   "metadata": {
    "cell_id": "00006-a2eb9a13-9cd0-4f40-9288-c7a4de178eed",
    "colab": {
     "base_uri": "https://localhost:8080/"
    },
    "deepnote_cell_height": 137.375,
    "deepnote_cell_type": "code",
    "deepnote_output_heights": [
     40.375
    ],
    "deepnote_to_be_reexecuted": false,
    "execution_millis": 8,
    "execution_start": 1649274367879,
    "id": "0d3dff3d",
    "outputId": "ecd6953f-5a5a-4228-b9cb-2bcef35d8241",
    "source_hash": "2d699ba8"
   },
   "outputs": [
    {
     "data": {
      "text/plain": [
       "array(['MASTER', 'Master', 'Colege', 'Bachelor', 'College', \"Bachelor's\"],\n",
       "      dtype=object)"
      ]
     },
     "execution_count": 90,
     "metadata": {},
     "output_type": "execute_result"
    }
   ],
   "source": [
    "df.Education_Level.unique()"
   ]
  },
  {
   "cell_type": "markdown",
   "id": "5576c24e",
   "metadata": {
    "cell_id": "00007-1df94eff-28d0-4325-a09a-0547e8cd37be",
    "deepnote_cell_height": 52.390625,
    "deepnote_cell_type": "markdown",
    "id": "RG1pY1hWVRHM"
   },
   "source": [
    "##W kolumnie \"Education_Level\" są użyte różne nazwy na te same stopnie edukacji, więc standaryzuję to nazewnictwo"
   ]
  },
  {
   "cell_type": "code",
   "execution_count": 91,
   "id": "4ac2f223",
   "metadata": {
    "cell_id": "00008-6835e21b-4b42-4a64-8a96-a391f730486c",
    "deepnote_cell_height": 81,
    "deepnote_cell_type": "code",
    "deepnote_to_be_reexecuted": false,
    "execution_millis": 38,
    "execution_start": 1649274369056,
    "id": "90340cfb",
    "source_hash": "595e53aa"
   },
   "outputs": [],
   "source": [
    "df = df.replace(to_replace = {'MASTER':'Master', 'Colege':'College', \"Bachelor's\":'Bachelor'})"
   ]
  },
  {
   "cell_type": "code",
   "execution_count": 92,
   "id": "da7c614f",
   "metadata": {
    "cell_id": "00010-f74af4b1-7b53-4730-b939-e4cb9a927324",
    "deepnote_cell_height": 288.1875,
    "deepnote_cell_type": "code",
    "deepnote_to_be_reexecuted": false,
    "execution_millis": 138,
    "execution_start": 1649274371407,
    "id": "d73e05fc",
    "source_hash": "1a027bb"
   },
   "outputs": [],
   "source": [
    "df.replace( to_replace = {\"Jan.\":\"01.\",\"Feb.\":\"02.\",\"Mar.\":\"03.\",\"Apr.\":\"04.\",\"May.\":\"05.\",\"Jun.\":\"06.\",\"Jul.\":\"07.\",\"Aug.\":\"08.\",\"Sep.\":\"09.\",\"Oct.\":\"10.\",\"Nov.\":\"11.\",\"Dec.\":\"12.\", \"\\.20\":\".\"}, regex = True, inplace = True)\n",
    "\n",
    "# Zmieniam nazwy kolumn by nie zawerały znaków '.'\n",
    "df.rename(columns = {\"MMM.YY\" : \"Dateofeval\", \"Total.Business.Value\":\"TBV\", \"Quarterly.Rating\":\"Rating\", \"Joining.Designation\":\"Join_Designation\"}, inplace = True)\n",
    "\n",
    "# MMM.YY , LastWorkingDate oraz Dateofjoining mają typ object więc zmieniam je na typ date\n",
    "df.Dateofeval = pd.to_datetime(df.Dateofeval, format='%d.%m.%y')\n",
    "#df.Dateofjoining = pd.to_datetime(df.Dateofjoining,  format='%d.%m.%y') # W tej kolumnie sa jakies dziwne daty\n",
    "df.Dateofjoining = pd.to_datetime(df.Dateofjoining, format=\"%d.%m.%y\", errors=\"coerce\").fillna(pd.to_datetime(df.Dateofjoining, format=\"%B %d%y\", errors=\"coerce\"))\n",
    "df.LastWorkingDate = pd.to_datetime(df.LastWorkingDate, format='%d.%m.%y')"
   ]
  },
  {
   "cell_type": "code",
   "execution_count": 93,
   "id": "d97f8c8a",
   "metadata": {
    "cell_id": "00011-a963e676-092f-4438-b62b-13c7fbd82761",
    "deepnote_cell_height": 117,
    "deepnote_cell_type": "code",
    "deepnote_to_be_reexecuted": true,
    "id": "3c370d23",
    "source_hash": "f044b48d"
   },
   "outputs": [
    {
     "data": {
      "text/plain": [
       "Emp_ID                  0\n",
       "Dateofeval              0\n",
       "Age                     0\n",
       "Salary                  0\n",
       "LastWorkingDate     17562\n",
       "Designation             0\n",
       "TBV                     0\n",
       "Rating                  0\n",
       "Gender                  0\n",
       "City                    0\n",
       "Education_Level         0\n",
       "Dateofjoining         217\n",
       "Join_Designation        0\n",
       "dtype: int64"
      ]
     },
     "execution_count": 93,
     "metadata": {},
     "output_type": "execute_result"
    }
   ],
   "source": [
    "# Sprawdzam brakujące wartości\n",
    "\n",
    "df.isna().sum()"
   ]
  },
  {
   "cell_type": "code",
   "execution_count": 94,
   "id": "a9d747a3",
   "metadata": {},
   "outputs": [
    {
     "data": {
      "text/plain": [
       "12"
      ]
     },
     "execution_count": 94,
     "metadata": {},
     "output_type": "execute_result"
    }
   ],
   "source": [
    "len(df[df.Dateofjoining.isna()][\"Emp_ID\"].unique())\n",
    "# Tyle pracowników w w tym dataset ma brakujące wartości w Dateofjoining"
   ]
  },
  {
   "cell_type": "markdown",
   "id": "1c07b2e1",
   "metadata": {},
   "source": [
    "Brakujące wartości w kolumnie LastWorkingDate są poprawne, ponieważ są to rekordy w których pracownicy nie odeszli z firmy. Brakujące wartości w kolumnie Dateofjoining już nie mogą być w ten sposób wytłumaczone, jest ich jednak na tyle mało (12 pracowników), że zdecydowaliśmy się usunąć te wiersze, nie będzie miało to wpływu na wynik analizy."
   ]
  },
  {
   "cell_type": "code",
   "execution_count": 95,
   "id": "0ae5ab0d",
   "metadata": {},
   "outputs": [],
   "source": [
    "df.dropna(subset = ['Dateofjoining'], inplace = True)"
   ]
  },
  {
   "cell_type": "code",
   "execution_count": 96,
   "id": "7bfe24b3",
   "metadata": {
    "cell_id": "00012-2f9bcf98-aebf-4bba-ad9b-b784cd8d1e1e",
    "deepnote_cell_height": 135,
    "deepnote_cell_type": "code",
    "deepnote_to_be_reexecuted": true,
    "id": "65f6622e",
    "source_hash": "57954f14"
   },
   "outputs": [],
   "source": [
    "# Zmieniam typ danych 'Salary;\n",
    "df.Salary.replace(to_replace = {' USD':'',',':'.'}, regex = True, inplace = True)"
   ]
  },
  {
   "cell_type": "code",
   "execution_count": 97,
   "id": "b91010ac",
   "metadata": {
    "cell_id": "00013-5318e0e8-f3df-4f5c-9e6d-da5e0ebdf400",
    "deepnote_cell_height": 81,
    "deepnote_cell_type": "code",
    "deepnote_to_be_reexecuted": true,
    "id": "459fc764",
    "source_hash": "f804c160"
   },
   "outputs": [],
   "source": [
    "df.Salary = df.Salary.astype(float)"
   ]
  },
  {
   "cell_type": "code",
   "execution_count": 98,
   "id": "7f4fe125",
   "metadata": {
    "cell_id": "00015-21404490-5530-4a82-b354-5637b01c61be",
    "deepnote_cell_height": 99,
    "deepnote_cell_type": "code",
    "deepnote_to_be_reexecuted": true,
    "id": "e692fbd8",
    "source_hash": "96a587bd"
   },
   "outputs": [
    {
     "data": {
      "text/plain": [
       "2369"
      ]
     },
     "execution_count": 98,
     "metadata": {},
     "output_type": "execute_result"
    }
   ],
   "source": [
    "# Ile pracowników jest w zbiorze danych\n",
    "len(df.Emp_ID.unique())"
   ]
  },
  {
   "cell_type": "code",
   "execution_count": 99,
   "id": "9830aef4",
   "metadata": {
    "cell_id": "00016-904453b1-42a7-4af8-8c28-76ce1fcf9a7b",
    "deepnote_cell_height": 117,
    "deepnote_cell_type": "code",
    "deepnote_to_be_reexecuted": true,
    "id": "NNblhqVHx1hK",
    "source_hash": "d8092e5e"
   },
   "outputs": [],
   "source": [
    "# Tworzę nowy DataFrame gdzie znajduje się jeden rekord dla każdego pracownika z najpóźniejszą datą w Dateofeval - czyli najświeższa ewaluacja\n",
    "\n",
    "latest_eval = df.sort_values(\"Dateofeval\", ascending = False).drop_duplicates(\"Emp_ID\")"
   ]
  },
  {
   "cell_type": "code",
   "execution_count": 100,
   "id": "cb4c703d",
   "metadata": {
    "cell_id": "00017-ed0df114-afa2-4735-a5de-e59ca238d03b",
    "deepnote_cell_height": 81,
    "deepnote_cell_type": "code",
    "deepnote_to_be_reexecuted": true,
    "id": "MMnncuWa30vu",
    "source_hash": "8628340e"
   },
   "outputs": [
    {
     "data": {
      "text/html": [
       "<div>\n",
       "<style scoped>\n",
       "    .dataframe tbody tr th:only-of-type {\n",
       "        vertical-align: middle;\n",
       "    }\n",
       "\n",
       "    .dataframe tbody tr th {\n",
       "        vertical-align: top;\n",
       "    }\n",
       "\n",
       "    .dataframe thead th {\n",
       "        text-align: right;\n",
       "    }\n",
       "</style>\n",
       "<table border=\"1\" class=\"dataframe\">\n",
       "  <thead>\n",
       "    <tr style=\"text-align: right;\">\n",
       "      <th></th>\n",
       "      <th>Emp_ID</th>\n",
       "      <th>Dateofeval</th>\n",
       "      <th>Age</th>\n",
       "      <th>Salary</th>\n",
       "      <th>LastWorkingDate</th>\n",
       "      <th>Designation</th>\n",
       "      <th>TBV</th>\n",
       "      <th>Rating</th>\n",
       "      <th>Gender</th>\n",
       "      <th>City</th>\n",
       "      <th>Education_Level</th>\n",
       "      <th>Dateofjoining</th>\n",
       "      <th>Join_Designation</th>\n",
       "    </tr>\n",
       "  </thead>\n",
       "  <tbody>\n",
       "    <tr>\n",
       "      <th>1710</th>\n",
       "      <td>265</td>\n",
       "      <td>2017-12-01</td>\n",
       "      <td>34</td>\n",
       "      <td>40381.0</td>\n",
       "      <td>NaT</td>\n",
       "      <td>1</td>\n",
       "      <td>183480</td>\n",
       "      <td>2</td>\n",
       "      <td>Male</td>\n",
       "      <td>C3</td>\n",
       "      <td>Bachelor</td>\n",
       "      <td>2017-05-30</td>\n",
       "      <td>1</td>\n",
       "    </tr>\n",
       "    <tr>\n",
       "      <th>684</th>\n",
       "      <td>98</td>\n",
       "      <td>2017-12-01</td>\n",
       "      <td>25</td>\n",
       "      <td>63774.0</td>\n",
       "      <td>2017-12-25</td>\n",
       "      <td>3</td>\n",
       "      <td>0</td>\n",
       "      <td>2</td>\n",
       "      <td>Male</td>\n",
       "      <td>C16</td>\n",
       "      <td>College</td>\n",
       "      <td>2016-08-15</td>\n",
       "      <td>2</td>\n",
       "    </tr>\n",
       "    <tr>\n",
       "      <th>10187</th>\n",
       "      <td>1515</td>\n",
       "      <td>2017-12-01</td>\n",
       "      <td>36</td>\n",
       "      <td>84573.0</td>\n",
       "      <td>NaT</td>\n",
       "      <td>3</td>\n",
       "      <td>0</td>\n",
       "      <td>1</td>\n",
       "      <td>Male</td>\n",
       "      <td>C24</td>\n",
       "      <td>Master</td>\n",
       "      <td>2017-10-31</td>\n",
       "      <td>3</td>\n",
       "    </tr>\n",
       "    <tr>\n",
       "      <th>10941</th>\n",
       "      <td>1637</td>\n",
       "      <td>2017-12-01</td>\n",
       "      <td>34</td>\n",
       "      <td>68209.0</td>\n",
       "      <td>NaT</td>\n",
       "      <td>3</td>\n",
       "      <td>412000</td>\n",
       "      <td>1</td>\n",
       "      <td>Female</td>\n",
       "      <td>C1</td>\n",
       "      <td>Master</td>\n",
       "      <td>2017-08-03</td>\n",
       "      <td>3</td>\n",
       "    </tr>\n",
       "    <tr>\n",
       "      <th>8582</th>\n",
       "      <td>1265</td>\n",
       "      <td>2017-12-01</td>\n",
       "      <td>35</td>\n",
       "      <td>60358.0</td>\n",
       "      <td>NaT</td>\n",
       "      <td>2</td>\n",
       "      <td>760740</td>\n",
       "      <td>3</td>\n",
       "      <td>Male</td>\n",
       "      <td>C7</td>\n",
       "      <td>College</td>\n",
       "      <td>2015-06-24</td>\n",
       "      <td>1</td>\n",
       "    </tr>\n",
       "    <tr>\n",
       "      <th>...</th>\n",
       "      <td>...</td>\n",
       "      <td>...</td>\n",
       "      <td>...</td>\n",
       "      <td>...</td>\n",
       "      <td>...</td>\n",
       "      <td>...</td>\n",
       "      <td>...</td>\n",
       "      <td>...</td>\n",
       "      <td>...</td>\n",
       "      <td>...</td>\n",
       "      <td>...</td>\n",
       "      <td>...</td>\n",
       "      <td>...</td>\n",
       "    </tr>\n",
       "    <tr>\n",
       "      <th>7597</th>\n",
       "      <td>1136</td>\n",
       "      <td>2016-01-01</td>\n",
       "      <td>35</td>\n",
       "      <td>50118.0</td>\n",
       "      <td>2016-01-05</td>\n",
       "      <td>2</td>\n",
       "      <td>0</td>\n",
       "      <td>1</td>\n",
       "      <td>Female</td>\n",
       "      <td>C17</td>\n",
       "      <td>College</td>\n",
       "      <td>2015-11-30</td>\n",
       "      <td>2</td>\n",
       "    </tr>\n",
       "    <tr>\n",
       "      <th>8884</th>\n",
       "      <td>1314</td>\n",
       "      <td>2016-01-01</td>\n",
       "      <td>28</td>\n",
       "      <td>36070.0</td>\n",
       "      <td>2016-01-25</td>\n",
       "      <td>1</td>\n",
       "      <td>0</td>\n",
       "      <td>1</td>\n",
       "      <td>Male</td>\n",
       "      <td>C13</td>\n",
       "      <td>Master</td>\n",
       "      <td>2015-05-20</td>\n",
       "      <td>1</td>\n",
       "    </tr>\n",
       "    <tr>\n",
       "      <th>8991</th>\n",
       "      <td>1329</td>\n",
       "      <td>2016-01-01</td>\n",
       "      <td>31</td>\n",
       "      <td>70088.0</td>\n",
       "      <td>2015-12-31</td>\n",
       "      <td>1</td>\n",
       "      <td>0</td>\n",
       "      <td>1</td>\n",
       "      <td>Male</td>\n",
       "      <td>C29</td>\n",
       "      <td>Master</td>\n",
       "      <td>2015-09-10</td>\n",
       "      <td>1</td>\n",
       "    </tr>\n",
       "    <tr>\n",
       "      <th>8664</th>\n",
       "      <td>1275</td>\n",
       "      <td>2016-01-01</td>\n",
       "      <td>30</td>\n",
       "      <td>10883.0</td>\n",
       "      <td>2016-01-25</td>\n",
       "      <td>1</td>\n",
       "      <td>0</td>\n",
       "      <td>1</td>\n",
       "      <td>Female</td>\n",
       "      <td>C18</td>\n",
       "      <td>College</td>\n",
       "      <td>2015-09-23</td>\n",
       "      <td>1</td>\n",
       "    </tr>\n",
       "    <tr>\n",
       "      <th>8540</th>\n",
       "      <td>1262</td>\n",
       "      <td>2016-01-01</td>\n",
       "      <td>31</td>\n",
       "      <td>66074.0</td>\n",
       "      <td>2016-01-02</td>\n",
       "      <td>2</td>\n",
       "      <td>0</td>\n",
       "      <td>1</td>\n",
       "      <td>Male</td>\n",
       "      <td>C20</td>\n",
       "      <td>College</td>\n",
       "      <td>2015-06-16</td>\n",
       "      <td>2</td>\n",
       "    </tr>\n",
       "  </tbody>\n",
       "</table>\n",
       "<p>2369 rows × 13 columns</p>\n",
       "</div>"
      ],
      "text/plain": [
       "       Emp_ID Dateofeval  Age   Salary LastWorkingDate  Designation     TBV  \\\n",
       "1710      265 2017-12-01   34  40381.0             NaT            1  183480   \n",
       "684        98 2017-12-01   25  63774.0      2017-12-25            3       0   \n",
       "10187    1515 2017-12-01   36  84573.0             NaT            3       0   \n",
       "10941    1637 2017-12-01   34  68209.0             NaT            3  412000   \n",
       "8582     1265 2017-12-01   35  60358.0             NaT            2  760740   \n",
       "...       ...        ...  ...      ...             ...          ...     ...   \n",
       "7597     1136 2016-01-01   35  50118.0      2016-01-05            2       0   \n",
       "8884     1314 2016-01-01   28  36070.0      2016-01-25            1       0   \n",
       "8991     1329 2016-01-01   31  70088.0      2015-12-31            1       0   \n",
       "8664     1275 2016-01-01   30  10883.0      2016-01-25            1       0   \n",
       "8540     1262 2016-01-01   31  66074.0      2016-01-02            2       0   \n",
       "\n",
       "       Rating  Gender City Education_Level Dateofjoining  Join_Designation  \n",
       "1710        2    Male   C3        Bachelor    2017-05-30                 1  \n",
       "684         2    Male  C16         College    2016-08-15                 2  \n",
       "10187       1    Male  C24          Master    2017-10-31                 3  \n",
       "10941       1  Female   C1          Master    2017-08-03                 3  \n",
       "8582        3    Male   C7         College    2015-06-24                 1  \n",
       "...       ...     ...  ...             ...           ...               ...  \n",
       "7597        1  Female  C17         College    2015-11-30                 2  \n",
       "8884        1    Male  C13          Master    2015-05-20                 1  \n",
       "8991        1    Male  C29          Master    2015-09-10                 1  \n",
       "8664        1  Female  C18         College    2015-09-23                 1  \n",
       "8540        1    Male  C20         College    2015-06-16                 2  \n",
       "\n",
       "[2369 rows x 13 columns]"
      ]
     },
     "execution_count": 100,
     "metadata": {},
     "output_type": "execute_result"
    }
   ],
   "source": [
    "latest_eval"
   ]
  },
  {
   "cell_type": "code",
   "execution_count": 101,
   "id": "d3e39b5a",
   "metadata": {
    "cell_id": "00018-6c383cbe-8e65-44e3-acb0-ae683381789d",
    "deepnote_cell_height": 81,
    "deepnote_cell_type": "code",
    "deepnote_to_be_reexecuted": true,
    "id": "ayK0Ehxh4qo7",
    "source_hash": "32569d8"
   },
   "outputs": [
    {
     "data": {
      "text/plain": [
       "2369"
      ]
     },
     "execution_count": 101,
     "metadata": {},
     "output_type": "execute_result"
    }
   ],
   "source": [
    "len(latest_eval)"
   ]
  },
  {
   "cell_type": "code",
   "execution_count": 102,
   "id": "06cef894",
   "metadata": {
    "cell_id": "00019-65ec7c71-ef18-40b2-800f-04c4737bd440",
    "deepnote_cell_height": 99,
    "deepnote_cell_type": "code",
    "deepnote_to_be_reexecuted": true,
    "id": "WhVRSC2X8edt",
    "source_hash": "c60f632b"
   },
   "outputs": [],
   "source": [
    "# Tworzę nową kolumnę z ilością przepracowanych dni - na razie są tam tylko dane dla pracowników którzy opuścili firmę\n",
    "latest_eval.loc[:,\"WorkDays\"] = latest_eval.LastWorkingDate - latest_eval.Dateofjoining"
   ]
  },
  {
   "cell_type": "code",
   "execution_count": 103,
   "id": "ba893837",
   "metadata": {
    "cell_id": "00020-42008ec1-8e65-4557-97cc-91e2941a9545",
    "deepnote_cell_height": 117,
    "deepnote_cell_type": "code",
    "deepnote_to_be_reexecuted": true,
    "id": "5uvhcu0m8ulE",
    "source_hash": "a111e043"
   },
   "outputs": [],
   "source": [
    "latest_eval = latest_eval.sort_index()\n",
    "# Dodaję nową kolumnę - 1 jeśli pracownik odszedł, 0 jeśli nie odszedł\n",
    "latest_eval.loc[:,\"IfLeft\"] = latest_eval.LastWorkingDate.notna().astype(int)"
   ]
  },
  {
   "cell_type": "code",
   "execution_count": 104,
   "id": "90a20869",
   "metadata": {
    "cell_id": "00021-251b84d6-b08a-4fa7-ab30-5107a4913c00",
    "deepnote_cell_height": 117,
    "deepnote_cell_type": "code",
    "deepnote_to_be_reexecuted": true,
    "id": "rKEz7IsN9U_b",
    "source_hash": "e05f34b6"
   },
   "outputs": [
    {
     "data": {
      "text/html": [
       "<div>\n",
       "<style scoped>\n",
       "    .dataframe tbody tr th:only-of-type {\n",
       "        vertical-align: middle;\n",
       "    }\n",
       "\n",
       "    .dataframe tbody tr th {\n",
       "        vertical-align: top;\n",
       "    }\n",
       "\n",
       "    .dataframe thead th {\n",
       "        text-align: right;\n",
       "    }\n",
       "</style>\n",
       "<table border=\"1\" class=\"dataframe\">\n",
       "  <thead>\n",
       "    <tr style=\"text-align: right;\">\n",
       "      <th></th>\n",
       "      <th>Emp_ID</th>\n",
       "      <th>Dateofeval</th>\n",
       "      <th>Age</th>\n",
       "      <th>Salary</th>\n",
       "      <th>LastWorkingDate</th>\n",
       "      <th>Designation</th>\n",
       "      <th>TBV</th>\n",
       "      <th>Rating</th>\n",
       "      <th>Gender</th>\n",
       "      <th>City</th>\n",
       "      <th>Education_Level</th>\n",
       "      <th>Dateofjoining</th>\n",
       "      <th>Join_Designation</th>\n",
       "      <th>WorkDays</th>\n",
       "      <th>IfLeft</th>\n",
       "    </tr>\n",
       "  </thead>\n",
       "  <tbody>\n",
       "    <tr>\n",
       "      <th>2</th>\n",
       "      <td>1</td>\n",
       "      <td>2016-03-01</td>\n",
       "      <td>28</td>\n",
       "      <td>57387.0</td>\n",
       "      <td>2016-03-11</td>\n",
       "      <td>1</td>\n",
       "      <td>0</td>\n",
       "      <td>2</td>\n",
       "      <td>Male</td>\n",
       "      <td>C23</td>\n",
       "      <td>Master</td>\n",
       "      <td>2015-12-24</td>\n",
       "      <td>1</td>\n",
       "      <td>78 days</td>\n",
       "      <td>1</td>\n",
       "    </tr>\n",
       "    <tr>\n",
       "      <th>4</th>\n",
       "      <td>2</td>\n",
       "      <td>2017-12-01</td>\n",
       "      <td>31</td>\n",
       "      <td>67016.0</td>\n",
       "      <td>NaT</td>\n",
       "      <td>2</td>\n",
       "      <td>0</td>\n",
       "      <td>1</td>\n",
       "      <td>Male</td>\n",
       "      <td>C7</td>\n",
       "      <td>Master</td>\n",
       "      <td>2017-11-06</td>\n",
       "      <td>2</td>\n",
       "      <td>25 days</td>\n",
       "      <td>0</td>\n",
       "    </tr>\n",
       "    <tr>\n",
       "      <th>9</th>\n",
       "      <td>4</td>\n",
       "      <td>2017-04-01</td>\n",
       "      <td>43</td>\n",
       "      <td>65603.0</td>\n",
       "      <td>2017-04-27</td>\n",
       "      <td>2</td>\n",
       "      <td>0</td>\n",
       "      <td>1</td>\n",
       "      <td>Male</td>\n",
       "      <td>C13</td>\n",
       "      <td>Master</td>\n",
       "      <td>2016-12-07</td>\n",
       "      <td>2</td>\n",
       "      <td>141 days</td>\n",
       "      <td>1</td>\n",
       "    </tr>\n",
       "    <tr>\n",
       "      <th>12</th>\n",
       "      <td>5</td>\n",
       "      <td>2016-03-01</td>\n",
       "      <td>29</td>\n",
       "      <td>46368.0</td>\n",
       "      <td>2016-03-07</td>\n",
       "      <td>1</td>\n",
       "      <td>0</td>\n",
       "      <td>1</td>\n",
       "      <td>Male</td>\n",
       "      <td>C9</td>\n",
       "      <td>College</td>\n",
       "      <td>2016-01-09</td>\n",
       "      <td>1</td>\n",
       "      <td>58 days</td>\n",
       "      <td>1</td>\n",
       "    </tr>\n",
       "    <tr>\n",
       "      <th>17</th>\n",
       "      <td>6</td>\n",
       "      <td>2017-12-01</td>\n",
       "      <td>31</td>\n",
       "      <td>78728.0</td>\n",
       "      <td>NaT</td>\n",
       "      <td>3</td>\n",
       "      <td>0</td>\n",
       "      <td>2</td>\n",
       "      <td>Female</td>\n",
       "      <td>C11</td>\n",
       "      <td>Bachelor</td>\n",
       "      <td>2017-07-31</td>\n",
       "      <td>3</td>\n",
       "      <td>123 days</td>\n",
       "      <td>0</td>\n",
       "    </tr>\n",
       "    <tr>\n",
       "      <th>...</th>\n",
       "      <td>...</td>\n",
       "      <td>...</td>\n",
       "      <td>...</td>\n",
       "      <td>...</td>\n",
       "      <td>...</td>\n",
       "      <td>...</td>\n",
       "      <td>...</td>\n",
       "      <td>...</td>\n",
       "      <td>...</td>\n",
       "      <td>...</td>\n",
       "      <td>...</td>\n",
       "      <td>...</td>\n",
       "      <td>...</td>\n",
       "      <td>...</td>\n",
       "      <td>...</td>\n",
       "    </tr>\n",
       "    <tr>\n",
       "      <th>19161</th>\n",
       "      <td>1803</td>\n",
       "      <td>2016-07-01</td>\n",
       "      <td>34</td>\n",
       "      <td>52914.0</td>\n",
       "      <td>2016-07-20</td>\n",
       "      <td>1</td>\n",
       "      <td>0</td>\n",
       "      <td>1</td>\n",
       "      <td>Male</td>\n",
       "      <td>C3</td>\n",
       "      <td>Master</td>\n",
       "      <td>2015-05-09</td>\n",
       "      <td>1</td>\n",
       "      <td>438 days</td>\n",
       "      <td>1</td>\n",
       "    </tr>\n",
       "    <tr>\n",
       "      <th>19168</th>\n",
       "      <td>645</td>\n",
       "      <td>2016-08-01</td>\n",
       "      <td>28</td>\n",
       "      <td>110445.0</td>\n",
       "      <td>2016-08-01</td>\n",
       "      <td>4</td>\n",
       "      <td>0</td>\n",
       "      <td>1</td>\n",
       "      <td>Female</td>\n",
       "      <td>C8</td>\n",
       "      <td>Master</td>\n",
       "      <td>2016-03-30</td>\n",
       "      <td>2</td>\n",
       "      <td>124 days</td>\n",
       "      <td>1</td>\n",
       "    </tr>\n",
       "    <tr>\n",
       "      <th>19178</th>\n",
       "      <td>945</td>\n",
       "      <td>2017-12-01</td>\n",
       "      <td>40</td>\n",
       "      <td>83025.0</td>\n",
       "      <td>NaT</td>\n",
       "      <td>3</td>\n",
       "      <td>253420</td>\n",
       "      <td>2</td>\n",
       "      <td>Female</td>\n",
       "      <td>C3</td>\n",
       "      <td>Master</td>\n",
       "      <td>2012-05-29</td>\n",
       "      <td>2</td>\n",
       "      <td>2012 days</td>\n",
       "      <td>0</td>\n",
       "    </tr>\n",
       "    <tr>\n",
       "      <th>19185</th>\n",
       "      <td>2044</td>\n",
       "      <td>2017-03-01</td>\n",
       "      <td>34</td>\n",
       "      <td>38619.0</td>\n",
       "      <td>2017-03-23</td>\n",
       "      <td>2</td>\n",
       "      <td>0</td>\n",
       "      <td>1</td>\n",
       "      <td>Male</td>\n",
       "      <td>C20</td>\n",
       "      <td>College</td>\n",
       "      <td>2016-11-15</td>\n",
       "      <td>2</td>\n",
       "      <td>128 days</td>\n",
       "      <td>1</td>\n",
       "    </tr>\n",
       "    <tr>\n",
       "      <th>19186</th>\n",
       "      <td>2651</td>\n",
       "      <td>2017-08-01</td>\n",
       "      <td>34</td>\n",
       "      <td>62292.0</td>\n",
       "      <td>2017-07-29</td>\n",
       "      <td>2</td>\n",
       "      <td>180000</td>\n",
       "      <td>1</td>\n",
       "      <td>Male</td>\n",
       "      <td>C11</td>\n",
       "      <td>Master</td>\n",
       "      <td>2016-06-27</td>\n",
       "      <td>2</td>\n",
       "      <td>397 days</td>\n",
       "      <td>1</td>\n",
       "    </tr>\n",
       "  </tbody>\n",
       "</table>\n",
       "<p>2369 rows × 15 columns</p>\n",
       "</div>"
      ],
      "text/plain": [
       "       Emp_ID Dateofeval  Age    Salary LastWorkingDate  Designation     TBV  \\\n",
       "2           1 2016-03-01   28   57387.0      2016-03-11            1       0   \n",
       "4           2 2017-12-01   31   67016.0             NaT            2       0   \n",
       "9           4 2017-04-01   43   65603.0      2017-04-27            2       0   \n",
       "12          5 2016-03-01   29   46368.0      2016-03-07            1       0   \n",
       "17          6 2017-12-01   31   78728.0             NaT            3       0   \n",
       "...       ...        ...  ...       ...             ...          ...     ...   \n",
       "19161    1803 2016-07-01   34   52914.0      2016-07-20            1       0   \n",
       "19168     645 2016-08-01   28  110445.0      2016-08-01            4       0   \n",
       "19178     945 2017-12-01   40   83025.0             NaT            3  253420   \n",
       "19185    2044 2017-03-01   34   38619.0      2017-03-23            2       0   \n",
       "19186    2651 2017-08-01   34   62292.0      2017-07-29            2  180000   \n",
       "\n",
       "       Rating  Gender City Education_Level Dateofjoining  Join_Designation  \\\n",
       "2           2    Male  C23          Master    2015-12-24                 1   \n",
       "4           1    Male   C7          Master    2017-11-06                 2   \n",
       "9           1    Male  C13          Master    2016-12-07                 2   \n",
       "12          1    Male   C9         College    2016-01-09                 1   \n",
       "17          2  Female  C11        Bachelor    2017-07-31                 3   \n",
       "...       ...     ...  ...             ...           ...               ...   \n",
       "19161       1    Male   C3          Master    2015-05-09                 1   \n",
       "19168       1  Female   C8          Master    2016-03-30                 2   \n",
       "19178       2  Female   C3          Master    2012-05-29                 2   \n",
       "19185       1    Male  C20         College    2016-11-15                 2   \n",
       "19186       1    Male  C11          Master    2016-06-27                 2   \n",
       "\n",
       "       WorkDays  IfLeft  \n",
       "2       78 days       1  \n",
       "4       25 days       0  \n",
       "9      141 days       1  \n",
       "12      58 days       1  \n",
       "17     123 days       0  \n",
       "...         ...     ...  \n",
       "19161  438 days       1  \n",
       "19168  124 days       1  \n",
       "19178 2012 days       0  \n",
       "19185  128 days       1  \n",
       "19186  397 days       1  \n",
       "\n",
       "[2369 rows x 15 columns]"
      ]
     },
     "execution_count": 104,
     "metadata": {},
     "output_type": "execute_result"
    }
   ],
   "source": [
    "# Wpisuję w WorkDays wartości dla pracowników którzy nie opuścili firmy (wpisuje tam czas od dolączenia do dnia ostatniej ewaluacji)\n",
    "latest_eval.WorkDays.fillna(latest_eval.loc[:,\"Dateofeval\"] - latest_eval.loc[:,\"Dateofjoining\"], inplace = True)\n",
    "latest_eval"
   ]
  },
  {
   "cell_type": "code",
   "execution_count": 105,
   "id": "4d1fcbf3",
   "metadata": {
    "cell_id": "00022-d18bcca0-fb72-424a-b4e0-37004283ac87",
    "deepnote_cell_height": 99,
    "deepnote_cell_type": "code",
    "deepnote_to_be_reexecuted": true,
    "id": "sEFcU5If-KsB",
    "source_hash": "587368fe"
   },
   "outputs": [],
   "source": [
    "# Zmieniam typ danych z timedelta na int\n",
    "latest_eval.WorkDays = latest_eval.WorkDays.dt.days"
   ]
  },
  {
   "cell_type": "code",
   "execution_count": 106,
   "id": "3c5ad1a5",
   "metadata": {
    "cell_id": "00024-bf1ea7d9-586a-46a6-9cc5-3c165e4dfcf4",
    "deepnote_cell_height": 153,
    "deepnote_cell_type": "code",
    "deepnote_to_be_reexecuted": true,
    "id": "nXmb0iMt58Ll",
    "source_hash": "ad4e9daa"
   },
   "outputs": [],
   "source": [
    "# Tworzę nową kolumnę z sumą TBV ze wszystkich miesięcy w których pracownik był ewaluowane\n",
    "\n",
    "valuesum = df.groupby(\"Emp_ID\")[\"TBV\"].sum().reset_index()\n",
    "valuesum.rename(columns = {\"TBV\" : \"ValueSum\"}, inplace = True)\n",
    "latest_eval = latest_eval.merge(valuesum, how = \"left\", on = \"Emp_ID\")\n",
    "\n",
    "# Oraz kolumnę z rożnicą designation\n",
    "latest_eval[\"DesignationChange\"] = latest_eval.Designation - latest_eval.Join_Designation"
   ]
  },
  {
   "cell_type": "code",
   "execution_count": 107,
   "id": "11ac0a56",
   "metadata": {
    "cell_id": "00025-dfb7e718-d949-4bbd-8fca-512c544f262c",
    "deepnote_cell_height": 81,
    "deepnote_cell_type": "code",
    "deepnote_to_be_reexecuted": true,
    "id": "KuFJIm2K70qR",
    "source_hash": "8628340e"
   },
   "outputs": [
    {
     "data": {
      "text/html": [
       "<div>\n",
       "<style scoped>\n",
       "    .dataframe tbody tr th:only-of-type {\n",
       "        vertical-align: middle;\n",
       "    }\n",
       "\n",
       "    .dataframe tbody tr th {\n",
       "        vertical-align: top;\n",
       "    }\n",
       "\n",
       "    .dataframe thead th {\n",
       "        text-align: right;\n",
       "    }\n",
       "</style>\n",
       "<table border=\"1\" class=\"dataframe\">\n",
       "  <thead>\n",
       "    <tr style=\"text-align: right;\">\n",
       "      <th></th>\n",
       "      <th>Emp_ID</th>\n",
       "      <th>Dateofeval</th>\n",
       "      <th>Age</th>\n",
       "      <th>Salary</th>\n",
       "      <th>LastWorkingDate</th>\n",
       "      <th>Designation</th>\n",
       "      <th>TBV</th>\n",
       "      <th>Rating</th>\n",
       "      <th>Gender</th>\n",
       "      <th>City</th>\n",
       "      <th>Education_Level</th>\n",
       "      <th>Dateofjoining</th>\n",
       "      <th>Join_Designation</th>\n",
       "      <th>WorkDays</th>\n",
       "      <th>IfLeft</th>\n",
       "      <th>ValueSum</th>\n",
       "      <th>DesignationChange</th>\n",
       "    </tr>\n",
       "  </thead>\n",
       "  <tbody>\n",
       "    <tr>\n",
       "      <th>0</th>\n",
       "      <td>1</td>\n",
       "      <td>2016-03-01</td>\n",
       "      <td>28</td>\n",
       "      <td>57387.0</td>\n",
       "      <td>2016-03-11</td>\n",
       "      <td>1</td>\n",
       "      <td>0</td>\n",
       "      <td>2</td>\n",
       "      <td>Male</td>\n",
       "      <td>C23</td>\n",
       "      <td>Master</td>\n",
       "      <td>2015-12-24</td>\n",
       "      <td>1</td>\n",
       "      <td>78</td>\n",
       "      <td>1</td>\n",
       "      <td>1715580</td>\n",
       "      <td>0</td>\n",
       "    </tr>\n",
       "    <tr>\n",
       "      <th>1</th>\n",
       "      <td>2</td>\n",
       "      <td>2017-12-01</td>\n",
       "      <td>31</td>\n",
       "      <td>67016.0</td>\n",
       "      <td>NaT</td>\n",
       "      <td>2</td>\n",
       "      <td>0</td>\n",
       "      <td>1</td>\n",
       "      <td>Male</td>\n",
       "      <td>C7</td>\n",
       "      <td>Master</td>\n",
       "      <td>2017-11-06</td>\n",
       "      <td>2</td>\n",
       "      <td>25</td>\n",
       "      <td>0</td>\n",
       "      <td>0</td>\n",
       "      <td>0</td>\n",
       "    </tr>\n",
       "    <tr>\n",
       "      <th>2</th>\n",
       "      <td>4</td>\n",
       "      <td>2017-04-01</td>\n",
       "      <td>43</td>\n",
       "      <td>65603.0</td>\n",
       "      <td>2017-04-27</td>\n",
       "      <td>2</td>\n",
       "      <td>0</td>\n",
       "      <td>1</td>\n",
       "      <td>Male</td>\n",
       "      <td>C13</td>\n",
       "      <td>Master</td>\n",
       "      <td>2016-12-07</td>\n",
       "      <td>2</td>\n",
       "      <td>141</td>\n",
       "      <td>1</td>\n",
       "      <td>350000</td>\n",
       "      <td>0</td>\n",
       "    </tr>\n",
       "    <tr>\n",
       "      <th>3</th>\n",
       "      <td>5</td>\n",
       "      <td>2016-03-01</td>\n",
       "      <td>29</td>\n",
       "      <td>46368.0</td>\n",
       "      <td>2016-03-07</td>\n",
       "      <td>1</td>\n",
       "      <td>0</td>\n",
       "      <td>1</td>\n",
       "      <td>Male</td>\n",
       "      <td>C9</td>\n",
       "      <td>College</td>\n",
       "      <td>2016-01-09</td>\n",
       "      <td>1</td>\n",
       "      <td>58</td>\n",
       "      <td>1</td>\n",
       "      <td>120360</td>\n",
       "      <td>0</td>\n",
       "    </tr>\n",
       "    <tr>\n",
       "      <th>4</th>\n",
       "      <td>6</td>\n",
       "      <td>2017-12-01</td>\n",
       "      <td>31</td>\n",
       "      <td>78728.0</td>\n",
       "      <td>NaT</td>\n",
       "      <td>3</td>\n",
       "      <td>0</td>\n",
       "      <td>2</td>\n",
       "      <td>Female</td>\n",
       "      <td>C11</td>\n",
       "      <td>Bachelor</td>\n",
       "      <td>2017-07-31</td>\n",
       "      <td>3</td>\n",
       "      <td>123</td>\n",
       "      <td>0</td>\n",
       "      <td>1265000</td>\n",
       "      <td>0</td>\n",
       "    </tr>\n",
       "    <tr>\n",
       "      <th>...</th>\n",
       "      <td>...</td>\n",
       "      <td>...</td>\n",
       "      <td>...</td>\n",
       "      <td>...</td>\n",
       "      <td>...</td>\n",
       "      <td>...</td>\n",
       "      <td>...</td>\n",
       "      <td>...</td>\n",
       "      <td>...</td>\n",
       "      <td>...</td>\n",
       "      <td>...</td>\n",
       "      <td>...</td>\n",
       "      <td>...</td>\n",
       "      <td>...</td>\n",
       "      <td>...</td>\n",
       "      <td>...</td>\n",
       "      <td>...</td>\n",
       "    </tr>\n",
       "    <tr>\n",
       "      <th>2364</th>\n",
       "      <td>1803</td>\n",
       "      <td>2016-07-01</td>\n",
       "      <td>34</td>\n",
       "      <td>52914.0</td>\n",
       "      <td>2016-07-20</td>\n",
       "      <td>1</td>\n",
       "      <td>0</td>\n",
       "      <td>1</td>\n",
       "      <td>Male</td>\n",
       "      <td>C3</td>\n",
       "      <td>Master</td>\n",
       "      <td>2015-05-09</td>\n",
       "      <td>1</td>\n",
       "      <td>438</td>\n",
       "      <td>1</td>\n",
       "      <td>-1285530</td>\n",
       "      <td>0</td>\n",
       "    </tr>\n",
       "    <tr>\n",
       "      <th>2365</th>\n",
       "      <td>645</td>\n",
       "      <td>2016-08-01</td>\n",
       "      <td>28</td>\n",
       "      <td>110445.0</td>\n",
       "      <td>2016-08-01</td>\n",
       "      <td>4</td>\n",
       "      <td>0</td>\n",
       "      <td>1</td>\n",
       "      <td>Female</td>\n",
       "      <td>C8</td>\n",
       "      <td>Master</td>\n",
       "      <td>2016-03-30</td>\n",
       "      <td>2</td>\n",
       "      <td>124</td>\n",
       "      <td>1</td>\n",
       "      <td>960000</td>\n",
       "      <td>2</td>\n",
       "    </tr>\n",
       "    <tr>\n",
       "      <th>2366</th>\n",
       "      <td>945</td>\n",
       "      <td>2017-12-01</td>\n",
       "      <td>40</td>\n",
       "      <td>83025.0</td>\n",
       "      <td>NaT</td>\n",
       "      <td>3</td>\n",
       "      <td>253420</td>\n",
       "      <td>2</td>\n",
       "      <td>Female</td>\n",
       "      <td>C3</td>\n",
       "      <td>Master</td>\n",
       "      <td>2012-05-29</td>\n",
       "      <td>2</td>\n",
       "      <td>2012</td>\n",
       "      <td>0</td>\n",
       "      <td>26197200</td>\n",
       "      <td>1</td>\n",
       "    </tr>\n",
       "    <tr>\n",
       "      <th>2367</th>\n",
       "      <td>2044</td>\n",
       "      <td>2017-03-01</td>\n",
       "      <td>34</td>\n",
       "      <td>38619.0</td>\n",
       "      <td>2017-03-23</td>\n",
       "      <td>2</td>\n",
       "      <td>0</td>\n",
       "      <td>1</td>\n",
       "      <td>Male</td>\n",
       "      <td>C20</td>\n",
       "      <td>College</td>\n",
       "      <td>2016-11-15</td>\n",
       "      <td>2</td>\n",
       "      <td>128</td>\n",
       "      <td>1</td>\n",
       "      <td>466160</td>\n",
       "      <td>0</td>\n",
       "    </tr>\n",
       "    <tr>\n",
       "      <th>2368</th>\n",
       "      <td>2651</td>\n",
       "      <td>2017-08-01</td>\n",
       "      <td>34</td>\n",
       "      <td>62292.0</td>\n",
       "      <td>2017-07-29</td>\n",
       "      <td>2</td>\n",
       "      <td>180000</td>\n",
       "      <td>1</td>\n",
       "      <td>Male</td>\n",
       "      <td>C11</td>\n",
       "      <td>Master</td>\n",
       "      <td>2016-06-27</td>\n",
       "      <td>2</td>\n",
       "      <td>397</td>\n",
       "      <td>1</td>\n",
       "      <td>4996290</td>\n",
       "      <td>0</td>\n",
       "    </tr>\n",
       "  </tbody>\n",
       "</table>\n",
       "<p>2369 rows × 17 columns</p>\n",
       "</div>"
      ],
      "text/plain": [
       "      Emp_ID Dateofeval  Age    Salary LastWorkingDate  Designation     TBV  \\\n",
       "0          1 2016-03-01   28   57387.0      2016-03-11            1       0   \n",
       "1          2 2017-12-01   31   67016.0             NaT            2       0   \n",
       "2          4 2017-04-01   43   65603.0      2017-04-27            2       0   \n",
       "3          5 2016-03-01   29   46368.0      2016-03-07            1       0   \n",
       "4          6 2017-12-01   31   78728.0             NaT            3       0   \n",
       "...      ...        ...  ...       ...             ...          ...     ...   \n",
       "2364    1803 2016-07-01   34   52914.0      2016-07-20            1       0   \n",
       "2365     645 2016-08-01   28  110445.0      2016-08-01            4       0   \n",
       "2366     945 2017-12-01   40   83025.0             NaT            3  253420   \n",
       "2367    2044 2017-03-01   34   38619.0      2017-03-23            2       0   \n",
       "2368    2651 2017-08-01   34   62292.0      2017-07-29            2  180000   \n",
       "\n",
       "      Rating  Gender City Education_Level Dateofjoining  Join_Designation  \\\n",
       "0          2    Male  C23          Master    2015-12-24                 1   \n",
       "1          1    Male   C7          Master    2017-11-06                 2   \n",
       "2          1    Male  C13          Master    2016-12-07                 2   \n",
       "3          1    Male   C9         College    2016-01-09                 1   \n",
       "4          2  Female  C11        Bachelor    2017-07-31                 3   \n",
       "...      ...     ...  ...             ...           ...               ...   \n",
       "2364       1    Male   C3          Master    2015-05-09                 1   \n",
       "2365       1  Female   C8          Master    2016-03-30                 2   \n",
       "2366       2  Female   C3          Master    2012-05-29                 2   \n",
       "2367       1    Male  C20         College    2016-11-15                 2   \n",
       "2368       1    Male  C11          Master    2016-06-27                 2   \n",
       "\n",
       "      WorkDays  IfLeft  ValueSum  DesignationChange  \n",
       "0           78       1   1715580                  0  \n",
       "1           25       0         0                  0  \n",
       "2          141       1    350000                  0  \n",
       "3           58       1    120360                  0  \n",
       "4          123       0   1265000                  0  \n",
       "...        ...     ...       ...                ...  \n",
       "2364       438       1  -1285530                  0  \n",
       "2365       124       1    960000                  2  \n",
       "2366      2012       0  26197200                  1  \n",
       "2367       128       1    466160                  0  \n",
       "2368       397       1   4996290                  0  \n",
       "\n",
       "[2369 rows x 17 columns]"
      ]
     },
     "execution_count": 107,
     "metadata": {},
     "output_type": "execute_result"
    }
   ],
   "source": [
    "latest_eval"
   ]
  },
  {
   "cell_type": "code",
   "execution_count": 108,
   "id": "bded4eb7",
   "metadata": {
    "cell_id": "00026-58387bfa-2f19-48a6-81a3-23ef20594281",
    "deepnote_cell_height": 81,
    "deepnote_cell_type": "code",
    "deepnote_to_be_reexecuted": true,
    "id": "V-kzQ5Ua9cPI",
    "source_hash": "b623e53d"
   },
   "outputs": [],
   "source": [
    "korelacja = latest_eval.corr()"
   ]
  },
  {
   "cell_type": "code",
   "execution_count": 109,
   "id": "dd2c8bdd",
   "metadata": {},
   "outputs": [
    {
     "data": {
      "image/png": "[encoded data removed]",
      "text/plain": [
       "<Figure size 1000x800 with 2 Axes>"
      ]
     },
     "metadata": {
      "needs_background": "light"
     },
     "output_type": "display_data"
    }
   ],
   "source": [
    "plt.figure(figsize=(10, 8), dpi=100)\n",
    "sns.heatmap(korelacja, annot=True, vmin = -1, vmax = 1, cmap = sns.diverging_palette(140, 230, s=150, l=35, n=100))\n",
    "plt.show()"
   ]
  },
  {
   "cell_type": "code",
   "execution_count": 110,
   "id": "4a75b2c4",
   "metadata": {},
   "outputs": [],
   "source": [
    "#### Istnieje silna ujemna korelacja między odejściem pracownika z firmy, a jego oceną roczną. Pracownicy, którzy odeszli \n",
    "# częściej mieli niższy rating. "
   ]
  },
  {
   "cell_type": "code",
   "execution_count": 111,
   "id": "90a76313",
   "metadata": {},
   "outputs": [
    {
     "data": {
      "image/png": "[encoded data removed]",
      "text/plain": [
       "<Figure size 720x576 with 1 Axes>"
      ]
     },
     "metadata": {
      "needs_background": "light"
     },
     "output_type": "display_data"
    }
   ],
   "source": [
    "plt.figure(figsize=(10,8))\n",
    "ax=sns.countplot(x=\"Rating\", hue=\"IfLeft\", data=latest_eval, palette='ocean')\n",
    "bars = ax.patches\n",
    "half = int(len(bars)/2)\n",
    "left_bars = bars[:half]\n",
    "right_bars = bars[half:]\n",
    "\n",
    "for left, right in zip(left_bars, right_bars):\n",
    "        height_l = left.get_height()\n",
    "        height_r = right.get_height()\n",
    "        total = height_l + height_r\n",
    "        ax.text(left.get_x() + left.get_width()/2., height_l + 10, '{0:.0%}'.format(height_l/total), ha=\"center\")\n",
    "        ax.text(right.get_x() + right.get_width()/2., height_r + 10, '{0:.0%}'.format(height_r/total), ha=\"center\")\n",
    "plt.show()"
   ]
  },
  {
   "cell_type": "markdown",
   "id": "cbbdd5e5",
   "metadata": {},
   "source": [
    "Wśród pracowników z najniższą oceną, równą 1, aż 81% odeszło z firmy."
   ]
  },
  {
   "cell_type": "code",
   "execution_count": 113,
   "id": "f53af145",
   "metadata": {},
   "outputs": [
    {
     "data": {
      "image/png": "[encoded data removed]",
      "text/plain": [
       "<Figure size 720x576 with 1 Axes>"
      ]
     },
     "metadata": {
      "needs_background": "light"
     },
     "output_type": "display_data"
    }
   ],
   "source": [
    "plt.figure(figsize=(10,8))\n",
    "ax=sns.countplot(x=\"Designation\", hue=\"IfLeft\", data=latest_eval, palette='ocean')\n",
    "bars = ax.patches\n",
    "half = int(len(bars)/2)\n",
    "left_bars = bars[:half]\n",
    "right_bars = bars[half:]\n",
    "\n",
    "for left, right in zip(left_bars, right_bars):\n",
    "        height_l = left.get_height()\n",
    "        height_r = right.get_height()\n",
    "        total = height_l + height_r\n",
    "        ax.text(left.get_x() + left.get_width()/2., height_l + 10, '{0:.0%}'.format(height_l/total), ha=\"center\")\n",
    "        ax.text(right.get_x() + right.get_width()/2., height_r + 10, '{0:.0%}'.format(height_r/total), ha=\"center\")\n",
    "plt.show()"
   ]
  },
  {
   "cell_type": "code",
   "execution_count": 114,
   "id": "f8350745",
   "metadata": {},
   "outputs": [],
   "source": [
    "# Występuję równiez ujemna korelacja między poziomem klasyfikacji pracowników, a ich odejściem z firmy. Pracownicy o niższych klasyfikacjach \n",
    "# częściej odchodzą z firmy. Wśród pracowników o najniższych klasyfikacjach, aż 80% odeszło z firmy."
   ]
  },
  {
   "cell_type": "code",
   "execution_count": 115,
   "id": "7dc44838",
   "metadata": {},
   "outputs": [
    {
     "data": {
      "text/plain": [
       "<AxesSubplot:xlabel='Join_Designation', ylabel='count'>"
      ]
     },
     "execution_count": 115,
     "metadata": {},
     "output_type": "execute_result"
    },
    {
     "data": {
      "image/png": "[encoded data removed]",
      "text/plain": [
       "<Figure size 1440x720 with 3 Axes>"
      ]
     },
     "metadata": {
      "needs_background": "light"
     },
     "output_type": "display_data"
    }
   ],
   "source": [
    "plt.subplots(figsize=(20,10))\n",
    "\n",
    "plt.subplot(231)\n",
    "sns.countplot(x = 'Gender', data = latest_eval)\n",
    "\n",
    "plt.subplot(232)\n",
    "sns.countplot(x = 'Education_Level', data = latest_eval)\n",
    "\n",
    "plt.subplot(234)\n",
    "sns.countplot(x = 'Designation', data = latest_eval)\n",
    "\n",
    "plt.subplot(234)\n",
    "sns.countplot(x = 'Join_Designation', data = latest_eval)"
   ]
  },
  {
   "cell_type": "code",
   "execution_count": 116,
   "id": "1cb3b29c",
   "metadata": {},
   "outputs": [
    {
     "data": {
      "text/plain": [
       "<AxesSubplot:xlabel='IfLeft', ylabel='count'>"
      ]
     },
     "execution_count": 116,
     "metadata": {},
     "output_type": "execute_result"
    },
    {
     "data": {
      "image/png": "[encoded data removed]",
      "text/plain": [
       "<Figure size 1080x648 with 1 Axes>"
      ]
     },
     "metadata": {
      "needs_background": "light"
     },
     "output_type": "display_data"
    }
   ],
   "source": [
    "sns.countplot(x = 'IfLeft', data = latest_eval)   \n",
    "# próba jest lekko niezbilansowana. Przeważają pracownicy, którzy odeszli z firmy."
   ]
  },
  {
   "cell_type": "code",
   "execution_count": 117,
   "id": "325a5adc",
   "metadata": {},
   "outputs": [
    {
     "data": {
      "text/plain": [
       "<function matplotlib.pyplot.show(close=None, block=None)>"
      ]
     },
     "execution_count": 117,
     "metadata": {},
     "output_type": "execute_result"
    },
    {
     "data": {
      "image/png": "[encoded data removed]",
      "text/plain": [
       "<Figure size 1440x1440 with 16 Axes>"
      ]
     },
     "metadata": {
      "needs_background": "light"
     },
     "output_type": "display_data"
    }
   ],
   "source": [
    "latest_eval.hist(figsize=(20,20))\n",
    "plt.show"
   ]
  },
  {
   "cell_type": "code",
   "execution_count": 118,
   "id": "1753e0b9",
   "metadata": {},
   "outputs": [
    {
     "data": {
      "image/png": "[encoded data removed]",
      "text/plain": [
       "<Figure size 1080x432 with 1 Axes>"
      ]
     },
     "metadata": {
      "needs_background": "light"
     },
     "output_type": "display_data"
    }
   ],
   "source": [
    "plt.figure(figsize=(15,6))\n",
    "plt.style.use('seaborn-colorblind')\n",
    "plt.grid(True, alpha=0.5)\n",
    "sns.kdeplot(latest_eval.loc[latest_eval['IfLeft'] == 0, 'Age'], label = 'Active Employee')\n",
    "sns.kdeplot(latest_eval.loc[latest_eval['IfLeft'] == 1, 'Age'], label = 'Left the company')\n",
    "plt.xlim(left=18, right=60)\n",
    "plt.xlabel('Age (years)')\n",
    "plt.ylabel('Density')\n",
    "plt.title('Age Distribution in Percent by Attrition Status');"
   ]
  },
  {
   "cell_type": "code",
   "execution_count": 119,
   "id": "79f0b1a8",
   "metadata": {},
   "outputs": [],
   "source": [
    "def iv_cate(df, variable, target):\n",
    "    N_left = df[target].sum()\n",
    "    N_stay = len(df) - N_left\n",
    "    n_left = np.array(df.groupby(variable)[target].sum())\n",
    "    n_stay = np.array(df.groupby(variable)[target].count()) - n_left\n",
    "    iv = np.sum((n_stay/N_stay - n_left/N_left)*np.log(np.divide(n_stay,n_left)*N_left/N_stay))\n",
    "    return iv"
   ]
  },
  {
   "cell_type": "code",
   "execution_count": 120,
   "id": "9cd95d33",
   "metadata": {},
   "outputs": [
    {
     "data": {
      "text/plain": [
       "1.3347790781168083"
      ]
     },
     "execution_count": 120,
     "metadata": {},
     "output_type": "execute_result"
    }
   ],
   "source": [
    "iv_cate(latest_eval, \"Rating\", \"IfLeft\")"
   ]
  },
  {
   "cell_type": "code",
   "execution_count": 121,
   "id": "4e48c7ed",
   "metadata": {},
   "outputs": [],
   "source": [
    "def iv_cont(df, variable, target, bins):\n",
    "    copy = df.copy()\n",
    "    copy[\"Binned\"] = pd.cut(copy[variable], bins)\n",
    "    N_left = copy[target].sum()\n",
    "    N_stay = len(copy) - N_left\n",
    "    n_left = np.maximum(np.array(copy.groupby(\"Binned\")[target].sum()), np.ones(bins))\n",
    "    n_stay = np.maximum(np.array(copy.groupby(\"Binned\")[target].count()) - n_left, np.ones(bins))\n",
    "    iv = np.sum((n_stay/N_stay - n_left/N_left)*np.log(np.divide(n_stay,n_left)*N_left/N_stay))\n",
    "    return iv"
   ]
  },
  {
   "cell_type": "code",
   "execution_count": 122,
   "id": "9795eb95",
   "metadata": {},
   "outputs": [
    {
     "data": {
      "text/plain": [
       "0.2022296929212935"
      ]
     },
     "execution_count": 122,
     "metadata": {},
     "output_type": "execute_result"
    }
   ],
   "source": [
    "iv_cont(latest_eval, \"Salary\", \"IfLeft\", 10)"
   ]
  },
  {
   "cell_type": "code",
   "execution_count": 123,
   "id": "97d5cb86",
   "metadata": {},
   "outputs": [
    {
     "data": {
      "text/html": [
       "<div>\n",
       "<style scoped>\n",
       "    .dataframe tbody tr th:only-of-type {\n",
       "        vertical-align: middle;\n",
       "    }\n",
       "\n",
       "    .dataframe tbody tr th {\n",
       "        vertical-align: top;\n",
       "    }\n",
       "\n",
       "    .dataframe thead th {\n",
       "        text-align: right;\n",
       "    }\n",
       "</style>\n",
       "<table border=\"1\" class=\"dataframe\">\n",
       "  <thead>\n",
       "    <tr style=\"text-align: right;\">\n",
       "      <th></th>\n",
       "      <th>Emp_ID</th>\n",
       "      <th>Dateofeval</th>\n",
       "      <th>Age</th>\n",
       "      <th>Salary</th>\n",
       "      <th>LastWorkingDate</th>\n",
       "      <th>Designation</th>\n",
       "      <th>TBV</th>\n",
       "      <th>Rating</th>\n",
       "      <th>Gender</th>\n",
       "      <th>City</th>\n",
       "      <th>Education_Level</th>\n",
       "      <th>Dateofjoining</th>\n",
       "      <th>Join_Designation</th>\n",
       "      <th>WorkDays</th>\n",
       "      <th>IfLeft</th>\n",
       "      <th>ValueSum</th>\n",
       "      <th>DesignationChange</th>\n",
       "    </tr>\n",
       "  </thead>\n",
       "  <tbody>\n",
       "    <tr>\n",
       "      <th>0</th>\n",
       "      <td>1</td>\n",
       "      <td>2016-03-01</td>\n",
       "      <td>28</td>\n",
       "      <td>57387.0</td>\n",
       "      <td>2016-03-11</td>\n",
       "      <td>1</td>\n",
       "      <td>0</td>\n",
       "      <td>2</td>\n",
       "      <td>Male</td>\n",
       "      <td>C23</td>\n",
       "      <td>Master</td>\n",
       "      <td>2015-12-24</td>\n",
       "      <td>1</td>\n",
       "      <td>78</td>\n",
       "      <td>1</td>\n",
       "      <td>1715580</td>\n",
       "      <td>0</td>\n",
       "    </tr>\n",
       "    <tr>\n",
       "      <th>1</th>\n",
       "      <td>2</td>\n",
       "      <td>2017-12-01</td>\n",
       "      <td>31</td>\n",
       "      <td>67016.0</td>\n",
       "      <td>NaT</td>\n",
       "      <td>2</td>\n",
       "      <td>0</td>\n",
       "      <td>1</td>\n",
       "      <td>Male</td>\n",
       "      <td>C7</td>\n",
       "      <td>Master</td>\n",
       "      <td>2017-11-06</td>\n",
       "      <td>2</td>\n",
       "      <td>25</td>\n",
       "      <td>0</td>\n",
       "      <td>0</td>\n",
       "      <td>0</td>\n",
       "    </tr>\n",
       "    <tr>\n",
       "      <th>2</th>\n",
       "      <td>4</td>\n",
       "      <td>2017-04-01</td>\n",
       "      <td>43</td>\n",
       "      <td>65603.0</td>\n",
       "      <td>2017-04-27</td>\n",
       "      <td>2</td>\n",
       "      <td>0</td>\n",
       "      <td>1</td>\n",
       "      <td>Male</td>\n",
       "      <td>C13</td>\n",
       "      <td>Master</td>\n",
       "      <td>2016-12-07</td>\n",
       "      <td>2</td>\n",
       "      <td>141</td>\n",
       "      <td>1</td>\n",
       "      <td>350000</td>\n",
       "      <td>0</td>\n",
       "    </tr>\n",
       "    <tr>\n",
       "      <th>3</th>\n",
       "      <td>5</td>\n",
       "      <td>2016-03-01</td>\n",
       "      <td>29</td>\n",
       "      <td>46368.0</td>\n",
       "      <td>2016-03-07</td>\n",
       "      <td>1</td>\n",
       "      <td>0</td>\n",
       "      <td>1</td>\n",
       "      <td>Male</td>\n",
       "      <td>C9</td>\n",
       "      <td>College</td>\n",
       "      <td>2016-01-09</td>\n",
       "      <td>1</td>\n",
       "      <td>58</td>\n",
       "      <td>1</td>\n",
       "      <td>120360</td>\n",
       "      <td>0</td>\n",
       "    </tr>\n",
       "    <tr>\n",
       "      <th>4</th>\n",
       "      <td>6</td>\n",
       "      <td>2017-12-01</td>\n",
       "      <td>31</td>\n",
       "      <td>78728.0</td>\n",
       "      <td>NaT</td>\n",
       "      <td>3</td>\n",
       "      <td>0</td>\n",
       "      <td>2</td>\n",
       "      <td>Female</td>\n",
       "      <td>C11</td>\n",
       "      <td>Bachelor</td>\n",
       "      <td>2017-07-31</td>\n",
       "      <td>3</td>\n",
       "      <td>123</td>\n",
       "      <td>0</td>\n",
       "      <td>1265000</td>\n",
       "      <td>0</td>\n",
       "    </tr>\n",
       "    <tr>\n",
       "      <th>...</th>\n",
       "      <td>...</td>\n",
       "      <td>...</td>\n",
       "      <td>...</td>\n",
       "      <td>...</td>\n",
       "      <td>...</td>\n",
       "      <td>...</td>\n",
       "      <td>...</td>\n",
       "      <td>...</td>\n",
       "      <td>...</td>\n",
       "      <td>...</td>\n",
       "      <td>...</td>\n",
       "      <td>...</td>\n",
       "      <td>...</td>\n",
       "      <td>...</td>\n",
       "      <td>...</td>\n",
       "      <td>...</td>\n",
       "      <td>...</td>\n",
       "    </tr>\n",
       "    <tr>\n",
       "      <th>2364</th>\n",
       "      <td>1803</td>\n",
       "      <td>2016-07-01</td>\n",
       "      <td>34</td>\n",
       "      <td>52914.0</td>\n",
       "      <td>2016-07-20</td>\n",
       "      <td>1</td>\n",
       "      <td>0</td>\n",
       "      <td>1</td>\n",
       "      <td>Male</td>\n",
       "      <td>C3</td>\n",
       "      <td>Master</td>\n",
       "      <td>2015-05-09</td>\n",
       "      <td>1</td>\n",
       "      <td>438</td>\n",
       "      <td>1</td>\n",
       "      <td>-1285530</td>\n",
       "      <td>0</td>\n",
       "    </tr>\n",
       "    <tr>\n",
       "      <th>2365</th>\n",
       "      <td>645</td>\n",
       "      <td>2016-08-01</td>\n",
       "      <td>28</td>\n",
       "      <td>110445.0</td>\n",
       "      <td>2016-08-01</td>\n",
       "      <td>4</td>\n",
       "      <td>0</td>\n",
       "      <td>1</td>\n",
       "      <td>Female</td>\n",
       "      <td>C8</td>\n",
       "      <td>Master</td>\n",
       "      <td>2016-03-30</td>\n",
       "      <td>2</td>\n",
       "      <td>124</td>\n",
       "      <td>1</td>\n",
       "      <td>960000</td>\n",
       "      <td>2</td>\n",
       "    </tr>\n",
       "    <tr>\n",
       "      <th>2366</th>\n",
       "      <td>945</td>\n",
       "      <td>2017-12-01</td>\n",
       "      <td>40</td>\n",
       "      <td>83025.0</td>\n",
       "      <td>NaT</td>\n",
       "      <td>3</td>\n",
       "      <td>253420</td>\n",
       "      <td>2</td>\n",
       "      <td>Female</td>\n",
       "      <td>C3</td>\n",
       "      <td>Master</td>\n",
       "      <td>2012-05-29</td>\n",
       "      <td>2</td>\n",
       "      <td>2012</td>\n",
       "      <td>0</td>\n",
       "      <td>26197200</td>\n",
       "      <td>1</td>\n",
       "    </tr>\n",
       "    <tr>\n",
       "      <th>2367</th>\n",
       "      <td>2044</td>\n",
       "      <td>2017-03-01</td>\n",
       "      <td>34</td>\n",
       "      <td>38619.0</td>\n",
       "      <td>2017-03-23</td>\n",
       "      <td>2</td>\n",
       "      <td>0</td>\n",
       "      <td>1</td>\n",
       "      <td>Male</td>\n",
       "      <td>C20</td>\n",
       "      <td>College</td>\n",
       "      <td>2016-11-15</td>\n",
       "      <td>2</td>\n",
       "      <td>128</td>\n",
       "      <td>1</td>\n",
       "      <td>466160</td>\n",
       "      <td>0</td>\n",
       "    </tr>\n",
       "    <tr>\n",
       "      <th>2368</th>\n",
       "      <td>2651</td>\n",
       "      <td>2017-08-01</td>\n",
       "      <td>34</td>\n",
       "      <td>62292.0</td>\n",
       "      <td>2017-07-29</td>\n",
       "      <td>2</td>\n",
       "      <td>180000</td>\n",
       "      <td>1</td>\n",
       "      <td>Male</td>\n",
       "      <td>C11</td>\n",
       "      <td>Master</td>\n",
       "      <td>2016-06-27</td>\n",
       "      <td>2</td>\n",
       "      <td>397</td>\n",
       "      <td>1</td>\n",
       "      <td>4996290</td>\n",
       "      <td>0</td>\n",
       "    </tr>\n",
       "  </tbody>\n",
       "</table>\n",
       "<p>2369 rows × 17 columns</p>\n",
       "</div>"
      ],
      "text/plain": [
       "      Emp_ID Dateofeval  Age    Salary LastWorkingDate  Designation     TBV  \\\n",
       "0          1 2016-03-01   28   57387.0      2016-03-11            1       0   \n",
       "1          2 2017-12-01   31   67016.0             NaT            2       0   \n",
       "2          4 2017-04-01   43   65603.0      2017-04-27            2       0   \n",
       "3          5 2016-03-01   29   46368.0      2016-03-07            1       0   \n",
       "4          6 2017-12-01   31   78728.0             NaT            3       0   \n",
       "...      ...        ...  ...       ...             ...          ...     ...   \n",
       "2364    1803 2016-07-01   34   52914.0      2016-07-20            1       0   \n",
       "2365     645 2016-08-01   28  110445.0      2016-08-01            4       0   \n",
       "2366     945 2017-12-01   40   83025.0             NaT            3  253420   \n",
       "2367    2044 2017-03-01   34   38619.0      2017-03-23            2       0   \n",
       "2368    2651 2017-08-01   34   62292.0      2017-07-29            2  180000   \n",
       "\n",
       "      Rating  Gender City Education_Level Dateofjoining  Join_Designation  \\\n",
       "0          2    Male  C23          Master    2015-12-24                 1   \n",
       "1          1    Male   C7          Master    2017-11-06                 2   \n",
       "2          1    Male  C13          Master    2016-12-07                 2   \n",
       "3          1    Male   C9         College    2016-01-09                 1   \n",
       "4          2  Female  C11        Bachelor    2017-07-31                 3   \n",
       "...      ...     ...  ...             ...           ...               ...   \n",
       "2364       1    Male   C3          Master    2015-05-09                 1   \n",
       "2365       1  Female   C8          Master    2016-03-30                 2   \n",
       "2366       2  Female   C3          Master    2012-05-29                 2   \n",
       "2367       1    Male  C20         College    2016-11-15                 2   \n",
       "2368       1    Male  C11          Master    2016-06-27                 2   \n",
       "\n",
       "      WorkDays  IfLeft  ValueSum  DesignationChange  \n",
       "0           78       1   1715580                  0  \n",
       "1           25       0         0                  0  \n",
       "2          141       1    350000                  0  \n",
       "3           58       1    120360                  0  \n",
       "4          123       0   1265000                  0  \n",
       "...        ...     ...       ...                ...  \n",
       "2364       438       1  -1285530                  0  \n",
       "2365       124       1    960000                  2  \n",
       "2366      2012       0  26197200                  1  \n",
       "2367       128       1    466160                  0  \n",
       "2368       397       1   4996290                  0  \n",
       "\n",
       "[2369 rows x 17 columns]"
      ]
     },
     "execution_count": 123,
     "metadata": {},
     "output_type": "execute_result"
    }
   ],
   "source": [
    "latest_eval"
   ]
  },
  {
   "cell_type": "code",
   "execution_count": 135,
   "id": "43187631",
   "metadata": {},
   "outputs": [],
   "source": [
    "cont = [\"Age\", \"Salary\", \"TBV\", \"WorkDays\", \"ValueSum\"]\n",
    "cate = [\"Gender\", \"Rating\", \"Designation\", \"Join_Designation\", \"DesignationChange\", \"City\"]\n",
    "variables = cont + cate"
   ]
  },
  {
   "cell_type": "code",
   "execution_count": 136,
   "id": "cd90a080",
   "metadata": {},
   "outputs": [],
   "source": [
    "ivs = []\n",
    "for v in  variables:\n",
    "    if v in cont:\n",
    "        ivs.append(iv_cont(latest_eval, v, \"IfLeft\", 10))\n",
    "    else:\n",
    "        ivs.append(iv_cate(latest_eval, v, \"IfLeft\"))"
   ]
  },
  {
   "cell_type": "code",
   "execution_count": 137,
   "id": "83963e83",
   "metadata": {},
   "outputs": [
    {
     "data": {
      "text/plain": [
       "[0.06461600166897265,\n",
       " 0.2022296929212935,\n",
       " 0.13639496438375434,\n",
       " 0.24131314003850007,\n",
       " 0.7499237568302288,\n",
       " 0.0003620031825664821,\n",
       " 1.3347790781168083,\n",
       " 0.2528192678468375,\n",
       " 0.09408831409314383,\n",
       " 0.11097284309300438,\n",
       " 0.09697678573604422]"
      ]
     },
     "execution_count": 137,
     "metadata": {},
     "output_type": "execute_result"
    }
   ],
   "source": [
    "ivs"
   ]
  },
  {
   "cell_type": "code",
   "execution_count": null,
   "id": "741c2cec",
   "metadata": {},
   "outputs": [],
   "source": []
  }
 ],
 "metadata": {
  "colab": {
   "collapsed_sections": [],
   "name": "EDA.ipynb",
   "provenance": []
  },
  "deepnote": {},
  "deepnote_execution_queue": [],
  "deepnote_notebook_id": "5363f8e6-ed31-4126-82c6-ba9d2effd0c4",
  "kernelspec": {
   "display_name": "Python 3 (ipykernel)",
   "language": "python",
   "name": "python3"
  },
  "language_info": {
   "codemirror_mode": {
    "name": "ipython",
    "version": 3
   },
   "file_extension": ".py",
   "mimetype": "text/x-python",
   "name": "python",
   "nbconvert_exporter": "python",
   "pygments_lexer": "ipython3",
   "version": "3.8.10"
  }
 },
 "nbformat": 4,
 "nbformat_minor": 5
}
