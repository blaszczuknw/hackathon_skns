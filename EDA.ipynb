{
 "cells": [
  {
   "cell_type": "markdown",
   "source": "Hello \nW ostatnich latach wzrosła koncentracja firm na zasobach ludzkich. Umiejętności i wiedza pracowników stanowią bardzo solidny fundament dla przedsiębiorstwa do budowania przewagi nad konkurencją i są niezbędnym składnikiem do dalszego rozwoju organizacji. Z tych powodów utrzymanie pracowników ramach organizacji jest kluczową kwestia do zajęcia się przez działy HR - utrata wartościowych pracowników jest bardzo kosztowna dla przedsiębiorstwa, a zatrudnianie nowych generuje wyższe koszty niż utrzymanie już tych obecnych.\n\nInnowacje związane z podejmowaniem decyzji na podstawie analizy danych wkraczają również do świata HR. Wyobraź sobie, że pracujesz w firmie SKNS Investment Ltd. jako analityk danych, a dział HR potrzebuje analizy która ułatwi proces decyzji co do przywiązania większej uwagi do pewnych grup pracowników na podstawie kryteriów obecnych w danym poniżej zbiorze danych. Dział HR dysponuje zbiorem danych o ocenach miesięcznych pracowników z działu sprzedaży ubezpieczeń do nowych klientów o następujących kolumnach:\n1. MMM.YY - Dzień wpisania oceny miesięcznej pracownika do bazy\n2. Emp_ID - Identyfikator pracownika\n3. Age - Wiek\n4. Gender - Płeć\n5. City - Identyfikator dla oddziału mieszczącego się w danym mieście\n6. Education_Level - Bachelor / College / Master\n7. Salary - Wynagrodzenie roczne\n8. Dateofjoining - Data dołączenia do firmy\n9. LastWorkingDate - Data odejścia, jeśli pracownik odszedł w danym okresie\n10. Joining.Designation - pięciostopniowy poziom kwalifikacji podczas rekrutacji (1 - niski poziom, 5 - bardzo wysoki poziom)\n11. Designation - aktualny poziom kwalifikacji\n12. Total.Business.Value - Sumaryczna ilość sprzedanych ubezpieczeń (KPI z którego są rozliczani w perspektywie miesięcznej)\n13. Quarterly.Rating - ocena roczna (1 - niski poziom, 5 bardzo wysoki poziom)\npodczas\nSporządź wstępną analizę wynikającą z eksploracji dołączonego zbioru danych, z przedstawieniem kluczowych wniosków dla działu HR, którzy pracownicy mają większą a którzy mniejszą szansę na odejście z firmy w najbliższym czasie. Dołączona analiza ma zostać przygotowana przy pomocy jednego z języków programowania (akceptowane są wyłącznie Python/R/Julia) w Jupyter Notebook wraz z wykresami pokazującymi odpowiednie zauważone przez Waszą drużynę zależności.\n\n",
   "metadata": {
    "id": "AF9tZEN3ViLA",
    "cell_id": "fbbdc3f5-723a-4cbf-8b76-e4d61ef42161",
    "deepnote_cell_type": "markdown",
    "deepnote_cell_height": 600.59375
   }
  },
  {
   "cell_type": "markdown",
   "source": "### Streszczenie",
   "metadata": {
    "cell_id": "a261a2decfa949a3b60804dbccdcaaba",
    "tags": [],
    "is_collapsed": false,
    "deepnote_cell_type": "text-cell-h3"
   }
  },
  {
   "cell_type": "markdown",
   "source": "W ostatnich latach wzrosła koncentracja firm na zasobach ludzkich. Umiejętności i wiedza pracowników stanowią bardzo solidny fundament dla przedsiębiorstwa do budowania przewagi nad konkurencją i są niezbędnym składnikiem do dalszego rozwoju organizacji. Z tych powodów utrzymanie pracowników w ramach organizacji jest kluczową kwestia do zajęcia się przez działy HR - utrata wartościowych pracowników jest bardzo kosztowna dla przedsiębiorstwa, a zatrudnianie nowych generuje wyższe koszty niż utrzymanie już tych obecnych. ",
   "metadata": {
    "cell_id": "773bd44637114de7952420d617e44625",
    "tags": [],
    "is_collapsed": false,
    "deepnote_cell_type": "text-cell-p"
   }
  },
  {
   "cell_type": "markdown",
   "source": "Popularnosc wykorzystania sztucznej inteligencji, metod machine learning i deep learning w działach HR rośnie. Rozwój organizacji i jej stabilnosc w duzym stopniu związana jest z rotacją pracowników, będącą ważnym czynnikiem ryzyka biznesowego. Według szacunków portalu strefabiznesu.pl w najbardziej dynamicznych sektorach, takich jak IT czy SSC/BPO rotacja w 2022 roku będzie sięgać 25 proc. To znaczy, że firmy mogą stracić nawet co czwartego pracownika.",
   "metadata": {
    "cell_id": "f11977b69bcd4c92ad22186caeaf511e",
    "tags": [],
    "is_collapsed": false,
    "owner_user_id": "0942fe7c-d564-4958-aa37-7e4a0f05d61c",
    "deepnote_cell_type": "text-cell-p"
   }
  },
  {
   "cell_type": "code",
   "metadata": {
    "id": "8874b9b9",
    "cell_id": "00001-a3ba12a2-3810-454d-94f3-b0ac67200be5",
    "deepnote_to_be_reexecuted": false,
    "source_hash": "eeadbf91",
    "execution_start": 1649274011911,
    "execution_millis": 3176,
    "deepnote_cell_type": "code",
    "deepnote_cell_height": 261
   },
   "source": "import numpy as np\nimport pandas as pd\nimport matplotlib\nfrom matplotlib import pyplot as plt\n%matplotlib inline\nfrom scipy import stats\nimport seaborn as sns\n\nmatplotlib.rcParams['figure.figsize'] = [15, 9]\n\npd.options.mode.chained_assignment = None  # default='warn'",
   "outputs": [],
   "execution_count": null
  },
  {
   "cell_type": "code",
   "metadata": {
    "colab": {
     "base_uri": "https://localhost:8080/"
    },
    "id": "raETKNRH3B1L",
    "outputId": "267b8e71-3881-444e-d30c-d1c68f16527e",
    "cell_id": "00002-7942e668-db9d-466d-8db3-aea5f3f14502",
    "deepnote_to_be_reexecuted": false,
    "source_hash": "5274cba9",
    "execution_start": 1649274015096,
    "execution_millis": 8,
    "deepnote_cell_type": "code",
    "deepnote_cell_height": 99
   },
   "source": "#from google.colab import drive\n#drive.mount('/content/drive')",
   "outputs": [],
   "execution_count": null
  },
  {
   "cell_type": "code",
   "metadata": {
    "id": "2944da95",
    "cell_id": "00003-f776b67e-0ca8-4f3a-981a-7f08ca5926ca",
    "deepnote_to_be_reexecuted": false,
    "source_hash": "d09cc96a",
    "execution_start": 1649274043566,
    "execution_millis": 62,
    "deepnote_cell_type": "code",
    "deepnote_cell_height": 99
   },
   "source": "df = pd.read_csv(\"Attrition_dataset.csv\", sep = \";\")\ndf_cities = pd.read_csv(\"Cities_map.csv\", sep = \";\")",
   "outputs": [],
   "execution_count": null
  },
  {
   "cell_type": "code",
   "metadata": {
    "colab": {
     "base_uri": "https://localhost:8080/",
     "height": 206
    },
    "id": "4fd09553",
    "outputId": "10e7b008-4f7f-45a9-9980-5a9e0047e845",
    "cell_id": "00004-2ab286d8-bc3a-4ade-a90f-fc8b8d557b82",
    "deepnote_to_be_reexecuted": false,
    "source_hash": "f804c160",
    "execution_start": 1649274111589,
    "execution_millis": 449,
    "deepnote_table_state": {
     "pageSize": 10,
     "pageIndex": 1881,
     "filters": [],
     "sortBy": []
    },
    "deepnote_table_loading": false,
    "deepnote_table_invalid": true,
    "deepnote_cell_type": "code",
    "deepnote_cell_height": 660,
    "deepnote_output_heights": [
     177
    ]
   },
   "source": "df",
   "outputs": [
    {
     "output_type": "execute_result",
     "execution_count": 14,
     "data": {
      "application/vnd.deepnote.dataframe.v3+json": {
       "column_count": 13,
       "row_count": 19190,
       "columns": [
        {
         "name": "Emp_ID",
         "dtype": "int64",
         "stats": {
          "unique_count": 2381,
          "nan_count": 0,
          "min": "1",
          "max": "2788",
          "histogram": [
           {
            "bin_start": 1,
            "bin_end": 279.7,
            "count": 1828
           },
           {
            "bin_start": 279.7,
            "bin_end": 558.4,
            "count": 1947
           },
           {
            "bin_start": 558.4,
            "bin_end": 837.0999999999999,
            "count": 1850
           },
           {
            "bin_start": 837.0999999999999,
            "bin_end": 1115.8,
            "count": 1920
           },
           {
            "bin_start": 1115.8,
            "bin_end": 1394.5,
            "count": 1901
           },
           {
            "bin_start": 1394.5,
            "bin_end": 1673.1999999999998,
            "count": 1883
           },
           {
            "bin_start": 1673.1999999999998,
            "bin_end": 1951.8999999999999,
            "count": 1848
           },
           {
            "bin_start": 1951.8999999999999,
            "bin_end": 2230.6,
            "count": 1990
           },
           {
            "bin_start": 2230.6,
            "bin_end": 2509.2999999999997,
            "count": 1922
           },
           {
            "bin_start": 2509.2999999999997,
            "bin_end": 2788,
            "count": 2101
           }
          ]
         }
        },
        {
         "name": "MMM.YY",
         "dtype": "object",
         "stats": {
          "unique_count": 24,
          "nan_count": 0,
          "categories": [
           {
            "name": "01.01.2016",
            "count": 1025
           },
           {
            "name": "01.02.2016",
            "count": 949
           },
           {
            "name": "22 others",
            "count": 17216
           }
          ]
         }
        },
        {
         "name": "Age",
         "dtype": "int64",
         "stats": {
          "unique_count": 36,
          "nan_count": 0,
          "min": "21",
          "max": "58",
          "histogram": [
           {
            "bin_start": 21,
            "bin_end": 24.7,
            "count": 606
           },
           {
            "bin_start": 24.7,
            "bin_end": 28.4,
            "count": 2567
           },
           {
            "bin_start": 28.4,
            "bin_end": 32.1,
            "count": 4420
           },
           {
            "bin_start": 32.1,
            "bin_end": 35.8,
            "count": 3645
           },
           {
            "bin_start": 35.8,
            "bin_end": 39.5,
            "count": 3798
           },
           {
            "bin_start": 39.5,
            "bin_end": 43.2,
            "count": 2250
           },
           {
            "bin_start": 43.2,
            "bin_end": 46.900000000000006,
            "count": 1134
           },
           {
            "bin_start": 46.900000000000006,
            "bin_end": 50.6,
            "count": 540
           },
           {
            "bin_start": 50.6,
            "bin_end": 54.300000000000004,
            "count": 202
           },
           {
            "bin_start": 54.300000000000004,
            "bin_end": 58,
            "count": 28
           }
          ]
         }
        },
        {
         "name": "Salary",
         "dtype": "object",
         "stats": {
          "unique_count": 2383,
          "nan_count": 0,
          "categories": [
           {
            "name": "48747,00 USD",
            "count": 57
           },
           {
            "name": "109652,00 USD",
            "count": 32
           },
           {
            "name": "2381 others",
            "count": 19101
           }
          ]
         }
        },
        {
         "name": "LastWorkingDate",
         "dtype": "object",
         "stats": {
          "unique_count": 493,
          "nan_count": 17562,
          "categories": [
           {
            "name": "29.07.2017",
            "count": 71
           },
           {
            "name": "492 others",
            "count": 1557
           },
           {
            "name": "Missing",
            "count": 17562
           }
          ]
         }
        },
        {
         "name": "Designation",
         "dtype": "int64"
        },
        {
         "name": "Total.Business.Value",
         "dtype": "int64"
        },
        {
         "name": "Quarterly.Rating",
         "dtype": "int64"
        },
        {
         "name": "Gender",
         "dtype": "object"
        },
        {
         "name": "City",
         "dtype": "object"
        },
        {
         "name": "Education_Level",
         "dtype": "object"
        },
        {
         "name": "Dateofjoining",
         "dtype": "object"
        },
        {
         "name": "Joining.Designation",
         "dtype": "int64"
        },
        {
         "name": "_deepnote_index_column",
         "dtype": "int64"
        }
       ],
       "rows": [
        {
         "Emp_ID": 2740,
         "MMM.YY": "01.06.2017",
         "Age": 46,
         "Salary": "35598,00 USD",
         "LastWorkingDate": "nan",
         "Designation": 2,
         "Total.Business.Value": 479280,
         "Quarterly.Rating": 3,
         "Gender": "Male",
         "City": "C22",
         "Education_Level": "MASTER",
         "Dateofjoining": "19.07.2012",
         "Joining.Designation": 1,
         "_deepnote_index_column": 18810
        },
        {
         "Emp_ID": 2740,
         "MMM.YY": "01.07.2017",
         "Age": 46,
         "Salary": "35598,00 USD",
         "LastWorkingDate": "nan",
         "Designation": 2,
         "Total.Business.Value": 823080,
         "Quarterly.Rating": 3,
         "Gender": "Male",
         "City": "C22",
         "Education_Level": "MASTER",
         "Dateofjoining": "19.07.2012",
         "Joining.Designation": 1,
         "_deepnote_index_column": 18811
        },
        {
         "Emp_ID": 2740,
         "MMM.YY": "01.08.2017",
         "Age": 47,
         "Salary": "35598,00 USD",
         "LastWorkingDate": "nan",
         "Designation": 2,
         "Total.Business.Value": 691450,
         "Quarterly.Rating": 3,
         "Gender": "Male",
         "City": "C22",
         "Education_Level": "MASTER",
         "Dateofjoining": "19.07.2012",
         "Joining.Designation": 1,
         "_deepnote_index_column": 18812
        },
        {
         "Emp_ID": 2740,
         "MMM.YY": "01.09.2017",
         "Age": 47,
         "Salary": "35598,00 USD",
         "LastWorkingDate": "nan",
         "Designation": 2,
         "Total.Business.Value": 1201420,
         "Quarterly.Rating": 3,
         "Gender": "Male",
         "City": "C22",
         "Education_Level": "MASTER",
         "Dateofjoining": "19.07.2012",
         "Joining.Designation": 1,
         "_deepnote_index_column": 18813
        },
        {
         "Emp_ID": 2740,
         "MMM.YY": "01.10.2017",
         "Age": 47,
         "Salary": "35598,00 USD",
         "LastWorkingDate": "nan",
         "Designation": 2,
         "Total.Business.Value": 757940,
         "Quarterly.Rating": 4,
         "Gender": "Male",
         "City": "C22",
         "Education_Level": "MASTER",
         "Dateofjoining": "19.07.2012",
         "Joining.Designation": 1,
         "_deepnote_index_column": 18814
        },
        {
         "Emp_ID": 2740,
         "MMM.YY": "01.11.2017",
         "Age": 47,
         "Salary": "35598,00 USD",
         "LastWorkingDate": "nan",
         "Designation": 2,
         "Total.Business.Value": 689020,
         "Quarterly.Rating": 4,
         "Gender": "Male",
         "City": "C22",
         "Education_Level": "MASTER",
         "Dateofjoining": "19.07.2012",
         "Joining.Designation": 1,
         "_deepnote_index_column": 18815
        },
        {
         "Emp_ID": 2740,
         "MMM.YY": "01.12.2017",
         "Age": 47,
         "Salary": "35598,00 USD",
         "LastWorkingDate": "nan",
         "Designation": 2,
         "Total.Business.Value": 1147120,
         "Quarterly.Rating": 4,
         "Gender": "Male",
         "City": "C22",
         "Education_Level": "MASTER",
         "Dateofjoining": "19.07.2012",
         "Joining.Designation": 1,
         "_deepnote_index_column": 18816
        },
        {
         "Emp_ID": 2742,
         "MMM.YY": "01.07.2016",
         "Age": 28,
         "Salary": "22217,00 USD",
         "LastWorkingDate": "nan",
         "Designation": 1,
         "Total.Business.Value": 0,
         "Quarterly.Rating": 2,
         "Gender": "Male",
         "City": "C1",
         "Education_Level": "Bachelor",
         "Dateofjoining": "02.07.2016",
         "Joining.Designation": 1,
         "_deepnote_index_column": 18817
        },
        {
         "Emp_ID": 2742,
         "MMM.YY": "01.08.2016",
         "Age": 28,
         "Salary": "22217,00 USD",
         "LastWorkingDate": "nan",
         "Designation": 1,
         "Total.Business.Value": 511190,
         "Quarterly.Rating": 2,
         "Gender": "Male",
         "City": "C1",
         "Education_Level": "Bachelor",
         "Dateofjoining": "02.07.2016",
         "Joining.Designation": 1,
         "_deepnote_index_column": 18818
        },
        {
         "Emp_ID": 2742,
         "MMM.YY": "01.09.2016",
         "Age": 28,
         "Salary": "22217,00 USD",
         "LastWorkingDate": "nan",
         "Designation": 1,
         "Total.Business.Value": 377650,
         "Quarterly.Rating": 2,
         "Gender": "Male",
         "City": "C1",
         "Education_Level": "Bachelor",
         "Dateofjoining": "02.07.2016",
         "Joining.Designation": 1,
         "_deepnote_index_column": 18819
        }
       ]
      },
      "text/plain": "       Emp_ID      MMM.YY  Age         Salary LastWorkingDate  Designation  \\\n0           1  01.01.2016   28   57387,00 USD             NaN            1   \n1           1  01.02.2016   28   57387,00 USD             NaN            1   \n2           1  01.03.2016   28   57387,00 USD      11.03.2016            1   \n3           2  01.11.2017   31   67016,00 USD             NaN            2   \n4           2  01.12.2017   31   67016,00 USD             NaN            2   \n...       ...         ...  ...            ...             ...          ...   \n19185    2044  01.03.2017   34   38619,00 USD      23.03.2017            2   \n19186    2651  01.08.2017   34   62292,00 USD      29.07.2017            2   \n19187    1864  01.01.2016   32   85688,00 USD             NaN            3   \n19188    2422  01.05.2016   47  111507,00 USD             NaN            4   \n19189    2598  01.10.2016   36  102822,00 USD             NaN            3   \n\n       Total.Business.Value  Quarterly.Rating  Gender City Education_Level  \\\n0                   2381060                 2    Male  C23          MASTER   \n1                   -665480                 2    Male  C23          MASTER   \n2                         0                 2    Male  C23          MASTER   \n3                         0                 1    Male   C7          Master   \n4                         0                 1    Male   C7          Master   \n...                     ...               ...     ...  ...             ...   \n19185                     0                 1    Male  C20          Colege   \n19186                180000                 1    Male  C11          Master   \n19187               3414220                 3  Female  C29        Bachelor   \n19188                202400                 2    Male   C4      Bachelor's   \n19189                     0                 1  Female  C20          Master   \n\n      Dateofjoining  Joining.Designation  \n0        24.12.2015                    1  \n1        24.12.2015                    1  \n2        24.12.2015                    1  \n3        06.11.2017                    2  \n4        06.11.2017                    2  \n...             ...                  ...  \n19185    15.11.2016                    2  \n19186    27.06.2016                    2  \n19187    11.08.2011                    1  \n19188    26.08.2011                    2  \n19189    20.09.2016                    3  \n\n[19190 rows x 13 columns]",
      "text/html": "<div>\n<style scoped>\n    .dataframe tbody tr th:only-of-type {\n        vertical-align: middle;\n    }\n\n    .dataframe tbody tr th {\n        vertical-align: top;\n    }\n\n    .dataframe thead th {\n        text-align: right;\n    }\n</style>\n<table border=\"1\" class=\"dataframe\">\n  <thead>\n    <tr style=\"text-align: right;\">\n      <th></th>\n      <th>Emp_ID</th>\n      <th>MMM.YY</th>\n      <th>Age</th>\n      <th>Salary</th>\n      <th>LastWorkingDate</th>\n      <th>Designation</th>\n      <th>Total.Business.Value</th>\n      <th>Quarterly.Rating</th>\n      <th>Gender</th>\n      <th>City</th>\n      <th>Education_Level</th>\n      <th>Dateofjoining</th>\n      <th>Joining.Designation</th>\n    </tr>\n  </thead>\n  <tbody>\n    <tr>\n      <th>0</th>\n      <td>1</td>\n      <td>01.01.2016</td>\n      <td>28</td>\n      <td>57387,00 USD</td>\n      <td>NaN</td>\n      <td>1</td>\n      <td>2381060</td>\n      <td>2</td>\n      <td>Male</td>\n      <td>C23</td>\n      <td>MASTER</td>\n      <td>24.12.2015</td>\n      <td>1</td>\n    </tr>\n    <tr>\n      <th>1</th>\n      <td>1</td>\n      <td>01.02.2016</td>\n      <td>28</td>\n      <td>57387,00 USD</td>\n      <td>NaN</td>\n      <td>1</td>\n      <td>-665480</td>\n      <td>2</td>\n      <td>Male</td>\n      <td>C23</td>\n      <td>MASTER</td>\n      <td>24.12.2015</td>\n      <td>1</td>\n    </tr>\n    <tr>\n      <th>2</th>\n      <td>1</td>\n      <td>01.03.2016</td>\n      <td>28</td>\n      <td>57387,00 USD</td>\n      <td>11.03.2016</td>\n      <td>1</td>\n      <td>0</td>\n      <td>2</td>\n      <td>Male</td>\n      <td>C23</td>\n      <td>MASTER</td>\n      <td>24.12.2015</td>\n      <td>1</td>\n    </tr>\n    <tr>\n      <th>3</th>\n      <td>2</td>\n      <td>01.11.2017</td>\n      <td>31</td>\n      <td>67016,00 USD</td>\n      <td>NaN</td>\n      <td>2</td>\n      <td>0</td>\n      <td>1</td>\n      <td>Male</td>\n      <td>C7</td>\n      <td>Master</td>\n      <td>06.11.2017</td>\n      <td>2</td>\n    </tr>\n    <tr>\n      <th>4</th>\n      <td>2</td>\n      <td>01.12.2017</td>\n      <td>31</td>\n      <td>67016,00 USD</td>\n      <td>NaN</td>\n      <td>2</td>\n      <td>0</td>\n      <td>1</td>\n      <td>Male</td>\n      <td>C7</td>\n      <td>Master</td>\n      <td>06.11.2017</td>\n      <td>2</td>\n    </tr>\n    <tr>\n      <th>...</th>\n      <td>...</td>\n      <td>...</td>\n      <td>...</td>\n      <td>...</td>\n      <td>...</td>\n      <td>...</td>\n      <td>...</td>\n      <td>...</td>\n      <td>...</td>\n      <td>...</td>\n      <td>...</td>\n      <td>...</td>\n      <td>...</td>\n    </tr>\n    <tr>\n      <th>19185</th>\n      <td>2044</td>\n      <td>01.03.2017</td>\n      <td>34</td>\n      <td>38619,00 USD</td>\n      <td>23.03.2017</td>\n      <td>2</td>\n      <td>0</td>\n      <td>1</td>\n      <td>Male</td>\n      <td>C20</td>\n      <td>Colege</td>\n      <td>15.11.2016</td>\n      <td>2</td>\n    </tr>\n    <tr>\n      <th>19186</th>\n      <td>2651</td>\n      <td>01.08.2017</td>\n      <td>34</td>\n      <td>62292,00 USD</td>\n      <td>29.07.2017</td>\n      <td>2</td>\n      <td>180000</td>\n      <td>1</td>\n      <td>Male</td>\n      <td>C11</td>\n      <td>Master</td>\n      <td>27.06.2016</td>\n      <td>2</td>\n    </tr>\n    <tr>\n      <th>19187</th>\n      <td>1864</td>\n      <td>01.01.2016</td>\n      <td>32</td>\n      <td>85688,00 USD</td>\n      <td>NaN</td>\n      <td>3</td>\n      <td>3414220</td>\n      <td>3</td>\n      <td>Female</td>\n      <td>C29</td>\n      <td>Bachelor</td>\n      <td>11.08.2011</td>\n      <td>1</td>\n    </tr>\n    <tr>\n      <th>19188</th>\n      <td>2422</td>\n      <td>01.05.2016</td>\n      <td>47</td>\n      <td>111507,00 USD</td>\n      <td>NaN</td>\n      <td>4</td>\n      <td>202400</td>\n      <td>2</td>\n      <td>Male</td>\n      <td>C4</td>\n      <td>Bachelor's</td>\n      <td>26.08.2011</td>\n      <td>2</td>\n    </tr>\n    <tr>\n      <th>19189</th>\n      <td>2598</td>\n      <td>01.10.2016</td>\n      <td>36</td>\n      <td>102822,00 USD</td>\n      <td>NaN</td>\n      <td>3</td>\n      <td>0</td>\n      <td>1</td>\n      <td>Female</td>\n      <td>C20</td>\n      <td>Master</td>\n      <td>20.09.2016</td>\n      <td>3</td>\n    </tr>\n  </tbody>\n</table>\n<p>19190 rows × 13 columns</p>\n</div>"
     },
     "metadata": {}
    }
   ],
   "execution_count": null
  },
  {
   "cell_type": "code",
   "metadata": {
    "colab": {
     "base_uri": "https://localhost:8080/",
     "height": 206
    },
    "id": "8069cbd4",
    "outputId": "e81e1169-1b71-4779-9dee-c9e6f1a9205c",
    "cell_id": "00005-2139c5a3-7cd9-4d6a-89a5-412335a5eb5f",
    "deepnote_to_be_reexecuted": false,
    "source_hash": "d7192e7d",
    "execution_start": 1649274591513,
    "execution_millis": 117,
    "owner_user_id": "0921527d-3c46-4fae-937a-d104a4143692",
    "deepnote_table_state": {
     "pageSize": 10,
     "pageIndex": 38,
     "filters": [],
     "sortBy": []
    },
    "deepnote_table_loading": false,
    "deepnote_table_invalid": true,
    "deepnote_cell_type": "code",
    "deepnote_cell_height": 660,
    "deepnote_output_heights": [
     177
    ]
   },
   "source": "df[df.LastWorkingDate.notna()]",
   "outputs": [
    {
     "output_type": "execute_result",
     "execution_count": 15,
     "data": {
      "application/vnd.deepnote.dataframe.v3+json": {
       "column_count": 13,
       "row_count": 1628,
       "columns": [
        {
         "name": "Emp_ID",
         "dtype": "int64",
         "stats": {
          "unique_count": 1616,
          "nan_count": 0,
          "min": "1",
          "max": "2787",
          "histogram": [
           {
            "bin_start": 1,
            "bin_end": 279.6,
            "count": 165
           },
           {
            "bin_start": 279.6,
            "bin_end": 558.2,
            "count": 154
           },
           {
            "bin_start": 558.2,
            "bin_end": 836.8000000000001,
            "count": 143
           },
           {
            "bin_start": 836.8000000000001,
            "bin_end": 1115.4,
            "count": 169
           },
           {
            "bin_start": 1115.4,
            "bin_end": 1394,
            "count": 156
           },
           {
            "bin_start": 1394,
            "bin_end": 1672.6000000000001,
            "count": 164
           },
           {
            "bin_start": 1672.6000000000001,
            "bin_end": 1951.2000000000003,
            "count": 171
           },
           {
            "bin_start": 1951.2000000000003,
            "bin_end": 2229.8,
            "count": 169
           },
           {
            "bin_start": 2229.8,
            "bin_end": 2508.4,
            "count": 167
           },
           {
            "bin_start": 2508.4,
            "bin_end": 2787,
            "count": 170
           }
          ]
         }
        },
        {
         "name": "Dateofeval",
         "dtype": "datetime64[ns]",
         "stats": {
          "unique_count": 24,
          "nan_count": 0,
          "min": "2016-01-01 00:00:00",
          "max": "2017-12-01 00:00:00",
          "histogram": [
           {
            "bin_start": 1451606400000000000,
            "bin_end": 1457654400000000000,
            "count": 234
           },
           {
            "bin_start": 1457654400000000000,
            "bin_end": 1463702400000000000,
            "count": 149
           },
           {
            "bin_start": 1463702400000000000,
            "bin_end": 1469750400000000000,
            "count": 114
           },
           {
            "bin_start": 1469750400000000000,
            "bin_end": 1475798400000000000,
            "count": 204
           },
           {
            "bin_start": 1475798400000000000,
            "bin_end": 1481846400000000000,
            "count": 131
           },
           {
            "bin_start": 1481846400000000000,
            "bin_end": 1487894400000000000,
            "count": 141
           },
           {
            "bin_start": 1487894400000000000,
            "bin_end": 1493942400000000000,
            "count": 169
           },
           {
            "bin_start": 1493942400000000000,
            "bin_end": 1499990400000000000,
            "count": 150
           },
           {
            "bin_start": 1499990400000000000,
            "bin_end": 1506038400000000000,
            "count": 132
           },
           {
            "bin_start": 1506038400000000000,
            "bin_end": 1512086400000000000,
            "count": 204
           }
          ]
         }
        },
        {
         "name": "Age",
         "dtype": "int64",
         "stats": {
          "unique_count": 34,
          "nan_count": 0,
          "min": "21",
          "max": "58",
          "histogram": [
           {
            "bin_start": 21,
            "bin_end": 24.7,
            "count": 78
           },
           {
            "bin_start": 24.7,
            "bin_end": 28.4,
            "count": 286
           },
           {
            "bin_start": 28.4,
            "bin_end": 32.1,
            "count": 435
           },
           {
            "bin_start": 32.1,
            "bin_end": 35.8,
            "count": 303
           },
           {
            "bin_start": 35.8,
            "bin_end": 39.5,
            "count": 276
           },
           {
            "bin_start": 39.5,
            "bin_end": 43.2,
            "count": 142
           },
           {
            "bin_start": 43.2,
            "bin_end": 46.900000000000006,
            "count": 68
           },
           {
            "bin_start": 46.900000000000006,
            "bin_end": 50.6,
            "count": 26
           },
           {
            "bin_start": 50.6,
            "bin_end": 54.300000000000004,
            "count": 13
           },
           {
            "bin_start": 54.300000000000004,
            "bin_end": 58,
            "count": 1
           }
          ]
         }
        },
        {
         "name": "Salary",
         "dtype": "object",
         "stats": {
          "unique_count": 1591,
          "nan_count": 0,
          "categories": [
           {
            "name": "52963,00 USD",
            "count": 2
           },
           {
            "name": "33901,00 USD",
            "count": 2
           },
           {
            "name": "1589 others",
            "count": 1624
           }
          ]
         }
        },
        {
         "name": "LastWorkingDate",
         "dtype": "object",
         "stats": {
          "unique_count": 493,
          "nan_count": 0,
          "categories": [
           {
            "name": "29.07.2017",
            "count": 71
           },
           {
            "name": "22.09.2016",
            "count": 26
           },
           {
            "name": "491 others",
            "count": 1531
           }
          ]
         }
        },
        {
         "name": "Designation",
         "dtype": "int64",
         "stats": {
          "unique_count": 5,
          "nan_count": 0,
          "min": "1",
          "max": "5",
          "histogram": [
           {
            "bin_start": 1,
            "bin_end": 1.4,
            "count": 600
           },
           {
            "bin_start": 1.4,
            "bin_end": 1.8,
            "count": 0
           },
           {
            "bin_start": 1.8,
            "bin_end": 2.2,
            "count": 606
           },
           {
            "bin_start": 2.2,
            "bin_end": 2.6,
            "count": 0
           },
           {
            "bin_start": 2.6,
            "bin_end": 3,
            "count": 0
           },
           {
            "bin_start": 3,
            "bin_end": 3.4000000000000004,
            "count": 337
           },
           {
            "bin_start": 3.4000000000000004,
            "bin_end": 3.8000000000000003,
            "count": 0
           },
           {
            "bin_start": 3.8000000000000003,
            "bin_end": 4.2,
            "count": 72
           },
           {
            "bin_start": 4.2,
            "bin_end": 4.6,
            "count": 0
           },
           {
            "bin_start": 4.6,
            "bin_end": 5,
            "count": 13
           }
          ]
         }
        },
        {
         "name": "TBV",
         "dtype": "int64",
         "stats": {
          "unique_count": 205,
          "nan_count": 0,
          "min": "-990000",
          "max": "2549140",
          "histogram": [
           {
            "bin_start": -990000,
            "bin_end": -636086,
            "count": 1
           },
           {
            "bin_start": -636086,
            "bin_end": -282172,
            "count": 14
           },
           {
            "bin_start": -282172,
            "bin_end": 71742,
            "count": 1420
           },
           {
            "bin_start": 71742,
            "bin_end": 425656,
            "count": 146
           },
           {
            "bin_start": 425656,
            "bin_end": 779570,
            "count": 24
           },
           {
            "bin_start": 779570,
            "bin_end": 1133484,
            "count": 14
           },
           {
            "bin_start": 1133484,
            "bin_end": 1487398,
            "count": 4
           },
           {
            "bin_start": 1487398,
            "bin_end": 1841312,
            "count": 1
           },
           {
            "bin_start": 1841312,
            "bin_end": 2195226,
            "count": 2
           },
           {
            "bin_start": 2195226,
            "bin_end": 2549140,
            "count": 2
           }
          ]
         }
        },
        {
         "name": "Rating",
         "dtype": "int64",
         "stats": {
          "unique_count": 4,
          "nan_count": 0,
          "min": "1",
          "max": "4",
          "histogram": [
           {
            "bin_start": 1,
            "bin_end": 1.3,
            "count": 1442
           },
           {
            "bin_start": 1.3,
            "bin_end": 1.6,
            "count": 0
           },
           {
            "bin_start": 1.6,
            "bin_end": 1.9,
            "count": 0
           },
           {
            "bin_start": 1.9,
            "bin_end": 2.2,
            "count": 147
           },
           {
            "bin_start": 2.2,
            "bin_end": 2.5,
            "count": 0
           },
           {
            "bin_start": 2.5,
            "bin_end": 2.8,
            "count": 0
           },
           {
            "bin_start": 2.8,
            "bin_end": 3.1,
            "count": 29
           },
           {
            "bin_start": 3.1,
            "bin_end": 3.4,
            "count": 0
           },
           {
            "bin_start": 3.4,
            "bin_end": 3.6999999999999997,
            "count": 0
           },
           {
            "bin_start": 3.6999999999999997,
            "bin_end": 4,
            "count": 10
           }
          ]
         }
        },
        {
         "name": "Gender",
         "dtype": "object",
         "stats": {
          "unique_count": 2,
          "nan_count": 0,
          "categories": [
           {
            "name": "Male",
            "count": 955
           },
           {
            "name": "Female",
            "count": 673
           }
          ]
         }
        },
        {
         "name": "City",
         "dtype": "object",
         "stats": {
          "unique_count": 29,
          "nan_count": 0,
          "categories": [
           {
            "name": "C20",
            "count": 112
           },
           {
            "name": "C15",
            "count": 70
           },
           {
            "name": "27 others",
            "count": 1446
           }
          ]
         }
        },
        {
         "name": "Education_Level",
         "dtype": "object",
         "stats": {
          "unique_count": 3,
          "nan_count": 0,
          "categories": [
           {
            "name": "Master",
            "count": 552
           },
           {
            "name": "College",
            "count": 549
           },
           {
            "name": "Bachelor",
            "count": 527
           }
          ]
         }
        },
        {
         "name": "Dateofjoining",
         "dtype": "object",
         "stats": {
          "unique_count": 698,
          "nan_count": 0,
          "categories": [
           {
            "name": "31.10.2016",
            "count": 16
           },
           {
            "name": "30.11.2015",
            "count": 13
           },
           {
            "name": "696 others",
            "count": 1599
           }
          ]
         }
        },
        {
         "name": "Join_Designation",
         "dtype": "int64",
         "stats": {
          "unique_count": 5,
          "nan_count": 0,
          "min": "1",
          "max": "5",
          "histogram": [
           {
            "bin_start": 1,
            "bin_end": 1.4,
            "count": 756
           },
           {
            "bin_start": 1.4,
            "bin_end": 1.8,
            "count": 0
           },
           {
            "bin_start": 1.8,
            "bin_end": 2.2,
            "count": 567
           },
           {
            "bin_start": 2.2,
            "bin_end": 2.6,
            "count": 0
           },
           {
            "bin_start": 2.6,
            "bin_end": 3,
            "count": 0
           },
           {
            "bin_start": 3,
            "bin_end": 3.4000000000000004,
            "count": 274
           },
           {
            "bin_start": 3.4000000000000004,
            "bin_end": 3.8000000000000003,
            "count": 0
           },
           {
            "bin_start": 3.8000000000000003,
            "bin_end": 4.2,
            "count": 23
           },
           {
            "bin_start": 4.2,
            "bin_end": 4.6,
            "count": 0
           },
           {
            "bin_start": 4.6,
            "bin_end": 5,
            "count": 8
           }
          ]
         }
        },
        {
         "name": "_deepnote_index_column",
         "dtype": "int64"
        }
       ],
       "rows": [
        {
         "Emp_ID": 636,
         "Dateofeval": "2016-06-01T00:00:00.000000",
         "Age": 44,
         "Salary": "95388,00 USD",
         "LastWorkingDate": "25.06.2016",
         "Designation": 4,
         "TBV": 0,
         "Rating": 1,
         "Gender": "Male",
         "City": "C20",
         "Education_Level": "College",
         "Dateofjoining": "01.10.2014",
         "Join_Designation": 4,
         "_deepnote_index_column": 4342
        },
        {
         "Emp_ID": 640,
         "Dateofeval": "2017-07-01T00:00:00.000000",
         "Age": 27,
         "Salary": "105931,00 USD",
         "LastWorkingDate": "25.07.2017",
         "Designation": 3,
         "TBV": 0,
         "Rating": 1,
         "Gender": "Female",
         "City": "C8",
         "Education_Level": "Bachelor",
         "Dateofjoining": "07.12.2016",
         "Join_Designation": 3,
         "_deepnote_index_column": 4385
        },
        {
         "Emp_ID": 645,
         "Dateofeval": "2016-08-01T00:00:00.000000",
         "Age": 28,
         "Salary": "110445,00 USD",
         "LastWorkingDate": "01.08.2016",
         "Designation": 4,
         "TBV": 0,
         "Rating": 1,
         "Gender": "Female",
         "City": "C8",
         "Education_Level": "Master",
         "Dateofjoining": "30.03.2016",
         "Join_Designation": 2,
         "_deepnote_index_column": 4410
        },
        {
         "Emp_ID": 647,
         "Dateofeval": "2016-09-01T00:00:00.000000",
         "Age": 34,
         "Salary": "57888,00 USD",
         "LastWorkingDate": "15.09.2016",
         "Designation": 1,
         "TBV": 0,
         "Rating": 1,
         "Gender": "Female",
         "City": "C10",
         "Education_Level": "Master",
         "Dateofjoining": "01.08.2016",
         "Join_Designation": 1,
         "_deepnote_index_column": 4415
        },
        {
         "Emp_ID": 649,
         "Dateofeval": "2016-09-01T00:00:00.000000",
         "Age": 33,
         "Salary": "35584,00 USD",
         "LastWorkingDate": "09.09.2016",
         "Designation": 1,
         "TBV": 0,
         "Rating": 1,
         "Gender": "Male",
         "City": "C14",
         "Education_Level": "Bachelor",
         "Dateofjoining": "01.06.2016",
         "Join_Designation": 1,
         "_deepnote_index_column": 4425
        },
        {
         "Emp_ID": 651,
         "Dateofeval": "2017-07-01T00:00:00.000000",
         "Age": 34,
         "Salary": "41298,00 USD",
         "LastWorkingDate": "24.07.2017",
         "Designation": 3,
         "TBV": 0,
         "Rating": 1,
         "Gender": "Female",
         "City": "C12",
         "Education_Level": "Bachelor",
         "Dateofjoining": "05.12.2016",
         "Join_Designation": 3,
         "_deepnote_index_column": 4435
        },
        {
         "Emp_ID": 652,
         "Dateofeval": "2016-07-01T00:00:00.000000",
         "Age": 34,
         "Salary": "112322,00 USD",
         "LastWorkingDate": "18.07.2016",
         "Designation": 4,
         "TBV": 0,
         "Rating": 1,
         "Gender": "Male",
         "City": "C20",
         "Education_Level": "Bachelor",
         "Dateofjoining": "05.11.2015",
         "Join_Designation": 4,
         "_deepnote_index_column": 4442
        },
        {
         "Emp_ID": 653,
         "Dateofeval": "2016-04-01T00:00:00.000000",
         "Age": 44,
         "Salary": "64702,00 USD",
         "LastWorkingDate": "30.03.2016",
         "Designation": 2,
         "TBV": 0,
         "Rating": 1,
         "Gender": "Female",
         "City": "C1",
         "Education_Level": "College",
         "Dateofjoining": "12.09.2015",
         "Join_Designation": 2,
         "_deepnote_index_column": 4446
        },
        {
         "Emp_ID": 654,
         "Dateofeval": "2017-11-01T00:00:00.000000",
         "Age": 22,
         "Salary": "36116,00 USD",
         "LastWorkingDate": "22.11.2017",
         "Designation": 2,
         "TBV": 0,
         "Rating": 1,
         "Gender": "Male",
         "City": "C4",
         "Education_Level": "College",
         "Dateofjoining": "10.10.2017",
         "Join_Designation": 2,
         "_deepnote_index_column": 4448
        },
        {
         "Emp_ID": 655,
         "Dateofeval": "2016-05-01T00:00:00.000000",
         "Age": 35,
         "Salary": "40926,00 USD",
         "LastWorkingDate": "03.05.2016",
         "Designation": 2,
         "TBV": 0,
         "Rating": 1,
         "Gender": "Male",
         "City": "C13",
         "Education_Level": "College",
         "Dateofjoining": "05.01.2016",
         "Join_Designation": 2,
         "_deepnote_index_column": 4453
        }
       ]
      },
      "text/plain": "       Emp_ID Dateofeval  Age         Salary LastWorkingDate  Designation  \\\n2           1 2016-03-01   28   57387,00 USD      11.03.2016            1   \n9           4 2017-04-01   43   65603,00 USD      27.04.2017            2   \n12          5 2016-03-01   29   46368,00 USD      07.03.2016            1   \n20          8 2017-11-01   34   70656,00 USD      15.11.2017            3   \n27         12 2016-12-01   35   28116,00 USD      21.12.2016            1   \n...       ...        ...  ...            ...             ...          ...   \n19161    1803 2016-07-01   34   52914,00 USD      20.07.2016            1   \n19167    1719 2017-02-01   46   44497,00 USD      17.02.2017            1   \n19168     645 2016-08-01   28  110445,00 USD      01.08.2016            4   \n19185    2044 2017-03-01   34   38619,00 USD      23.03.2017            2   \n19186    2651 2017-08-01   34   62292,00 USD      29.07.2017            2   \n\n          TBV  Rating  Gender City Education_Level Dateofjoining  \\\n2           0       2    Male  C23          Master    24.12.2015   \n9           0       1    Male  C13          Master    07.12.2016   \n12          0       1    Male   C9         College    09.01.2016   \n20          0       1    Male   C2         College    19.09.2017   \n27          0       1    Male  C23          Master    29.06.2016   \n...       ...     ...     ...  ...             ...           ...   \n19161       0       1    Male   C3          Master    09.05.2015   \n19167  311670       2  Female   C3         College    01.10.2015   \n19168       0       1  Female   C8          Master    30.03.2016   \n19185       0       1    Male  C20         College    15.11.2016   \n19186  180000       1    Male  C11          Master    27.06.2016   \n\n       Join_Designation  \n2                     1  \n9                     2  \n12                    1  \n20                    3  \n27                    1  \n...                 ...  \n19161                 1  \n19167                 1  \n19168                 2  \n19185                 2  \n19186                 2  \n\n[1628 rows x 13 columns]",
      "text/html": "<div>\n<style scoped>\n    .dataframe tbody tr th:only-of-type {\n        vertical-align: middle;\n    }\n\n    .dataframe tbody tr th {\n        vertical-align: top;\n    }\n\n    .dataframe thead th {\n        text-align: right;\n    }\n</style>\n<table border=\"1\" class=\"dataframe\">\n  <thead>\n    <tr style=\"text-align: right;\">\n      <th></th>\n      <th>Emp_ID</th>\n      <th>Dateofeval</th>\n      <th>Age</th>\n      <th>Salary</th>\n      <th>LastWorkingDate</th>\n      <th>Designation</th>\n      <th>TBV</th>\n      <th>Rating</th>\n      <th>Gender</th>\n      <th>City</th>\n      <th>Education_Level</th>\n      <th>Dateofjoining</th>\n      <th>Join_Designation</th>\n    </tr>\n  </thead>\n  <tbody>\n    <tr>\n      <th>2</th>\n      <td>1</td>\n      <td>2016-03-01</td>\n      <td>28</td>\n      <td>57387,00 USD</td>\n      <td>11.03.2016</td>\n      <td>1</td>\n      <td>0</td>\n      <td>2</td>\n      <td>Male</td>\n      <td>C23</td>\n      <td>Master</td>\n      <td>24.12.2015</td>\n      <td>1</td>\n    </tr>\n    <tr>\n      <th>9</th>\n      <td>4</td>\n      <td>2017-04-01</td>\n      <td>43</td>\n      <td>65603,00 USD</td>\n      <td>27.04.2017</td>\n      <td>2</td>\n      <td>0</td>\n      <td>1</td>\n      <td>Male</td>\n      <td>C13</td>\n      <td>Master</td>\n      <td>07.12.2016</td>\n      <td>2</td>\n    </tr>\n    <tr>\n      <th>12</th>\n      <td>5</td>\n      <td>2016-03-01</td>\n      <td>29</td>\n      <td>46368,00 USD</td>\n      <td>07.03.2016</td>\n      <td>1</td>\n      <td>0</td>\n      <td>1</td>\n      <td>Male</td>\n      <td>C9</td>\n      <td>College</td>\n      <td>09.01.2016</td>\n      <td>1</td>\n    </tr>\n    <tr>\n      <th>20</th>\n      <td>8</td>\n      <td>2017-11-01</td>\n      <td>34</td>\n      <td>70656,00 USD</td>\n      <td>15.11.2017</td>\n      <td>3</td>\n      <td>0</td>\n      <td>1</td>\n      <td>Male</td>\n      <td>C2</td>\n      <td>College</td>\n      <td>19.09.2017</td>\n      <td>3</td>\n    </tr>\n    <tr>\n      <th>27</th>\n      <td>12</td>\n      <td>2016-12-01</td>\n      <td>35</td>\n      <td>28116,00 USD</td>\n      <td>21.12.2016</td>\n      <td>1</td>\n      <td>0</td>\n      <td>1</td>\n      <td>Male</td>\n      <td>C23</td>\n      <td>Master</td>\n      <td>29.06.2016</td>\n      <td>1</td>\n    </tr>\n    <tr>\n      <th>...</th>\n      <td>...</td>\n      <td>...</td>\n      <td>...</td>\n      <td>...</td>\n      <td>...</td>\n      <td>...</td>\n      <td>...</td>\n      <td>...</td>\n      <td>...</td>\n      <td>...</td>\n      <td>...</td>\n      <td>...</td>\n      <td>...</td>\n    </tr>\n    <tr>\n      <th>19161</th>\n      <td>1803</td>\n      <td>2016-07-01</td>\n      <td>34</td>\n      <td>52914,00 USD</td>\n      <td>20.07.2016</td>\n      <td>1</td>\n      <td>0</td>\n      <td>1</td>\n      <td>Male</td>\n      <td>C3</td>\n      <td>Master</td>\n      <td>09.05.2015</td>\n      <td>1</td>\n    </tr>\n    <tr>\n      <th>19167</th>\n      <td>1719</td>\n      <td>2017-02-01</td>\n      <td>46</td>\n      <td>44497,00 USD</td>\n      <td>17.02.2017</td>\n      <td>1</td>\n      <td>311670</td>\n      <td>2</td>\n      <td>Female</td>\n      <td>C3</td>\n      <td>College</td>\n      <td>01.10.2015</td>\n      <td>1</td>\n    </tr>\n    <tr>\n      <th>19168</th>\n      <td>645</td>\n      <td>2016-08-01</td>\n      <td>28</td>\n      <td>110445,00 USD</td>\n      <td>01.08.2016</td>\n      <td>4</td>\n      <td>0</td>\n      <td>1</td>\n      <td>Female</td>\n      <td>C8</td>\n      <td>Master</td>\n      <td>30.03.2016</td>\n      <td>2</td>\n    </tr>\n    <tr>\n      <th>19185</th>\n      <td>2044</td>\n      <td>2017-03-01</td>\n      <td>34</td>\n      <td>38619,00 USD</td>\n      <td>23.03.2017</td>\n      <td>2</td>\n      <td>0</td>\n      <td>1</td>\n      <td>Male</td>\n      <td>C20</td>\n      <td>College</td>\n      <td>15.11.2016</td>\n      <td>2</td>\n    </tr>\n    <tr>\n      <th>19186</th>\n      <td>2651</td>\n      <td>2017-08-01</td>\n      <td>34</td>\n      <td>62292,00 USD</td>\n      <td>29.07.2017</td>\n      <td>2</td>\n      <td>180000</td>\n      <td>1</td>\n      <td>Male</td>\n      <td>C11</td>\n      <td>Master</td>\n      <td>27.06.2016</td>\n      <td>2</td>\n    </tr>\n  </tbody>\n</table>\n<p>1628 rows × 13 columns</p>\n</div>"
     },
     "metadata": {}
    }
   ],
   "execution_count": null
  },
  {
   "cell_type": "code",
   "metadata": {
    "colab": {
     "base_uri": "https://localhost:8080/"
    },
    "id": "0d3dff3d",
    "outputId": "ecd6953f-5a5a-4228-b9cb-2bcef35d8241",
    "cell_id": "00006-a2eb9a13-9cd0-4f40-9288-c7a4de178eed",
    "deepnote_to_be_reexecuted": false,
    "source_hash": "2d699ba8",
    "execution_start": 1649274367879,
    "execution_millis": 8,
    "deepnote_cell_type": "code",
    "deepnote_cell_height": 137.375,
    "deepnote_output_heights": [
     40.375
    ]
   },
   "source": "df.Education_Level.unique()",
   "outputs": [
    {
     "output_type": "execute_result",
     "execution_count": 10,
     "data": {
      "text/plain": "array(['MASTER', 'Master', 'Colege', 'Bachelor', 'College', \"Bachelor's\"],\n      dtype=object)"
     },
     "metadata": {}
    }
   ],
   "execution_count": null
  },
  {
   "cell_type": "markdown",
   "source": "W kolumnie \"Education_Level\" są użyte różne nazwy na te same stopnie edukacji, wieć standaryzują to nazewnictwo",
   "metadata": {
    "id": "RG1pY1hWVRHM",
    "cell_id": "00007-1df94eff-28d0-4325-a09a-0547e8cd37be",
    "deepnote_cell_type": "markdown",
    "deepnote_cell_height": 52.390625
   }
  },
  {
   "cell_type": "code",
   "metadata": {
    "id": "90340cfb",
    "cell_id": "00008-6835e21b-4b42-4a64-8a96-a391f730486c",
    "deepnote_to_be_reexecuted": false,
    "source_hash": "595e53aa",
    "execution_start": 1649274369056,
    "execution_millis": 38,
    "deepnote_cell_type": "code",
    "deepnote_cell_height": 81
   },
   "source": "df = df.replace(to_replace = {'MASTER':'Master', 'Colege':'College', \"Bachelor's\":'Bachelor'})",
   "outputs": [],
   "execution_count": null
  },
  {
   "cell_type": "code",
   "metadata": {
    "colab": {
     "base_uri": "https://localhost:8080/"
    },
    "id": "18de0559",
    "outputId": "ca362cdb-892b-4513-dc4b-a45c40ef7e59",
    "cell_id": "00009-9e28611d-3ecc-4d84-bff7-7bc5f1e87dec",
    "deepnote_to_be_reexecuted": false,
    "source_hash": "de1e323c",
    "execution_start": 1649274370281,
    "execution_millis": 36,
    "deepnote_cell_type": "code",
    "deepnote_cell_height": 495.75
   },
   "source": "df.info()",
   "outputs": [
    {
     "name": "stdout",
     "text": "<class 'pandas.core.frame.DataFrame'>\nRangeIndex: 19190 entries, 0 to 19189\nData columns (total 13 columns):\n #   Column                Non-Null Count  Dtype \n---  ------                --------------  ----- \n 0   Emp_ID                19190 non-null  int64 \n 1   MMM.YY                19190 non-null  object\n 2   Age                   19190 non-null  int64 \n 3   Salary                19190 non-null  object\n 4   LastWorkingDate       1628 non-null   object\n 5   Designation           19190 non-null  int64 \n 6   Total.Business.Value  19190 non-null  int64 \n 7   Quarterly.Rating      19190 non-null  int64 \n 8   Gender                19190 non-null  object\n 9   City                  19190 non-null  object\n 10  Education_Level       19190 non-null  object\n 11  Dateofjoining         19190 non-null  object\n 12  Joining.Designation   19190 non-null  int64 \ndtypes: int64(6), object(7)\nmemory usage: 1.9+ MB\n",
     "output_type": "stream"
    }
   ],
   "execution_count": null
  },
  {
   "cell_type": "code",
   "metadata": {
    "id": "d73e05fc",
    "cell_id": "00010-f74af4b1-7b53-4730-b939-e4cb9a927324",
    "deepnote_to_be_reexecuted": false,
    "source_hash": "1a027bb",
    "execution_start": 1649274371407,
    "execution_millis": 138,
    "deepnote_cell_type": "code",
    "deepnote_cell_height": 288.1875
   },
   "source": "# df.replace( to_replace = {\"Jan\":\"01\",\"Feb\":\"02\",\"Mar\":\"03\",\"Apr\":\"04\",\"May\":\"05\",\"Jun\":\"06\",\"Jul\":\"07\",\"Aug\":\"08\",\"Sep\":\"09\",\"Oct\":\"10\",\"Nov\":\"11\",\"Dec\":\"12\"})\n\n# Zmieniam nazwy kolumn by nie zawerały znaków '.'\ndf.rename(columns = {\"MMM.YY\" : \"Dateofeval\", \"Total.Business.Value\":\"TBV\", \"Quarterly.Rating\":\"Rating\", \"Joining.Designation\":\"Join_Designation\"}, inplace = True)\n\n# MMM.YY , LastWorkingDate oraz Dateofjoining mają typ object więc zmieniam je na typ date\ndf.Dateofeval = pd.to_datetime(df.Dateofeval, format='%d.%m.%Y')\ndf.Dateofjoining = pd.to_datetime(df.Dateofjoining, format='%d.%m.%Y') # W tej kolumnie sa jakies dziwne daty\ndf.LastWorkingDate = pd.to_datetime(df.LastWorkingDate, format='%d.%m.%Y')",
   "outputs": [
    {
     "output_type": "error",
     "ename": "ValueError",
     "evalue": "time data '16.Oct.18' does not match format '%d.%m.%Y' (match)",
     "traceback": [
      "\u001b[0;31m---------------------------------------------------------------------------\u001b[0m",
      "\u001b[0;31mTypeError\u001b[0m                                 Traceback (most recent call last)",
      "\u001b[0;32m/shared-libs/python3.7/py/lib/python3.7/site-packages/pandas/core/tools/datetimes.py\u001b[0m in \u001b[0;36m_convert_listlike_datetimes\u001b[0;34m(arg, format, name, tz, unit, errors, infer_datetime_format, dayfirst, yearfirst, exact)\u001b[0m\n\u001b[1;32m    455\u001b[0m             \u001b[0;32mtry\u001b[0m\u001b[0;34m:\u001b[0m\u001b[0;34m\u001b[0m\u001b[0;34m\u001b[0m\u001b[0m\n\u001b[0;32m--> 456\u001b[0;31m                 \u001b[0mvalues\u001b[0m\u001b[0;34m,\u001b[0m \u001b[0mtz\u001b[0m \u001b[0;34m=\u001b[0m \u001b[0mconversion\u001b[0m\u001b[0;34m.\u001b[0m\u001b[0mdatetime_to_datetime64\u001b[0m\u001b[0;34m(\u001b[0m\u001b[0marg\u001b[0m\u001b[0;34m)\u001b[0m\u001b[0;34m\u001b[0m\u001b[0;34m\u001b[0m\u001b[0m\n\u001b[0m\u001b[1;32m    457\u001b[0m                 \u001b[0mdta\u001b[0m \u001b[0;34m=\u001b[0m \u001b[0mDatetimeArray\u001b[0m\u001b[0;34m(\u001b[0m\u001b[0mvalues\u001b[0m\u001b[0;34m,\u001b[0m \u001b[0mdtype\u001b[0m\u001b[0;34m=\u001b[0m\u001b[0mtz_to_dtype\u001b[0m\u001b[0;34m(\u001b[0m\u001b[0mtz\u001b[0m\u001b[0;34m)\u001b[0m\u001b[0;34m)\u001b[0m\u001b[0;34m\u001b[0m\u001b[0;34m\u001b[0m\u001b[0m\n",
      "\u001b[0;32mpandas/_libs/tslibs/conversion.pyx\u001b[0m in \u001b[0;36mpandas._libs.tslibs.conversion.datetime_to_datetime64\u001b[0;34m()\u001b[0m\n",
      "\u001b[0;31mTypeError\u001b[0m: Unrecognized value type: <class 'str'>",
      "\nDuring handling of the above exception, another exception occurred:\n",
      "\u001b[0;31mValueError\u001b[0m                                Traceback (most recent call last)",
      "\u001b[0;32m<ipython-input-13-9fb1790adba2>\u001b[0m in \u001b[0;36m<module>\u001b[0;34m\u001b[0m\n\u001b[1;32m      6\u001b[0m \u001b[0;31m# MMM.YY , LastWorkingDate oraz Dateofjoining mają typ object więc zmieniam je na typ date\u001b[0m\u001b[0;34m\u001b[0m\u001b[0;34m\u001b[0m\u001b[0;34m\u001b[0m\u001b[0m\n\u001b[1;32m      7\u001b[0m \u001b[0mdf\u001b[0m\u001b[0;34m.\u001b[0m\u001b[0mDateofeval\u001b[0m \u001b[0;34m=\u001b[0m \u001b[0mpd\u001b[0m\u001b[0;34m.\u001b[0m\u001b[0mto_datetime\u001b[0m\u001b[0;34m(\u001b[0m\u001b[0mdf\u001b[0m\u001b[0;34m.\u001b[0m\u001b[0mDateofeval\u001b[0m\u001b[0;34m,\u001b[0m \u001b[0mformat\u001b[0m\u001b[0;34m=\u001b[0m\u001b[0;34m'%d.%m.%Y'\u001b[0m\u001b[0;34m)\u001b[0m\u001b[0;34m\u001b[0m\u001b[0;34m\u001b[0m\u001b[0m\n\u001b[0;32m----> 8\u001b[0;31m \u001b[0mdf\u001b[0m\u001b[0;34m.\u001b[0m\u001b[0mDateofjoining\u001b[0m \u001b[0;34m=\u001b[0m \u001b[0mpd\u001b[0m\u001b[0;34m.\u001b[0m\u001b[0mto_datetime\u001b[0m\u001b[0;34m(\u001b[0m\u001b[0mdf\u001b[0m\u001b[0;34m.\u001b[0m\u001b[0mDateofjoining\u001b[0m\u001b[0;34m,\u001b[0m \u001b[0mformat\u001b[0m\u001b[0;34m=\u001b[0m\u001b[0;34m'%d.%m.%Y'\u001b[0m\u001b[0;34m)\u001b[0m\u001b[0;34m\u001b[0m\u001b[0;34m\u001b[0m\u001b[0m\n\u001b[0m\u001b[1;32m      9\u001b[0m \u001b[0mdf\u001b[0m\u001b[0;34m.\u001b[0m\u001b[0mLastWorkingDate\u001b[0m \u001b[0;34m=\u001b[0m \u001b[0mpd\u001b[0m\u001b[0;34m.\u001b[0m\u001b[0mto_datetime\u001b[0m\u001b[0;34m(\u001b[0m\u001b[0mdf\u001b[0m\u001b[0;34m.\u001b[0m\u001b[0mLastWorkingDate\u001b[0m\u001b[0;34m,\u001b[0m \u001b[0mformat\u001b[0m\u001b[0;34m=\u001b[0m\u001b[0;34m'%d.%m.%Y'\u001b[0m\u001b[0;34m)\u001b[0m\u001b[0;34m\u001b[0m\u001b[0;34m\u001b[0m\u001b[0m\n",
      "\u001b[0;32m/shared-libs/python3.7/py/lib/python3.7/site-packages/pandas/core/tools/datetimes.py\u001b[0m in \u001b[0;36mto_datetime\u001b[0;34m(arg, errors, dayfirst, yearfirst, utc, format, exact, unit, infer_datetime_format, origin, cache)\u001b[0m\n\u001b[1;32m    799\u001b[0m                 \u001b[0mresult\u001b[0m \u001b[0;34m=\u001b[0m \u001b[0mresult\u001b[0m\u001b[0;34m.\u001b[0m\u001b[0mtz_localize\u001b[0m\u001b[0;34m(\u001b[0m\u001b[0mtz\u001b[0m\u001b[0;34m)\u001b[0m\u001b[0;34m\u001b[0m\u001b[0;34m\u001b[0m\u001b[0m\n\u001b[1;32m    800\u001b[0m     \u001b[0;32melif\u001b[0m \u001b[0misinstance\u001b[0m\u001b[0;34m(\u001b[0m\u001b[0marg\u001b[0m\u001b[0;34m,\u001b[0m \u001b[0mABCSeries\u001b[0m\u001b[0;34m)\u001b[0m\u001b[0;34m:\u001b[0m\u001b[0;34m\u001b[0m\u001b[0;34m\u001b[0m\u001b[0m\n\u001b[0;32m--> 801\u001b[0;31m         \u001b[0mcache_array\u001b[0m \u001b[0;34m=\u001b[0m \u001b[0m_maybe_cache\u001b[0m\u001b[0;34m(\u001b[0m\u001b[0marg\u001b[0m\u001b[0;34m,\u001b[0m \u001b[0mformat\u001b[0m\u001b[0;34m,\u001b[0m \u001b[0mcache\u001b[0m\u001b[0;34m,\u001b[0m \u001b[0mconvert_listlike\u001b[0m\u001b[0;34m)\u001b[0m\u001b[0;34m\u001b[0m\u001b[0;34m\u001b[0m\u001b[0m\n\u001b[0m\u001b[1;32m    802\u001b[0m         \u001b[0;32mif\u001b[0m \u001b[0;32mnot\u001b[0m \u001b[0mcache_array\u001b[0m\u001b[0;34m.\u001b[0m\u001b[0mempty\u001b[0m\u001b[0;34m:\u001b[0m\u001b[0;34m\u001b[0m\u001b[0;34m\u001b[0m\u001b[0m\n\u001b[1;32m    803\u001b[0m             \u001b[0mresult\u001b[0m \u001b[0;34m=\u001b[0m \u001b[0marg\u001b[0m\u001b[0;34m.\u001b[0m\u001b[0mmap\u001b[0m\u001b[0;34m(\u001b[0m\u001b[0mcache_array\u001b[0m\u001b[0;34m)\u001b[0m\u001b[0;34m\u001b[0m\u001b[0;34m\u001b[0m\u001b[0m\n",
      "\u001b[0;32m/shared-libs/python3.7/py/lib/python3.7/site-packages/pandas/core/tools/datetimes.py\u001b[0m in \u001b[0;36m_maybe_cache\u001b[0;34m(arg, format, cache, convert_listlike)\u001b[0m\n\u001b[1;32m    176\u001b[0m         \u001b[0munique_dates\u001b[0m \u001b[0;34m=\u001b[0m \u001b[0munique\u001b[0m\u001b[0;34m(\u001b[0m\u001b[0marg\u001b[0m\u001b[0;34m)\u001b[0m\u001b[0;34m\u001b[0m\u001b[0;34m\u001b[0m\u001b[0m\n\u001b[1;32m    177\u001b[0m         \u001b[0;32mif\u001b[0m \u001b[0mlen\u001b[0m\u001b[0;34m(\u001b[0m\u001b[0munique_dates\u001b[0m\u001b[0;34m)\u001b[0m \u001b[0;34m<\u001b[0m \u001b[0mlen\u001b[0m\u001b[0;34m(\u001b[0m\u001b[0marg\u001b[0m\u001b[0;34m)\u001b[0m\u001b[0;34m:\u001b[0m\u001b[0;34m\u001b[0m\u001b[0;34m\u001b[0m\u001b[0m\n\u001b[0;32m--> 178\u001b[0;31m             \u001b[0mcache_dates\u001b[0m \u001b[0;34m=\u001b[0m \u001b[0mconvert_listlike\u001b[0m\u001b[0;34m(\u001b[0m\u001b[0munique_dates\u001b[0m\u001b[0;34m,\u001b[0m \u001b[0mformat\u001b[0m\u001b[0;34m)\u001b[0m\u001b[0;34m\u001b[0m\u001b[0;34m\u001b[0m\u001b[0m\n\u001b[0m\u001b[1;32m    179\u001b[0m             \u001b[0mcache_array\u001b[0m \u001b[0;34m=\u001b[0m \u001b[0mSeries\u001b[0m\u001b[0;34m(\u001b[0m\u001b[0mcache_dates\u001b[0m\u001b[0;34m,\u001b[0m \u001b[0mindex\u001b[0m\u001b[0;34m=\u001b[0m\u001b[0munique_dates\u001b[0m\u001b[0;34m)\u001b[0m\u001b[0;34m\u001b[0m\u001b[0;34m\u001b[0m\u001b[0m\n\u001b[1;32m    180\u001b[0m     \u001b[0;32mreturn\u001b[0m \u001b[0mcache_array\u001b[0m\u001b[0;34m\u001b[0m\u001b[0;34m\u001b[0m\u001b[0m\n",
      "\u001b[0;32m/shared-libs/python3.7/py/lib/python3.7/site-packages/pandas/core/tools/datetimes.py\u001b[0m in \u001b[0;36m_convert_listlike_datetimes\u001b[0;34m(arg, format, name, tz, unit, errors, infer_datetime_format, dayfirst, yearfirst, exact)\u001b[0m\n\u001b[1;32m    458\u001b[0m                 \u001b[0;32mreturn\u001b[0m \u001b[0mDatetimeIndex\u001b[0m\u001b[0;34m.\u001b[0m\u001b[0m_simple_new\u001b[0m\u001b[0;34m(\u001b[0m\u001b[0mdta\u001b[0m\u001b[0;34m,\u001b[0m \u001b[0mname\u001b[0m\u001b[0;34m=\u001b[0m\u001b[0mname\u001b[0m\u001b[0;34m)\u001b[0m\u001b[0;34m\u001b[0m\u001b[0;34m\u001b[0m\u001b[0m\n\u001b[1;32m    459\u001b[0m             \u001b[0;32mexcept\u001b[0m \u001b[0;34m(\u001b[0m\u001b[0mValueError\u001b[0m\u001b[0;34m,\u001b[0m \u001b[0mTypeError\u001b[0m\u001b[0;34m)\u001b[0m\u001b[0;34m:\u001b[0m\u001b[0;34m\u001b[0m\u001b[0;34m\u001b[0m\u001b[0m\n\u001b[0;32m--> 460\u001b[0;31m                 \u001b[0;32mraise\u001b[0m \u001b[0me\u001b[0m\u001b[0;34m\u001b[0m\u001b[0;34m\u001b[0m\u001b[0m\n\u001b[0m\u001b[1;32m    461\u001b[0m \u001b[0;34m\u001b[0m\u001b[0m\n\u001b[1;32m    462\u001b[0m     \u001b[0;32mif\u001b[0m \u001b[0mresult\u001b[0m \u001b[0;32mis\u001b[0m \u001b[0;32mNone\u001b[0m\u001b[0;34m:\u001b[0m\u001b[0;34m\u001b[0m\u001b[0;34m\u001b[0m\u001b[0m\n",
      "\u001b[0;32m/shared-libs/python3.7/py/lib/python3.7/site-packages/pandas/core/tools/datetimes.py\u001b[0m in \u001b[0;36m_convert_listlike_datetimes\u001b[0;34m(arg, format, name, tz, unit, errors, infer_datetime_format, dayfirst, yearfirst, exact)\u001b[0m\n\u001b[1;32m    422\u001b[0m                 \u001b[0;32mtry\u001b[0m\u001b[0;34m:\u001b[0m\u001b[0;34m\u001b[0m\u001b[0;34m\u001b[0m\u001b[0m\n\u001b[1;32m    423\u001b[0m                     result, timezones = array_strptime(\n\u001b[0;32m--> 424\u001b[0;31m                         \u001b[0marg\u001b[0m\u001b[0;34m,\u001b[0m \u001b[0mformat\u001b[0m\u001b[0;34m,\u001b[0m \u001b[0mexact\u001b[0m\u001b[0;34m=\u001b[0m\u001b[0mexact\u001b[0m\u001b[0;34m,\u001b[0m \u001b[0merrors\u001b[0m\u001b[0;34m=\u001b[0m\u001b[0merrors\u001b[0m\u001b[0;34m\u001b[0m\u001b[0;34m\u001b[0m\u001b[0m\n\u001b[0m\u001b[1;32m    425\u001b[0m                     )\n\u001b[1;32m    426\u001b[0m                     \u001b[0;32mif\u001b[0m \u001b[0;34m\"%Z\"\u001b[0m \u001b[0;32min\u001b[0m \u001b[0mformat\u001b[0m \u001b[0;32mor\u001b[0m \u001b[0;34m\"%z\"\u001b[0m \u001b[0;32min\u001b[0m \u001b[0mformat\u001b[0m\u001b[0;34m:\u001b[0m\u001b[0;34m\u001b[0m\u001b[0;34m\u001b[0m\u001b[0m\n",
      "\u001b[0;32mpandas/_libs/tslibs/strptime.pyx\u001b[0m in \u001b[0;36mpandas._libs.tslibs.strptime.array_strptime\u001b[0;34m()\u001b[0m\n",
      "\u001b[0;31mValueError\u001b[0m: time data '16.Oct.18' does not match format '%d.%m.%Y' (match)"
     ]
    }
   ],
   "execution_count": null
  },
  {
   "cell_type": "code",
   "metadata": {
    "id": "3c370d23",
    "cell_id": "00011-a963e676-092f-4438-b62b-13c7fbd82761",
    "deepnote_to_be_reexecuted": true,
    "source_hash": "f044b48d",
    "deepnote_cell_type": "code",
    "deepnote_cell_height": 117
   },
   "source": "# Sprawdzam brakujące wartości\n\ndf.isna().sum()",
   "execution_count": null,
   "outputs": []
  },
  {
   "cell_type": "code",
   "metadata": {
    "id": "65f6622e",
    "cell_id": "00012-2f9bcf98-aebf-4bba-ad9b-b784cd8d1e1e",
    "deepnote_to_be_reexecuted": true,
    "source_hash": "57954f14",
    "deepnote_cell_type": "code",
    "deepnote_cell_height": 135
   },
   "source": "# Jedyne to te od pracowników którzy nie odeszli, czyli nie ma żadnych wartości brakujących do uzupełnienia\n\n# Zmieniam typ danych 'Salary;\ndf.Salary = df.Salary.replace(to_replace = {' USD':'',',':'.'}, regex = True).astype(float)",
   "execution_count": null,
   "outputs": []
  },
  {
   "cell_type": "code",
   "metadata": {
    "id": "459fc764",
    "cell_id": "00013-5318e0e8-f3df-4f5c-9e6d-da5e0ebdf400",
    "deepnote_to_be_reexecuted": true,
    "source_hash": "f804c160",
    "deepnote_cell_type": "code",
    "deepnote_cell_height": 81
   },
   "source": "df",
   "execution_count": null,
   "outputs": []
  },
  {
   "cell_type": "code",
   "metadata": {
    "id": "RDI8mrCW-4y8",
    "cell_id": "00014-fce62e09-1cef-4790-b72f-cf97543bf264",
    "deepnote_to_be_reexecuted": true,
    "source_hash": "ec1e2997",
    "deepnote_cell_type": "code",
    "deepnote_cell_height": 81
   },
   "source": "df.loc[4,\"Dateofeval\"]",
   "execution_count": null,
   "outputs": []
  },
  {
   "cell_type": "code",
   "metadata": {
    "id": "e692fbd8",
    "cell_id": "00015-21404490-5530-4a82-b354-5637b01c61be",
    "deepnote_to_be_reexecuted": true,
    "source_hash": "96a587bd",
    "deepnote_cell_type": "code",
    "deepnote_cell_height": 99
   },
   "source": "# Ile pracowników jest w zbiorze danych\nlen(df.Emp_ID.unique())",
   "execution_count": null,
   "outputs": []
  },
  {
   "cell_type": "code",
   "metadata": {
    "id": "NNblhqVHx1hK",
    "cell_id": "00016-904453b1-42a7-4af8-8c28-76ce1fcf9a7b",
    "deepnote_to_be_reexecuted": true,
    "source_hash": "d8092e5e",
    "deepnote_cell_type": "code",
    "deepnote_cell_height": 117
   },
   "source": "# Tworzę nowy DataFrame gdzie znajduje się jeden rekord dla każdego pracownika z najpóźniejszą datą w Dateofeval - czyli najświeższa ewaluacja\n\nlatest_eval = df.sort_values(\"Dateofeval\", ascending = False).drop_duplicates(\"Emp_ID\")",
   "execution_count": null,
   "outputs": []
  },
  {
   "cell_type": "code",
   "metadata": {
    "id": "MMnncuWa30vu",
    "cell_id": "00017-ed0df114-afa2-4735-a5de-e59ca238d03b",
    "deepnote_to_be_reexecuted": true,
    "source_hash": "8628340e",
    "deepnote_cell_type": "code",
    "deepnote_cell_height": 81
   },
   "source": "latest_eval",
   "execution_count": null,
   "outputs": []
  },
  {
   "cell_type": "code",
   "metadata": {
    "id": "ayK0Ehxh4qo7",
    "cell_id": "00018-6c383cbe-8e65-44e3-acb0-ae683381789d",
    "deepnote_to_be_reexecuted": true,
    "source_hash": "32569d8",
    "deepnote_cell_type": "code",
    "deepnote_cell_height": 81
   },
   "source": "len(latest_eval)",
   "execution_count": null,
   "outputs": []
  },
  {
   "cell_type": "code",
   "metadata": {
    "id": "WhVRSC2X8edt",
    "cell_id": "00019-65ec7c71-ef18-40b2-800f-04c4737bd440",
    "deepnote_to_be_reexecuted": true,
    "source_hash": "c60f632b",
    "deepnote_cell_type": "code",
    "deepnote_cell_height": 99
   },
   "source": "# Tworzę nową kolumnę z ilością przepracowanych dni - na razie są tam tylko dane dla pracowników którzy opuścili firmę\nlatest_eval.loc[:,\"WorkDays\"] = latest_eval.LastWorkingDate - latest_eval.Dateofjoining",
   "execution_count": null,
   "outputs": []
  },
  {
   "cell_type": "code",
   "metadata": {
    "id": "5uvhcu0m8ulE",
    "cell_id": "00020-42008ec1-8e65-4557-97cc-91e2941a9545",
    "deepnote_to_be_reexecuted": true,
    "source_hash": "a111e043",
    "deepnote_cell_type": "code",
    "deepnote_cell_height": 117
   },
   "source": "latest_eval = latest_eval.sort_index()\n# Dodaję nową kolumnę - 1 jeśli pracownik odszedł, 0 jeśli nie odszedł\nlatest_eval.loc[:,\"IfLeft\"] = latest_eval.LastWorkingDate.notna().astype(int)",
   "execution_count": null,
   "outputs": []
  },
  {
   "cell_type": "code",
   "metadata": {
    "id": "rKEz7IsN9U_b",
    "cell_id": "00021-251b84d6-b08a-4fa7-ab30-5107a4913c00",
    "deepnote_to_be_reexecuted": true,
    "source_hash": "e05f34b6",
    "deepnote_cell_type": "code",
    "deepnote_cell_height": 117
   },
   "source": "# Wpisuję w WorkDays wartości dla pracowników którzy nie opuścili firmy (wpisuje tam czas od dolączenia do dnia ostatniej ewaluacji)\nlatest_eval.WorkDays.fillna(latest_eval.loc[:,\"Dateofeval\"] - latest_eval.loc[:,\"Dateofjoining\"], inplace = True)\nlatest_eval",
   "execution_count": null,
   "outputs": []
  },
  {
   "cell_type": "code",
   "metadata": {
    "id": "sEFcU5If-KsB",
    "cell_id": "00022-d18bcca0-fb72-424a-b4e0-37004283ac87",
    "deepnote_to_be_reexecuted": true,
    "source_hash": "587368fe",
    "deepnote_cell_type": "code",
    "deepnote_cell_height": 99
   },
   "source": "# Zmieniam typ danych z timedelta na int\nlatest_eval.WorkDays = latest_eval.WorkDays.dt.days",
   "execution_count": null,
   "outputs": []
  },
  {
   "cell_type": "code",
   "metadata": {
    "id": "8e6jDo3mB7aE",
    "cell_id": "00023-a57731cf-5d6b-40f4-a164-a34c026bba72",
    "deepnote_to_be_reexecuted": true,
    "source_hash": "2b1fa7bc",
    "deepnote_cell_type": "code",
    "deepnote_cell_height": 99
   },
   "source": "f = sns.FacetGrid(latest_eval, col = \"IfLeft\")\nf.map(plt.hist, \"WorkDays\", bins = 20)",
   "execution_count": null,
   "outputs": []
  },
  {
   "cell_type": "code",
   "metadata": {
    "id": "nXmb0iMt58Ll",
    "cell_id": "00024-bf1ea7d9-586a-46a6-9cc5-3c165e4dfcf4",
    "deepnote_to_be_reexecuted": true,
    "source_hash": "ad4e9daa",
    "deepnote_cell_type": "code",
    "deepnote_cell_height": 153
   },
   "source": "# Tworzę nową kolumnę z sumą TBV ze wszystkich miesięcy w których pracownik był ewaluowane\n\nvaluesum = df.groupby(\"Emp_ID\")[\"TBV\"].sum().reset_index()\nvaluesum.rename(columns = {\"TBV\" : \"ValueSum\"}, inplace = True)\nlatest_eval = latest_eval.merge(valuesum, how = \"left\", on = \"Emp_ID\")",
   "execution_count": null,
   "outputs": []
  },
  {
   "cell_type": "code",
   "metadata": {
    "id": "KuFJIm2K70qR",
    "cell_id": "00025-dfb7e718-d949-4bbd-8fca-512c544f262c",
    "deepnote_to_be_reexecuted": true,
    "source_hash": "8628340e",
    "deepnote_cell_type": "code",
    "deepnote_cell_height": 81
   },
   "source": "latest_eval",
   "execution_count": null,
   "outputs": []
  },
  {
   "cell_type": "code",
   "metadata": {
    "id": "V-kzQ5Ua9cPI",
    "cell_id": "00026-58387bfa-2f19-48a6-81a3-23ef20594281",
    "deepnote_to_be_reexecuted": true,
    "source_hash": "b623e53d",
    "deepnote_cell_type": "code",
    "deepnote_cell_height": 81
   },
   "source": "",
   "execution_count": null,
   "outputs": []
  },
  {
   "cell_type": "markdown",
   "source": "<a style='text-decoration:none;line-height:16px;display:flex;color:#5B5B62;padding:10px;justify-content:end;' href='https://deepnote.com?utm_source=created-in-deepnote-cell&projectId=d5c0f37b-1962-40a3-8c5f-0185a7161b95' target=\"_blank\">\n<img alt='Created in deepnote.com' style='display:inline;max-height:16px;margin:0px;margin-right:7.5px;' src='data:image/svg+xml;base64,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' > </img>\nCreated in <span style='font-weight:600;margin-left:4px;'>Deepnote</span></a>",
   "metadata": {
    "tags": [],
    "created_in_deepnote_cell": true,
    "deepnote_cell_type": "markdown"
   }
  }
 ],
 "nbformat": 4,
 "nbformat_minor": 5,
 "metadata": {
  "kernelspec": {
   "display_name": "Python 3 (ipykernel)",
   "language": "python",
   "name": "python3"
  },
  "language_info": {
   "codemirror_mode": {
    "name": "ipython",
    "version": 3
   },
   "file_extension": ".py",
   "mimetype": "text/x-python",
   "name": "python",
   "nbconvert_exporter": "python",
   "pygments_lexer": "ipython3",
   "version": "3.9.7"
  },
  "colab": {
   "name": "EDA.ipynb",
   "provenance": [],
   "collapsed_sections": []
  },
  "deepnote_notebook_id": "5363f8e6-ed31-4126-82c6-ba9d2effd0c4",
  "deepnote": {},
  "deepnote_execution_queue": []
 }
}